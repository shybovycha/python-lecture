{
 "metadata": {
  "name": "",
  "signature": "sha256:35cb76e3c58f6eb0dce75c896e4a93723535693a26a211aeacb9caa37469c883"
 },
 "nbformat": 3,
 "nbformat_minor": 0,
 "worksheets": [
  {
   "cells": [
    {
     "cell_type": "heading",
     "level": 2,
     "metadata": {},
     "source": [
      "J\u0119zyk Python - Laboratorium 4."
     ]
    },
    {
     "cell_type": "heading",
     "level": 2,
     "metadata": {},
     "source": [
      "ZADANIA"
     ]
    },
    {
     "cell_type": "markdown",
     "metadata": {},
     "source": [
      "Napisz manager kontekstu, kt\u00f3ry zapisze do pliku podanego w argumencie czas wykonwania si\u0119 tego bloku kodu. Przydatny b\u0119dzie modu\u0142 `time` oraz funkcja `open`"
     ]
    },
    {
     "cell_type": "code",
     "collapsed": false,
     "input": [
      "from time import sleep, time\n",
      "import os\n",
      "\n",
      "class LoggingTime(object):    \n",
      "    pass\n",
      "\n",
      "for valid in range(6):\n",
      "    \n",
      "    with LoggingTime('tmp.txt'):\n",
      "        sleep(valid)\n",
      "        \n",
      "    with open('tmp.txt') as fh:\n",
      "        value = float(fh.read())\n",
      "        print('Took %fs, should take %ds, is it ok? %s' % (value, valid, round(value) == round(valid)))\n",
      "        \n",
      "    os.remove('tmp.txt')"
     ],
     "language": "python",
     "metadata": {},
     "outputs": [
      {
       "ename": "TypeError",
       "evalue": "object() takes no parameters",
       "output_type": "pyerr",
       "traceback": [
        "\u001b[1;31m---------------------------------------------------------------------------\u001b[0m\n\u001b[1;31mTypeError\u001b[0m                                 Traceback (most recent call last)",
        "\u001b[1;32m<ipython-input-1-9d1e90d59d17>\u001b[0m in \u001b[0;36m<module>\u001b[1;34m()\u001b[0m\n\u001b[0;32m      8\u001b[0m \u001b[1;32mfor\u001b[0m \u001b[0mvalid\u001b[0m \u001b[1;32min\u001b[0m \u001b[0mrange\u001b[0m\u001b[1;33m(\u001b[0m\u001b[1;36m6\u001b[0m\u001b[1;33m)\u001b[0m\u001b[1;33m:\u001b[0m\u001b[1;33m\u001b[0m\u001b[0m\n\u001b[0;32m      9\u001b[0m \u001b[1;33m\u001b[0m\u001b[0m\n\u001b[1;32m---> 10\u001b[1;33m     \u001b[1;32mwith\u001b[0m \u001b[0mLoggingTime\u001b[0m\u001b[1;33m(\u001b[0m\u001b[1;34m'tmp.txt'\u001b[0m\u001b[1;33m)\u001b[0m\u001b[1;33m:\u001b[0m\u001b[1;33m\u001b[0m\u001b[0m\n\u001b[0m\u001b[0;32m     11\u001b[0m         \u001b[0msleep\u001b[0m\u001b[1;33m(\u001b[0m\u001b[0mvalid\u001b[0m\u001b[1;33m)\u001b[0m\u001b[1;33m\u001b[0m\u001b[0m\n\u001b[0;32m     12\u001b[0m \u001b[1;33m\u001b[0m\u001b[0m\n",
        "\u001b[1;31mTypeError\u001b[0m: object() takes no parameters"
       ]
      }
     ],
     "prompt_number": 1
    },
    {
     "cell_type": "markdown",
     "metadata": {},
     "source": [
      "Napisz manager kontekstu, kt\u00f3ry sprawi, \u017ce funkcja generuj\u0105ca kolejne liczby fibonnaciego \"przesunie\" si\u0119 o zadan\u0105 liczb\u0119 pozycji na czas kontekstu. Po wyj\u015bciu z kontekstu powinna wraca\u0107 do wyj\u015bciowego stanu. Innymi slowy, chcemy m\u00f3c w obr\u0119bie \"with\" pracowac z liczbami fibonnaciego o k dalszymi, ale po skonczeniu si\u0119 \"with\" chcemy \u017ceby wyj\u015bciowa zmienna by\u0142a nienaruszona. Manager powinien dzia\u0142a\u0107 z dowoln\u0105 klas\u0105, kt\u00f3ra posiada metod\u0119 \"next_value\"."
     ]
    },
    {
     "cell_type": "code",
     "collapsed": false,
     "input": [
      "class Fibonnaci(object):\n",
      "    \n",
      "    def __init__(self):\n",
      "        self.fib = 0\n",
      "        self.last = -1           \n",
      "        \n",
      "    def next_value(self):\n",
      "        if self.last == -1:\n",
      "            self.last = 0\n",
      "            self.fib = 1\n",
      "        else:\n",
      "            self.last, self.fib = self.fib, self.fib + self.last\n",
      "        return self.fib\n",
      "    \n",
      "    def current_value(self):\n",
      "        return self.fib\n",
      "    \n",
      "class Shifted(object):\n",
      "    \n",
      "    pass\n",
      "    \n",
      "F = Fibonnaci()\n",
      "x = F.next_value()\n",
      "\n",
      "with Shifted(F, 0) as fib:\n",
      "    for i, v in zip(range(1, 10), [1,  2, 3, 5, 8, 13, 21, 34, 55]):\n",
      "        f = fib.next_value()\n",
      "        print(\"Iteration %d\\t Value %d \\t Valid %s\" % (i, f, f == v))\n",
      "\n",
      "# Teraz F powinno dalej wskazywac na x\n",
      "print('Is F still correct? %s' % (x == F.current_value()))\n",
      "\n",
      "with Shifted(F, 9) as fib:\n",
      "    for i, v in zip(range(1, 10), [89, 144, 233, 377, 610, 987, 1597, 2584, 4181]):\n",
      "        f = fib.next_value()\n",
      "        print(\"Iteration %d\\t Value %d \\t Valid %s\" % (i, f, f == v))\n",
      "               "
     ],
     "language": "python",
     "metadata": {},
     "outputs": [
      {
       "ename": "TypeError",
       "evalue": "object() takes no parameters",
       "output_type": "pyerr",
       "traceback": [
        "\u001b[1;31m---------------------------------------------------------------------------\u001b[0m\n\u001b[1;31mTypeError\u001b[0m                                 Traceback (most recent call last)",
        "\u001b[1;32m<ipython-input-3-fb141a16cea7>\u001b[0m in \u001b[0;36m<module>\u001b[1;34m()\u001b[0m\n\u001b[0;32m     23\u001b[0m \u001b[0mx\u001b[0m \u001b[1;33m=\u001b[0m \u001b[0mF\u001b[0m\u001b[1;33m.\u001b[0m\u001b[0mnext_value\u001b[0m\u001b[1;33m(\u001b[0m\u001b[1;33m)\u001b[0m\u001b[1;33m\u001b[0m\u001b[0m\n\u001b[0;32m     24\u001b[0m \u001b[1;33m\u001b[0m\u001b[0m\n\u001b[1;32m---> 25\u001b[1;33m \u001b[1;32mwith\u001b[0m \u001b[0mShifted\u001b[0m\u001b[1;33m(\u001b[0m\u001b[0mF\u001b[0m\u001b[1;33m,\u001b[0m \u001b[1;36m0\u001b[0m\u001b[1;33m)\u001b[0m \u001b[1;32mas\u001b[0m \u001b[0mfib\u001b[0m\u001b[1;33m:\u001b[0m\u001b[1;33m\u001b[0m\u001b[0m\n\u001b[0m\u001b[0;32m     26\u001b[0m     \u001b[1;32mfor\u001b[0m \u001b[0mi\u001b[0m\u001b[1;33m,\u001b[0m \u001b[0mv\u001b[0m \u001b[1;32min\u001b[0m \u001b[0mzip\u001b[0m\u001b[1;33m(\u001b[0m\u001b[0mrange\u001b[0m\u001b[1;33m(\u001b[0m\u001b[1;36m1\u001b[0m\u001b[1;33m,\u001b[0m \u001b[1;36m10\u001b[0m\u001b[1;33m)\u001b[0m\u001b[1;33m,\u001b[0m \u001b[1;33m[\u001b[0m\u001b[1;36m1\u001b[0m\u001b[1;33m,\u001b[0m  \u001b[1;36m2\u001b[0m\u001b[1;33m,\u001b[0m \u001b[1;36m3\u001b[0m\u001b[1;33m,\u001b[0m \u001b[1;36m5\u001b[0m\u001b[1;33m,\u001b[0m \u001b[1;36m8\u001b[0m\u001b[1;33m,\u001b[0m \u001b[1;36m13\u001b[0m\u001b[1;33m,\u001b[0m \u001b[1;36m21\u001b[0m\u001b[1;33m,\u001b[0m \u001b[1;36m34\u001b[0m\u001b[1;33m,\u001b[0m \u001b[1;36m55\u001b[0m\u001b[1;33m]\u001b[0m\u001b[1;33m)\u001b[0m\u001b[1;33m:\u001b[0m\u001b[1;33m\u001b[0m\u001b[0m\n\u001b[0;32m     27\u001b[0m         \u001b[0mf\u001b[0m \u001b[1;33m=\u001b[0m \u001b[0mfib\u001b[0m\u001b[1;33m.\u001b[0m\u001b[0mnext_value\u001b[0m\u001b[1;33m(\u001b[0m\u001b[1;33m)\u001b[0m\u001b[1;33m\u001b[0m\u001b[0m\n",
        "\u001b[1;31mTypeError\u001b[0m: object() takes no parameters"
       ]
      }
     ],
     "prompt_number": 3
    },
    {
     "cell_type": "markdown",
     "metadata": {},
     "source": [
      "Napisz klas\u0119\u00a0\"Bag of words\", kt\u00f3ra b\u0119dzie \"workiem s\u0142\u00f3w\" z zadanego dokumentu. Oznacza to, \u017ce ma w sobie przechowywa\u0107 informacje o tym ile razy ka\u017cde s\u0142owo wyst\u0105pi\u0142o w dokumencie. Dodatkowo ma udost\u0119pnia\u0107 nast\u0119puj\u0105c\u0105\u00a0funkcjonalno\u015b\u0107:\n",
      "\n",
      "* Mo\u017cna utworzy\u0107 go na dwa sposoby:\n",
      "\n",
      "         bow = BagOfWords(\"ala ma kota ala ma ala\")\n",
      "         bow = BagOfWords(open(\"plik.txt\"))\n",
      "         \n",
      "* Mo\u017cliwo\u015b\u0107 wy\u015bwietlania go po prostu pisz\u0105c `print(bow)` (kolejno\u015b\u0107 taka sama jak przy przegl\u0105daniu forem)\n",
      "\n",
      "        ala:3, ma:2, kota:1\n",
      "\n",
      "* Sprawdzanie czy jakie\u015b s\u0142owo nale\u017cy do naszego worka pisz\u0105c \n",
      "\n",
      "        if 'ala' in bow:\n",
      "            ...\n",
      "            \n",
      "* Przegl\u0105danie s\u0142\u00f3w w worku od najcz\u0119\u015bciej do najrzadziej wyst\u0119puj\u0105cego, czyli\n",
      "\n",
      "        for word in bow:\n",
      "            print(word)\n",
      "     \n",
      "  powinni\u015bmy zobaczy\u0107 \n",
      "  \n",
      "        ala\n",
      "        ma\n",
      "        kota\n",
      "        \n",
      "* Mo\u017cliwo\u015b\u0107 dodawania dw\u00f3ch work\u00f3w, pisz\u0105c\n",
      "\n",
      "        bow1 = BagOfWords(\"ala ma kota ala ma ala\")\n",
      "        bow2 = BagOfWords(\"tomek tez ma kota\")\n",
      "        bow3 = bow1 + bow2\n",
      "        print('tomek' in bow1) # False\n",
      "        print('tomek' in bow3) # True\n",
      "        print('ala' in bow3) # True\n",
      "        print(bow3) # ala:3, ma:3, kota:2, tez:1, tomek:1\n",
      "        \n",
      "* Odczytywanie cz\u0119sto\u015bci wyst\u0105pie\u0144 s\u0142\u00f3w poprzez nawiasy kwadratowe \n",
      "\n",
      "        print(bow1[\"ala\"]) # 3\n",
      "        print(bow3[\"ala\"]) # 3\n",
      "\n",
      "* Aktualizacj\u0119 cze\u015bto\u015bci wyst\u0105pie\u0144\n",
      "\n",
      "        bow3['tomek'] = 10\n",
      "        for el in bow3:\n",
      "            print el\n",
      "            \n",
      "  powinno wy\u015bwietli\u0107 najpierw \"tomek\""
     ]
    },
    {
     "cell_type": "code",
     "collapsed": false,
     "input": [
      "class BagOfWords:\n",
      "    \n",
      "    pass\n",
      "    "
     ],
     "language": "python",
     "metadata": {},
     "outputs": [
      {
       "ename": "TypeError",
       "evalue": "this constructor takes no arguments",
       "output_type": "pyerr",
       "traceback": [
        "\u001b[1;31m---------------------------------------------------------------------------\u001b[0m\n\u001b[1;31mTypeError\u001b[0m                                 Traceback (most recent call last)",
        "\u001b[1;32m<ipython-input-7-3e733910d78f>\u001b[0m in \u001b[0;36m<module>\u001b[1;34m()\u001b[0m\n\u001b[0;32m      3\u001b[0m     \u001b[1;32mpass\u001b[0m\u001b[1;33m\u001b[0m\u001b[0m\n\u001b[0;32m      4\u001b[0m \u001b[1;33m\u001b[0m\u001b[0m\n\u001b[1;32m----> 5\u001b[1;33m \u001b[0mbow\u001b[0m \u001b[1;33m=\u001b[0m \u001b[0mBagOfWords\u001b[0m\u001b[1;33m(\u001b[0m\u001b[1;34m\"ala ma kota ala ma ala\"\u001b[0m\u001b[1;33m)\u001b[0m\u001b[1;33m\u001b[0m\u001b[0m\n\u001b[0m\u001b[0;32m      6\u001b[0m \u001b[1;32mprint\u001b[0m\u001b[1;33m(\u001b[0m\u001b[1;34m'ala'\u001b[0m \u001b[1;32min\u001b[0m \u001b[0mbow\u001b[0m\u001b[1;33m)\u001b[0m \u001b[1;31m# True\u001b[0m\u001b[1;33m\u001b[0m\u001b[0m\n\u001b[0;32m      7\u001b[0m \u001b[1;32mprint\u001b[0m\u001b[1;33m(\u001b[0m\u001b[1;33m)\u001b[0m\u001b[1;33m\u001b[0m\u001b[0m\n",
        "\u001b[1;31mTypeError\u001b[0m: this constructor takes no arguments"
       ]
      }
     ],
     "prompt_number": 7
    },
    {
     "cell_type": "markdown",
     "metadata": {},
     "source": [
      "Napisz klas\u0119 pochodn\u0105 o nazwie `SetOfWords`, kt\u00f3ra zapami\u0119tuje jedynie kt\u00f3re s\u0142owa wyst\u0105pi\u0142y, bez zliczania ile razy. Powinno zmieni\u0107 si\u0119 wy\u015bwietlanie (zamiast 'ala:3, ma:2, kota:1' powinni\u015bmy zobaczy\u0107 'ala, ma, kota'), postaraj si\u0119\u00a0napisa\u0107 j\u0105 jak najwydaniej, z kt\u00f3rych element\u00f3w obecnych wewn\u0105trz klasy `BagOfWords` mo\u017cesz zrezygnowa\u0107? Dlaczego? Jak du\u017co kodu musisz zmodyfikowa\u0107 by mie\u0107 z jednej strony poprawn\u0105 implementacj\u0119 a z drugiej jak najmniej zmieni\u0107 klasy bazowej?"
     ]
    },
    {
     "cell_type": "code",
     "collapsed": false,
     "input": [
      "class SetOfWords(BagOfWords):\n",
      "    \n",
      "    pass"
     ],
     "language": "python",
     "metadata": {},
     "outputs": []
    },
    {
     "cell_type": "markdown",
     "metadata": {},
     "source": [
      "**Zadanie dodatkowe**\n",
      "\n",
      "Przer\u00f3b implementacj\u0119 `BagOfWords` na `BagOfPairsOfWords`, gdzie zamiast przechowywa\u0107 liczno\u015b\u0107 pojedynczych s\u0142\u00f3w, przechowuj jak wiele razy wyst\u0105pi\u0142y obok siebie pary s\u0142\u00f3w, np.\n",
      "\n",
      "        \"ala ma kota ala ma psa\"\n",
      "        \n",
      "zawiera nast\u0119puj\u0105ce pary:\n",
      "\n",
      "        (None, 'ala'): 1\n",
      "        ('ala', 'ma'): 2\n",
      "        ('ma', 'kota'): 1\n",
      "        ('kota', 'ala'): 1\n",
      "        ('ma', 'psa'): 1\n",
      "        ('psa', None): 1\n",
      "        \n",
      "Powinny dzia\u0142a\u0107 wszystkie funkcjonalno\u015bci `BagOfWords`, po prostu pracujemy na parach, czyli np.\n",
      "\n",
      "        bopow = BagOfPairsOfWords('ala ma kota ala ma psa')\n",
      "        bopow[('ala', 'ma')] == 2\n",
      "        ('ala', 'ma') in bopow\n",
      "        for word1, word2 in bopow:\n",
      "            print(word1, word2, bopow[(word1, word2)])\n",
      "            \n",
      "Dodatkowo je\u015bli u\u017cytkownik poprosi o s\u0142owo, zamiast o par\u0119 to powinien dosta\u0107 wszystkie s\u0142owa, z kt\u00f3rymi zadane wyst\u0119puje w parze, czyli np.\n",
      "\n",
      "        for word in bopow['ala']:\n",
      "            print word, bopow[('ala', word)]\n",
      "            \n",
      "wy\u015bwietla \n",
      "\n",
      "        ma, 2\n"
     ]
    },
    {
     "cell_type": "code",
     "collapsed": false,
     "input": [],
     "language": "python",
     "metadata": {},
     "outputs": []
    }
   ],
   "metadata": {}
  }
 ]
}