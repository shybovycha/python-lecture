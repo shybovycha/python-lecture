{
 "metadata": {
  "name": "",
  "signature": "sha256:35cb76e3c58f6eb0dce75c896e4a93723535693a26a211aeacb9caa37469c883"
 },
 "nbformat": 3,
 "nbformat_minor": 0,
 "worksheets": [
  {
   "cells": [
    {
     "cell_type": "heading",
     "level": 2,
     "metadata": {},
     "source": [
      "J\u0119zyk Python - Laboratorium 5."
     ]
    },
    {
     "cell_type": "heading",
     "level": 2,
     "metadata": {},
     "source": [
      "ZADANIA"
     ]
    },
    {
     "cell_type": "markdown",
     "metadata": {},
     "source": [
      "0.Przejd\u017a 15 zada\u0144 ze strony http://regexone.com/"
     ]
    },
    {
     "cell_type": "markdown",
     "metadata": {},
     "source": [
      "1.Napisz program, kt\u00f3ry (u\u017cywaj\u0105c wyra\u017ce\u0144 regularnych) przefiltruje plik `atoms.log` tak by pozosta\u0142y jedynie linie dot. bezproblemowego przebiegu eksperymentu.\n",
      "\n",
      "czyli np. powinny zosta\u0107 odrzucone takie linie jak\n",
      "\n",
      "    RUN 000039 COMPLETED. OUTPUT IN FILE yttrium.dat. 1 UNDERFLOW WARNING.\n",
      "\n",
      "czy\n",
      "\n",
      "    RUN 000058 COMPLETED. OUTPUT IN FILE cerium.dat. ALGORITHM DID NOT CONVERGE AFTER 100000 ITERATIONS.\n",
      "    \n",
      "mo\u017cna jedynie za\u0142o\u017cy\u0107, \u017ce ka\u017cda linijka pasuje do poni\u017cszego schematu\n",
      "\n",
      "    RUN [[NUMER Z DOK\u0141ADNIE 6 CYFR]] COMPLETED. OUTPUT IN FILE [[NAZWA]].dat. [[COKOLWIEK]]"
     ]
    },
    {
     "cell_type": "code",
     "collapsed": false,
     "input": [
      "pattern = ...\n",
      "\n",
      "with open('atoms.log') as atoms:\n",
      "    for line in atoms:\n",
      "        if ........:\n",
      "            print line"
     ],
     "language": "python",
     "metadata": {},
     "outputs": [
      {
       "ename": "SyntaxError",
       "evalue": "invalid syntax (<ipython-input-1-59671660c507>, line 1)",
       "output_type": "pyerr",
       "traceback": [
        "\u001b[1;36m  File \u001b[1;32m\"<ipython-input-1-59671660c507>\"\u001b[1;36m, line \u001b[1;32m1\u001b[0m\n\u001b[1;33m    pattern = ...\u001b[0m\n\u001b[1;37m              ^\u001b[0m\n\u001b[1;31mSyntaxError\u001b[0m\u001b[1;31m:\u001b[0m invalid syntax\n"
       ]
      }
     ],
     "prompt_number": 1
    },
    {
     "cell_type": "markdown",
     "metadata": {},
     "source": [
      "2.Napisz program kt\u00f3ry wypisze linie z logu systemowego \"messages.txt\" kt\u00f3re zawieraj\u0105 informacje o nieprawid\u0142owej nazwie u\u017cytkownika (invalid user)"
     ]
    },
    {
     "cell_type": "code",
     "collapsed": false,
     "input": [
      "pattern = ...\n",
      "\n",
      "with open('messages.txt') as messages:\n",
      "    for line in messages:\n",
      "        if ........:\n",
      "            print line"
     ],
     "language": "python",
     "metadata": {},
     "outputs": []
    },
    {
     "cell_type": "markdown",
     "metadata": {},
     "source": [
      "3.Przer\u00f3b program tak, \u017ceby wy\u015bwietla\u0142 sformatowane komunikaty, tzn.\n",
      "\n",
      "    Jun 29 20:18:40 noether sshd[5805]: Invalid user tester from 218.189.194.200\n",
      "    \n",
      "powinno zosta\u0107 przerobione na\n",
      "\n",
      "    Niepoprawna nazwa u\u017cytkownika: \"tester\", po\u0142aczenie z 218.189.194.200 nawi\u0105zano 29 czerwca o godz. 20:18\n"
     ]
    },
    {
     "cell_type": "markdown",
     "metadata": {},
     "source": [
      "4.Skopiuj implementacj\u0119 BagOfWords z poprzednich \u0107wicze\u0144. Przer\u00f3b j\u0105 tak, \u017ceby interpunkcja, cyfry i wszelkie inne znaki nie przeszkadza\u0142y w parsowaniu tekstu. Uruchom go na tek\u015bcie hamleta (http://www.gutenberg.org/dirs/etext98/2ws2610.txt). Ile razy wyst\u0119puje s\u0142owo hamlet? Jak brzmi 10 najcz\u0119\u015bciej wyst\u0119puj\u0105cych s\u0142\u00f3w?"
     ]
    },
    {
     "cell_type": "markdown",
     "metadata": {},
     "source": [
      "5.Napisz wyra\u017cenie regularne kt\u00f3re sprawdza czy adres email jest poprawny. Wg. definicji z wikipedii:\n",
      "http://en.wikipedia.org/wiki/Email_address"
     ]
    },
    {
     "cell_type": "markdown",
     "metadata": {},
     "source": [
      "**Zadanie dodatkowe**\n",
      "\n",
      "Pobierz strony z publikacjami pracownik\u00f3w IIMK\n",
      "\n",
      "* http://apacz.matinf.uj.edu.pl/jednostki/2-instytut-informatyki-i-matematyki-komputerowej-wydzial-matematyki-i-informatyki-uj?page=1\n",
      "* http://apacz.matinf.uj.edu.pl/jednostki/2-instytut-informatyki-i-matematyki-komputerowej-wydzial-matematyki-i-informatyki-uj?page=2\n",
      "* http://apacz.matinf.uj.edu.pl/jednostki/2-instytut-informatyki-i-matematyki-komputerowej-wydzial-matematyki-i-informatyki-uj?page=3\n",
      "* http://apacz.matinf.uj.edu.pl/jednostki/2-instytut-informatyki-i-matematyki-komputerowej-wydzial-matematyki-i-informatyki-uj?page=4\n",
      "* http://apacz.matinf.uj.edu.pl/jednostki/2-instytut-informatyki-i-matematyki-komputerowej-wydzial-matematyki-i-informatyki-uj?page=5\n",
      "* http://apacz.matinf.uj.edu.pl/jednostki/2-instytut-informatyki-i-matematyki-komputerowej-wydzial-matematyki-i-informatyki-uj?page=6\n",
      "* http://apacz.matinf.uj.edu.pl/jednostki/2-instytut-informatyki-i-matematyki-komputerowej-wydzial-matematyki-i-informatyki-uj?page=7\n",
      "* http://apacz.matinf.uj.edu.pl/jednostki/2-instytut-informatyki-i-matematyki-komputerowej-wydzial-matematyki-i-informatyki-uj?page=8\n",
      "\n",
      "Napisz program (obiektowo), kt\u00f3ry u\u017cywaj\u0105c wyra\u017ce\u0144 regularnych sparsuje te dokumenty i wyjmie z nich ustruktoryzowan\u0105 wiedz\u0119 w postaci listy publikacji ka\u017cdego pracownika, tzn.\n",
      "\n",
      "    pubs = Publications([PATH1, PATH2, ...])\n",
      "    \n",
      "    for author in pubs:\n",
      "        for publication in pubs[author]:\n",
      "            print(author, 'published', publication) \n",
      "            \n",
      "    # wypisuje linie w postaci: AUTOR published NAZWA_PUBLIKACJI\n",
      "    # w kolejnosci malejacej liczby publikacji, czyli w szczegolnosci napisanie\n",
      "    \n",
      "    for author in pubs:\n",
      "        print(author, 'published', len(pubs[author]), 'works')\n",
      "    \n",
      "    # wyswietli liste autorow i ich publikacji w porzadku malejacym\n",
      "    \n",
      "\n"
     ]
    }
   ],
   "metadata": {}
  }
 ]
}