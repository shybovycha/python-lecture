{
 "metadata": {
  "name": ""
 },
 "nbformat": 3,
 "nbformat_minor": 0,
 "worksheets": [
  {
   "cells": [
    {
     "cell_type": "heading",
     "level": 1,
     "metadata": {},
     "source": [
      "J\u0119zyk Python - Laboratorium 4.5"
     ]
    },
    {
     "cell_type": "markdown",
     "metadata": {},
     "source": [
      "1. Zapoznaj si\u0119 z zasadami projekt\u00F3w ko\u0144cowych (L4.ipynb)\n",
      "2. Wybierz temat swojego projektu z listy http://goo.gl/tXY8Rg\n",
      "3. Zarejestruj si\u0119 na http://github.com\n",
      "4. Za\u0142\u00f3\u017c nowe, publiczne repozytorium na sw\u00f3j projekt ko\u0144cowy (je\u015bli projekt wykonywany jest w wiele os\u00f3b - za\u0142\u00f3\u017ccie jedno repozytorium)\n",
      "5. Dodaj wszystkich cz\u0142onk\u00f3w swojego zespo\u0142u do swojego repozytorium\n",
      "6. Stw\u00f3rzcie pierwszy plik (najcz\u0119\u015bciej README) i wgrajcie go na repozytorium\n",
      "7. Zamie\u015b\u0107cie link do repozytorium na forum towarzyskim, zach\u0119caj\u0105c innych student\u00f3w do \u015bledzenia waszego kodu"
     ]
    },
    {
     "cell_type": "markdown",
     "metadata": {},
     "source": [
      "### Zadanie "
     ]
    },
    {
     "cell_type": "markdown",
     "metadata": {},
     "source": [
      "Zaimplementuj gr\u0119 w wisielca (ang. hangman) korzystaj\u0105cego z zewn\u0119trznej listy s\u0142\u00f3w (pobierz np. http://www.mieliestronk.com/corncob_lowercase.txt przy czym nale\u017Cy usun\u0105\u0107 z tego pliku lini\u0119 11653 ze s\u0142owem zawieraj\u0105cym znaki niezgodnym z za\u0142o\u017Ceniami programu: cross-bun). Gra powinna wygl\u0105da\u0107 mniej wi\u0119cej tak:"
     ]
    },
    {
     "cell_type": "raw",
     "metadata": {},
     "source": [
      "python hangman.py corncob_lowercase.txt"
     ]
    },
    {
     "cell_type": "raw",
     "metadata": {},
     "source": [
      "Hangman game v0.1\n",
      "\n",
      "_ _ _ _ _ _ _\n",
      "\n",
      "bad guesses: 0/6 []\n",
      "\n",
      "Guess a letter: \n",
      ">>> a\n",
      "\n",
      "-----------------\n",
      "\n",
      "Hangman game v0.1\n",
      "\n",
      "_ a _ _ _ _ _\n",
      "\n",
      "bad guesses: 0/6 []\n",
      "\n",
      "Guess a letter: \n",
      ">>> b\n",
      "\n",
      "-----------------\n",
      "\n",
      "Hangman game v0.1\n",
      "\n",
      "_ a _ _ _ _ _\n",
      "\n",
      "bad guesses: 1/6 [b]\n",
      "\n",
      "Guess a letter: \n",
      ">>> D\n",
      "\n",
      "-----------------\n",
      "\n",
      "Hangman game v0.1\n",
      "\n",
      "_ a d _ _ _ _\n",
      "\n",
      "bad guesses: 1/6 [b]\n",
      "\n",
      "Guess a letter: \n",
      ">>> e\n",
      "\n",
      "-----------------\n",
      "\n",
      "Hangman game v0.1\n",
      "\n",
      "_ a d _ _ _ _\n",
      "\n",
      "bad guesses: 2/6 [b, e]\n",
      "\n",
      "Guess a letter: \n",
      ">>> z\n",
      "\n",
      "-----------------\n",
      "\n",
      "Hangman game v0.1\n",
      "\n",
      "_ a d _ _ _ _\n",
      "\n",
      "bad guesses: 3/6 [b, e, z]\n",
      "\n",
      "Guess a letter: \n",
      ">>> u\n",
      "\n",
      "-----------------\n",
      "\n",
      "Hangman game v0.1\n",
      "\n",
      "_ a d _ _ u _\n",
      "\n",
      "bad guesses: 3/6 [b, e, z]\n",
      "\n",
      "Guess a letter: \n",
      ">>> h\n",
      "\n",
      "-----------------\n",
      "\n",
      "Hangman game v0.1\n",
      "\n",
      "_ a d _ _ u _\n",
      "\n",
      "bad guesses: 4/6 [b, e, z, h]\n",
      "\n",
      "Guess a letter: \n",
      ">>> just_a_random_string!\n",
      "\n",
      "-----------------\n",
      "\n",
      "Hangman game v0.1\n",
      "\n",
      "_ a d _ _ u _\n",
      "\n",
      "bad guesses: 4/6 [b, e, z, h]\n",
      "\n",
      "Guess a letter: \n",
      ">>> i\n",
      "\n",
      "-----------------\n",
      "\n",
      "Hangman game v0.1\n",
      "\n",
      "_ a d _ _ u _\n",
      "\n",
      "bad guesses: 5/6 [b, e, z, h, i]\n",
      "\n",
      "Guess a letter: \n",
      ">>> j\n",
      "\n",
      "-----------------\n",
      "\n",
      "Hangman game v0.1\n",
      "\n",
      "_ a d _ _ u _\n",
      "\n",
      "bad guesses: 6/6 [b, e, z, h, i, j]\n",
      "\n",
      "YOU LOST !\n",
      "The word you were looking for is: ladybug\n",
      "\n",
      "Do you want to play again? (Y/N):\n",
      ">>> 3\n",
      "Do you want to play again? (Y/N):\n",
      ">>> N\n",
      "Ok, good bye!"
     ]
    },
    {
     "cell_type": "markdown",
     "metadata": {},
     "source": [
      "Gra powinna:\n",
      "\n",
      "1. Korzysta\u0107 z zewn\u0119trznego s\u0142ownika\n",
      "2. By\u0107 odporna na niepoprawne akcje u\u017cytkownika:\n",
      " - wczytanie pliku kt\u00f3ry nie jest list\u0105 s\u0142\u00f3w [a-zA-Z]\n",
      " - podawanie niepoprawnych komend (np. nie liter)\n"
     ]
    },
    {
     "cell_type": "markdown",
     "metadata": {},
     "source": [
      "### Zadanie dodatkowe\n",
      "\n",
      "Napisz t\u0119 gr\u0119 w taki spos\u00f3b by mo\u017cna by\u0142o z kodu skorzysta\u0107 w nast\u0119puj\u0105cy spos\u00f3b (czyli zdefiniuj klas\u0119 `HangmanGame`):"
     ]
    },
    {
     "cell_type": "code",
     "collapsed": false,
     "input": [
      "game = HangmanGame('slownik.txt', max_mistakes=6) # inicjujemy gre\n",
      "game.start() # losujemy slowo\n",
      "\n",
      "print 'Slowo ma', game.get_word_length(), 'liter' # pobieramy dlugosc wylosowanego slowa\n",
      "\n",
      "while not game.finished(): # finished() zwraca True gdy gra sie zakonczyla\n",
      "    response = game.guess('a') # zgadujemy litere, .guess powinno zwrocic liste pozycji gdzie 'a' wystepuje\n",
      "    ... # robimy cos z wynikiem\n",
      "    \n",
      "print game.did_I_win() # True jesli wygralismy, False w przeciwnym przypadku    "
     ],
     "language": "python",
     "metadata": {},
     "outputs": []
    },
    {
     "cell_type": "markdown",
     "metadata": {},
     "source": [
      "Dopisz \"AI\" uzupe\u0142niaj\u0105c definicj\u0119 klasy"
     ]
    },
    {
     "cell_type": "code",
     "collapsed": false,
     "input": [
      "class HangmanAI(object):\n",
      "    \n",
      "    def __init__(self, dictionary, max_mistakes):\n",
      "        pass\n",
      "    \n",
      "    def start(self, length): # podajemy dlugosc slowa\n",
      "        pass\n",
      "    \n",
      "    def get_guess(self): # zwraca litere ktora chcemy zgadywac\n",
      "        pass\n",
      "    \n",
      "    def update_response(self, response): # robimy cos z odpowiedzia gry\n",
      "        pass"
     ],
     "language": "python",
     "metadata": {},
     "outputs": []
    },
    {
     "cell_type": "markdown",
     "metadata": {},
     "source": [
      "Tak \u017Ceby mo\u017Cna by\u0142o gra\u0107 samemu ze sob\u0105 pisz\u0105c"
     ]
    },
    {
     "cell_type": "code",
     "collapsed": false,
     "input": [
      "game = HangmanGame('slownik.txt', max_mistakes=6)\n",
      "ai = HangmanAI('slownik.txt', max_mistakes=6)\n",
      "\n",
      "score = 0\n",
      "for _ in range(1000):\n",
      "    \n",
      "    game.start()\n",
      "    ai.start(game.get_word_length())\n",
      "    \n",
      "    while not game.finished():\n",
      "        ai.update_response(game.guess(ai.get_guess()))\n",
      "        \n",
      "    score += game.did_I_win()\n",
      "    \n",
      "print score"
     ],
     "language": "python",
     "metadata": {},
     "outputs": []
    },
    {
     "cell_type": "markdown",
     "metadata": {},
     "source": [
      "Czy potrafisz stworzy\u0107 klas\u0119\u00a0`HumanPlayer` kt\u00f3ra pozwoli teraz gra\u0107 interaktywnie nie modyfikuj\u0105c powy\u017cszego kodu?"
     ]
    }
   ],
   "metadata": {}
  }
 ]
}
