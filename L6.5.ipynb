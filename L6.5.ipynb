{
 "cells": [
  {
   "cell_type": "markdown",
   "metadata": {},
   "source": [
    "# Język Python - Wykład 6.5"
   ]
  },
  {
   "cell_type": "markdown",
   "metadata": {},
   "source": [
    "### Nadchodzace wyklady/zajecia\n",
    "\n",
    "* 21 kwietnia - Pylint, testy [dzis]\n",
    "* 28 kwietnia - Szybkosc kodu, profilowanie, wlasne moduly\n",
    "* 5 maja - Wydajne obliczenia numeryczne [numpy]\n",
    "* 12 maja - Obliczenia naukowe [scipy, matplotlib]\n",
    "* 19 maja - Tworzenie GUI\n",
    "* *26 maja* - zajecia nie odbeda sie [CORES]\n",
    "* 2 czerwca - (prawdopodobnie) wykład gościnny\n",
    "* ---DEADLINE PROJEKTOW---\n",
    "* 9 czerwca - Cython \n",
    "* *16 czerwca* - poczatek sesji"
   ]
  },
  {
   "cell_type": "markdown",
   "metadata": {},
   "source": [
    "#### Terminy mojej nieobecnosci\n",
    "\n",
    "* 21-27 maja [BDmeetsML + CORES]\n",
    "* 14-18 czerwca [ICAISC]"
   ]
  },
  {
   "cell_type": "markdown",
   "metadata": {},
   "source": [
    "#### Projekty"
   ]
  },
  {
   "cell_type": "markdown",
   "metadata": {},
   "source": [
    "* Tematy\n",
    " * 45 osób ma przydzielony temat\n",
    " * 2 osoby zadeklarowały zajęty temat (trzeba go zmienić!)\n",
    " * to daje 11 osób bez tematu - brak oddanego projektu oznacza **nie zaliczenie kursu**\n",
    " * Oznaczenia \n",
    "   * czarne tematy - wolne\n",
    "   * czerwone - zajete\n",
    "   * pomaranczowe nazwisko - ten temat przewidziany jest na wiecej osob wiec mozna (po uzgodnieniu z ta osoba) sie dolaczyc\n",
    "   * niebieskie nazwisko - proba zajecia tematu ktory byl juz wczesniej zajety\n",
    "   * fioletowe tematy - niedawno dodane\n",
    "* Deadline\n",
    " * 7 czerwca, 23:59 [ostatnia niedziela przed ostatnimi zajeciami]\n"
   ]
  }
 ],
 "metadata": {
  "kernelspec": {
   "display_name": "Python 2",
   "language": "python",
   "name": "python2"
  },
  "language_info": {
   "codemirror_mode": {
    "name": "ipython",
    "version": 2
   },
   "file_extension": ".py",
   "mimetype": "text/x-python",
   "name": "python",
   "nbconvert_exporter": "python",
   "pygments_lexer": "ipython2",
   "version": "2.7.9"
  }
 },
 "nbformat": 4,
 "nbformat_minor": 0
}
