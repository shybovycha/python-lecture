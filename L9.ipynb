{
 "cells": [
  {
   "cell_type": "markdown",
   "metadata": {},
   "source": [
    "# Język Python - Wykład 9."
   ]
  },
  {
   "cell_type": "markdown",
   "metadata": {},
   "source": [
    "## Moduły naukowe"
   ]
  },
  {
   "cell_type": "code",
   "execution_count": null,
   "metadata": {
    "collapsed": true
   },
   "outputs": [],
   "source": [
    "%matplotlib inline"
   ]
  },
  {
   "cell_type": "code",
   "execution_count": null,
   "metadata": {
    "collapsed": false
   },
   "outputs": [],
   "source": [
    "import matplotlib.pyplot as plt\n",
    "import numpy as np"
   ]
  },
  {
   "cell_type": "code",
   "execution_count": null,
   "metadata": {
    "collapsed": false
   },
   "outputs": [],
   "source": [
    "x = np.linspace(0, 3*np.pi, 500)\n",
    "plt.figure()\n",
    "plt.plot(x, np.sin(x**2))\n",
    "plt.title('A simple chirp')\n",
    "plt.show()"
   ]
  },
  {
   "cell_type": "code",
   "execution_count": null,
   "metadata": {
    "collapsed": false
   },
   "outputs": [],
   "source": [
    "from collections import Counter\n",
    "\n",
    "with open('hamlet.txt') as l1:\n",
    "    data = Counter(l1.read().split())\n",
    "data = filter(lambda x:x[1]>1 and len(x[0])>4, sorted(data.items(), key=lambda x:x[1], reverse=True))\n",
    "\n",
    "from pprint import pprint\n",
    "pprint(data[:10])\n",
    "\n",
    "plt.figure(figsize=(10,10))\n",
    "plt.plot(range(len(data)), [v[1] for v in data])\n",
    "plt.show()"
   ]
  },
  {
   "cell_type": "code",
   "execution_count": null,
   "metadata": {
    "collapsed": false
   },
   "outputs": [],
   "source": [
    "plt.figure(figsize=(10,10))\n",
    "plt.scatter(range(len(data)), [v[1] for v in data], linewidth=0, c=range(len(data)))\n",
    "plt.show()"
   ]
  },
  {
   "cell_type": "code",
   "execution_count": null,
   "metadata": {
    "collapsed": false
   },
   "outputs": [],
   "source": [
    "plt.figure(figsize=(10,10))\n",
    "plt.gca().fill_between(range(len(data)), [np.log(v[1]) for v in data], color='red', alpha=0.5)\n",
    "plt.gca().fill_between(range(len(data)), [len(v[0]) for v in data], color='green', alpha=0.5)\n",
    "plt.show()"
   ]
  },
  {
   "cell_type": "code",
   "execution_count": null,
   "metadata": {
    "collapsed": true
   },
   "outputs": [],
   "source": [
    "import scipy"
   ]
  },
  {
   "cell_type": "markdown",
   "metadata": {},
   "source": [
    "$$\n",
    "\\int_0^{10} 3x^2 dx\n",
    "$$"
   ]
  },
  {
   "cell_type": "code",
   "execution_count": null,
   "metadata": {
    "collapsed": false
   },
   "outputs": [],
   "source": [
    "from scipy.integrate import quad\n",
    "print quad(lambda x:3*x**2, 0, 10)"
   ]
  },
  {
   "cell_type": "code",
   "execution_count": null,
   "metadata": {
    "collapsed": false
   },
   "outputs": [],
   "source": [
    "plt.figure(figsize=(10,10))\n",
    "plt.gca().fill_between(np.linspace(0,10,100), [(lambda x: 3*x**2)(v) for v in np.linspace(0,10,100)])\n",
    "plt.show()"
   ]
  },
  {
   "cell_type": "markdown",
   "metadata": {},
   "source": [
    "$$\n",
    "\\int_\\infty^{-\\infty} \\frac{1}{\\sqrt{2\\pi}} e^{-\\tfrac{1}{2}\\|x-4\\|^2} dx\n",
    "$$"
   ]
  },
  {
   "cell_type": "code",
   "execution_count": null,
   "metadata": {
    "collapsed": false
   },
   "outputs": [],
   "source": [
    "normal1d = lambda x:1/np.sqrt(2*np.pi) * np.exp(-((x-4)*(x-4))/2)\n",
    "print quad(normal1d, -np.inf, np.inf)"
   ]
  },
  {
   "cell_type": "code",
   "execution_count": null,
   "metadata": {
    "collapsed": false
   },
   "outputs": [],
   "source": [
    "plt.figure(figsize=(10,10))\n",
    "plt.gca().fill_between(np.linspace(-10,10,100), [normal1d(v) for v in np.linspace(-10,10,100)])\n",
    "plt.show()"
   ]
  },
  {
   "cell_type": "markdown",
   "metadata": {},
   "source": [
    "$$\n",
    "\\int_\\infty^{-\\infty} \\int_\\infty^{-\\infty} \\frac{1}{{2\\pi}} e^{-\\tfrac{1}{2}\\|[x\\; y]^T\\|^2} dy\\; dx\n",
    "$$"
   ]
  },
  {
   "cell_type": "code",
   "execution_count": null,
   "metadata": {
    "collapsed": false,
    "scrolled": true
   },
   "outputs": [],
   "source": [
    "from scipy.integrate import dblquad\n",
    "normal2d = lambda y, x:1/(2*np.pi) * np.exp(-(x*x+y*y)/2)\n",
    "print dblquad(normal2d, -np.inf, np.inf, lambda x:-np.inf, lambda x:np.inf)"
   ]
  },
  {
   "cell_type": "markdown",
   "metadata": {},
   "source": [
    "$$\n",
    "\\int_\\infty^{-\\infty} \\int_\\infty^{-\\infty} \\int_\\infty^{-\\infty} \\frac{1}{(2\\pi)^{3/2}} e^{-\\tfrac{1}{2}\\|[x\\; y\\; z]^T\\|^2} dz\\; dy\\; dx\n",
    "$$"
   ]
  },
  {
   "cell_type": "code",
   "execution_count": null,
   "metadata": {
    "collapsed": false
   },
   "outputs": [],
   "source": [
    "from scipy.integrate import tplquad\n",
    "normal3d = lambda z, y, x :1/(2*np.pi) ** (1.5) * np.exp(-(x*x+y*y+z*z)/2)\n",
    "print tplquad(normal3d, -np.inf, np.inf, lambda x:-np.inf, lambda x:np.inf, lambda x, y:-np.inf, lambda x, y:np.inf)"
   ]
  },
  {
   "cell_type": "code",
   "execution_count": null,
   "metadata": {
    "collapsed": true
   },
   "outputs": [],
   "source": [
    "from numpy import linalg as la"
   ]
  },
  {
   "cell_type": "code",
   "execution_count": null,
   "metadata": {
    "collapsed": false
   },
   "outputs": [],
   "source": [
    "X = np.array([[1,2],[4,1]])\n",
    "print X\n",
    "print la.inv(X)\n",
    "print la.inv(X).dot(X)"
   ]
  },
  {
   "cell_type": "code",
   "execution_count": null,
   "metadata": {
    "collapsed": false
   },
   "outputs": [],
   "source": [
    "X = np.array([[0.1,2],[3,60]])\n",
    "print la.inv(X)"
   ]
  },
  {
   "cell_type": "code",
   "execution_count": null,
   "metadata": {
    "collapsed": false
   },
   "outputs": [],
   "source": [
    "print la.pinv(X)\n",
    "print la.pinv(X).dot(X)"
   ]
  },
  {
   "cell_type": "markdown",
   "metadata": {},
   "source": [
    "$$\n",
    "XA = y\n",
    "$$\n",
    "$$\n",
    "X^TXA = X^Ty\n",
    "$$\n",
    "$$\n",
    "(X^TX)^{-1}X^Ty \\approx A\n",
    "$$\n",
    "$$\n",
    "X^\\dagger y \\approx A\n",
    "$$"
   ]
  },
  {
   "cell_type": "code",
   "execution_count": 173,
   "metadata": {
    "collapsed": false
   },
   "outputs": [
    {
     "name": "stdout",
     "output_type": "stream",
     "text": [
      "[3]\n",
      "[ 2.94017638]\n"
     ]
    },
    {
     "data": {
      "image/png": "[encoded data removed]",
      "text/plain": [
       "<matplotlib.figure.Figure at 0x7f6427ae1c50>"
      ]
     },
     "metadata": {},
     "output_type": "display_data"
    },
    {
     "data": {
      "image/png": "[encoded data removed]",
      "text/plain": [
       "<matplotlib.figure.Figure at 0x7f6428427d90>"
      ]
     },
     "metadata": {},
     "output_type": "display_data"
    },
    {
     "data": {
      "image/png": "[encoded data removed]",
      "text/plain": [
       "<matplotlib.figure.Figure at 0x7f6427e5c3d0>"
      ]
     },
     "metadata": {},
     "output_type": "display_data"
    }
   ],
   "source": [
    "def plot_data(X, functions):\n",
    "    plt.figure(figsize=(6, 6))\n",
    "    plt.scatter(X.ravel(), y.ravel(), linewidth=0, alpha=0.5)\n",
    "    for f in functions:\n",
    "        plt.plot([0, 1], f.dot(np.array([[0, 1]])).ravel())        \n",
    "    plt.show()\n",
    "\n",
    "X = np.random.rand(100).reshape(1,100)\n",
    "A = np.array([[3]])\n",
    "y = (A.dot(X)).T + np.random.normal(size=(100, 1), scale=0.3)\n",
    "\n",
    "solution = la.pinv(X).T.dot(y)\n",
    "\n",
    "print A.ravel()\n",
    "print solution.ravel()\n",
    "\n",
    "\n",
    "plot_data(X, [])\n",
    "plot_data(X, [A])\n",
    "plot_data(X, [A, solution])\n"
   ]
  },
  {
   "cell_type": "code",
   "execution_count": 184,
   "metadata": {
    "collapsed": false
   },
   "outputs": [
    {
     "name": "stdout",
     "output_type": "stream",
     "text": [
      "['LinAlgError', 'Tester', '__builtins__', '__doc__', '__file__', '__name__', '__package__', '__path__', '_umath_linalg', 'absolute_import', 'bench', 'cholesky', 'cond', 'det', 'division', 'eig', 'eigh', 'eigvals', 'eigvalsh', 'info', 'inv', 'lapack_lite', 'linalg', 'lstsq', 'matrix_power', 'matrix_rank', 'norm', 'pinv', 'print_function', 'qr', 'slogdet', 'solve', 'svd', 'tensorinv', 'tensorsolve', 'test']\n",
      "(1, 100) (100, 1)\n",
      "(array([[ 2.94017638]]), array([ 8.87062881]), 1, array([ 5.4304806]))\n"
     ]
    }
   ],
   "source": [
    "print dir(la)"
   ]
  },
  {
   "cell_type": "code",
   "execution_count": 193,
   "metadata": {
    "collapsed": false
   },
   "outputs": [
    {
     "name": "stdout",
     "output_type": "stream",
     "text": [
      "[[ 2.94017638]]\n"
     ]
    }
   ],
   "source": [
    "print la.solve(X.dot(X.T), X.dot(y)) # AX = y --> X = solve(A, y)"
   ]
  },
  {
   "cell_type": "code",
   "execution_count": 194,
   "metadata": {
    "collapsed": false
   },
   "outputs": [
    {
     "name": "stdout",
     "output_type": "stream",
     "text": [
      "(array([[ 2.94017638]]), array([ 8.87062881]), 1, array([ 5.4304806]))\n"
     ]
    }
   ],
   "source": [
    "print la.lstsq(X.T, y)"
   ]
  },
  {
   "cell_type": "code",
   "execution_count": 196,
   "metadata": {
    "collapsed": false
   },
   "outputs": [
    {
     "data": {
      "text/plain": [
       "(array([[ -7.80567688e-02,   2.88994842e-01,   9.19390418e-01, ...,\n",
       "          -1.29786367e-03,   3.27304811e-04,  -1.05826786e-04],\n",
       "        [ -9.33919338e-02,   2.50355899e-02,   1.88824411e-02, ...,\n",
       "          -1.32794145e-02,  -1.67231018e-03,  -1.92355139e-03],\n",
       "        [ -9.82608886e-02,   2.63408114e-02,  -3.77294526e-02, ...,\n",
       "           1.65375441e-02,  -4.02265823e-03,  -1.72774987e-05],\n",
       "        ..., \n",
       "        [ -1.45004406e-01,   2.30066965e-01,  -2.05382651e-02, ...,\n",
       "           2.47394625e-02,  -8.67069126e-03,   9.42778868e-04],\n",
       "        [ -1.22395324e-01,   3.28105330e-02,  -1.71470779e-02, ...,\n",
       "          -3.65161514e-02,  -2.52841975e-03,   1.04006112e-04],\n",
       "        [ -6.53917970e-02,  -7.80682167e-02,   3.67217877e-02, ...,\n",
       "          -1.14752074e-02,   9.89763786e-03,   1.13658962e-03]]),\n",
       " array([[ -2.30190345e+00,  -2.75413930e+00,  -2.89772536e+00, ...,\n",
       "          -4.27619728e+00,  -3.60945273e+00,  -1.92841191e+00],\n",
       "        [  0.00000000e+00,  -2.90336953e-16,   1.08332209e-16, ...,\n",
       "          -9.38630389e-17,   3.39548714e-17,   5.44355875e-17],\n",
       "        [  0.00000000e+00,   0.00000000e+00,   9.13549592e-16, ...,\n",
       "           6.10806760e-16,   1.06770242e-15,   5.92516841e-16],\n",
       "        ..., \n",
       "        [  0.00000000e+00,   0.00000000e+00,   0.00000000e+00, ...,\n",
       "          -5.10972722e-18,  -5.98547210e-18,  -2.95100980e-18],\n",
       "        [  0.00000000e+00,   0.00000000e+00,   0.00000000e+00, ...,\n",
       "           0.00000000e+00,   9.75553153e-19,   1.04559318e-18],\n",
       "        [  0.00000000e+00,   0.00000000e+00,   0.00000000e+00, ...,\n",
       "           0.00000000e+00,   0.00000000e+00,  -1.50814999e-19]]))"
      ]
     },
     "execution_count": 196,
     "metadata": {},
     "output_type": "execute_result"
    }
   ],
   "source": [
    "print la.qr(X.T.dot(X)) # Rozklad QR"
   ]
  },
  {
   "cell_type": "code",
   "execution_count": 199,
   "metadata": {
    "collapsed": false
   },
   "outputs": [
    {
     "name": "stdout",
     "output_type": "stream",
     "text": [
      "[[ 1.08613035  0.          0.         ...,  0.          0.          0.        ]\n",
      " [ 0.19793132  1.1036474   0.         ...,  0.          0.          0.        ]\n",
      " [ 0.2082504   0.20786068  1.09460439 ...,  0.          0.          0.        ]\n",
      " ..., \n",
      " [ 0.30731683  0.30674172  0.2671509  ...,  1.01052518  0.          0.        ]\n",
      " [ 0.2594      0.25891456  0.22549674 ...,  0.01767566  1.00735509  0.        ]\n",
      " [ 0.13858889  0.13832954  0.12047549 ...,  0.00944352  0.00783047\n",
      "   1.00207436]]\n"
     ]
    }
   ],
   "source": [
    "print la.cholesky(X.T.dot(X) + np.eye(100)) # Dekompozycja Choleskiego, rozklad Choleskiego"
   ]
  },
  {
   "cell_type": "code",
   "execution_count": 200,
   "metadata": {
    "collapsed": true
   },
   "outputs": [],
   "source": [
    "from scipy import optimize"
   ]
  },
  {
   "cell_type": "code",
   "execution_count": 210,
   "metadata": {
    "collapsed": false
   },
   "outputs": [
    {
     "name": "stdout",
     "output_type": "stream",
     "text": [
      "f( 0.699999999784 )= -1.0\n"
     ]
    },
    {
     "data": {
      "image/png": "[encoded data removed]",
      "text/plain": [
       "<matplotlib.figure.Figure at 0x7f642800cfd0>"
      ]
     },
     "metadata": {},
     "output_type": "display_data"
    }
   ],
   "source": [
    "def f(x):\n",
    "    return -np.exp(-(x-0.7)**2)\n",
    "\n",
    "x_min = optimize.brent(f) \n",
    "print 'f(',x_min,')=', f(x_min)\n",
    "\n",
    "x = np.linspace(-2, 5, 100)\n",
    "\n",
    "plt.figure(figsize=(10,10))\n",
    "plt.plot(x, f(x))\n",
    "plt.scatter([x_min], [f(x_min)], c='red', s=200, linewidth=0)\n",
    "plt.show()"
   ]
  },
  {
   "cell_type": "code",
   "execution_count": 217,
   "metadata": {
    "collapsed": false
   },
   "outputs": [
    {
     "name": "stdout",
     "output_type": "stream",
     "text": [
      "Optimization terminated successfully.\n",
      "         Current function value: 0.000000\n",
      "         Iterations: 13\n",
      "         Function evaluations: 120\n",
      "         Gradient evaluations: 30\n",
      "[ 0.99998968  0.99997855]\n"
     ]
    }
   ],
   "source": [
    "def f(x):   # The rosenbrock function\n",
    "    return .5*(1 - x[0])**2 + (x[1] - x[0]**2)**2\n",
    "\n",
    "x_min = optimize.fmin_cg(f, [2, 2])\n",
    "print x_min"
   ]
  },
  {
   "cell_type": "code",
   "execution_count": 219,
   "metadata": {
    "collapsed": false
   },
   "outputs": [
    {
     "name": "stdout",
     "output_type": "stream",
     "text": [
      "Optimization terminated successfully.\n",
      "         Current function value: 0.000000\n",
      "         Iterations: 13\n",
      "         Function evaluations: 30\n",
      "         Gradient evaluations: 30\n",
      "[ 0.99999199  0.99998336]\n"
     ]
    }
   ],
   "source": [
    "def fprime(x):\n",
    "    return np.array((-2*.5*(1 - x[0]) - 4*x[0]*(x[1] - x[0]**2), 2*(x[1] - x[0]**2)))\n",
    "\n",
    "x_min = optimize.fmin_cg(f, [2, 2], fprime=fprime)\n",
    "print x_min"
   ]
  },
  {
   "cell_type": "code",
   "execution_count": 231,
   "metadata": {
    "collapsed": false
   },
   "outputs": [
    {
     "name": "stdout",
     "output_type": "stream",
     "text": [
      "   status: 0\n",
      "  success: True\n",
      "     njev: 24\n",
      "     nfev: 24\n",
      " hess_inv: array([[ 0.98632014,  1.97824322],\n",
      "       [ 1.97824322,  4.46512386]])\n",
      "      fun: 1.9753570833042e-14\n",
      "        x: array([ 1.00000017,  1.00000026])\n",
      "  message: 'Optimization terminated successfully.'\n",
      "      jac: array([  4.74186625e-07,  -1.53939016e-07])\n"
     ]
    }
   ],
   "source": [
    "x_min = optimize.minimize(fun=f, x0=[2, 2], jac=fprime)\n",
    "print x_min"
   ]
  },
  {
   "cell_type": "code",
   "execution_count": 237,
   "metadata": {
    "collapsed": false
   },
   "outputs": [
    {
     "name": "stdout",
     "output_type": "stream",
     "text": [
      "  status: 0\n",
      " success: True\n",
      "    njev: 8\n",
      "    nfev: 10\n",
      "     fun: 0.37623482510170186\n",
      "       x: array([ 0.2213832, -0.2213832])\n",
      " message: 'Optimization terminated successfully.'\n",
      "     jac: array([-0.5391743 , -0.54078743,  0.        ])\n",
      "     nit: 8\n"
     ]
    }
   ],
   "source": [
    "x_min = optimize.minimize(fun=f, x0=[2, 2], jac=fprime, constraints=[{'type': 'eq', 'fun': lambda x : x[0]+x[1]}])\n",
    "print x_min"
   ]
  },
  {
   "cell_type": "code",
   "execution_count": 238,
   "metadata": {
    "collapsed": false
   },
   "outputs": [
    {
     "name": "stdout",
     "output_type": "stream",
     "text": [
      "  status: 0\n",
      " success: True\n",
      "    njev: 8\n",
      "    nfev: 34\n",
      "     fun: 0.37623482510046402\n",
      "       x: array([ 0.2213832, -0.2213832])\n",
      " message: 'Optimization terminated successfully.'\n",
      "     jac: array([-0.53917429, -0.54078741,  0.        ])\n",
      "     nit: 8\n"
     ]
    }
   ],
   "source": [
    "x_min = optimize.minimize(fun=f, x0=[2, 2], constraints=[{'type': 'eq', 'fun': lambda x : x[0]+x[1]}])\n",
    "print x_min"
   ]
  },
  {
   "cell_type": "code",
   "execution_count": 294,
   "metadata": {
    "collapsed": false
   },
   "outputs": [
    {
     "name": "stdout",
     "output_type": "stream",
     "text": [
      "[  0.98093106  11.59798564]\n"
     ]
    },
    {
     "data": {
      "image/png": "[encoded data removed]",
      "text/plain": [
       "<matplotlib.figure.Figure at 0x7f6427216b90>"
      ]
     },
     "metadata": {},
     "output_type": "display_data"
    }
   ],
   "source": [
    "\n",
    "def f(x):\n",
    "    return x**2 + 10*np.sin(x)\n",
    "\n",
    "xmin = optimize.minimize(f, x0=np.array([np.random.normal()*10]))['x']\n",
    "root = optimize.fsolve(f, 1)\n",
    "root2 = optimize.fsolve(f, -2.5)\n",
    "\n",
    "xdata = np.linspace(-10, 10, 10)\n",
    "ydata = f(xdata) + np.random.normal(size=xdata.size, scale=10)\n",
    "\n",
    "def f2(x, a, b):\n",
    "    return a*x**2 + b*np.sin(x)\n",
    "\n",
    "params, params_covariance = optimize.curve_fit(f2, xdata, ydata)\n",
    "\n",
    "print params\n",
    "fig = plt.figure(figsize=(10, 10))\n",
    "ax = fig.add_subplot(111)\n",
    "ax.plot(x, f(x), 'b-', label=\"f(x)\")\n",
    "ax.plot(x, f2(x, *params), 'r--', label=\"Curve fit\")\n",
    "\n",
    "ax.plot(xmin, f(xmin), 'go', label=\"Minimum\")\n",
    "roots = np.array([root, root2])\n",
    "ax.plot(roots, f(roots), 'kv', label=\"Roots\")\n",
    "ax.legend()\n",
    "ax.set_xlabel('x')\n",
    "ax.set_ylabel('f(x)')\n",
    "plt.show()\n",
    "\n"
   ]
  }
 ],
 "metadata": {
  "kernelspec": {
   "display_name": "Python 2",
   "language": "python",
   "name": "python2"
  },
  "language_info": {
   "codemirror_mode": {
    "name": "ipython",
    "version": 2
   },
   "file_extension": ".py",
   "mimetype": "text/x-python",
   "name": "python",
   "nbconvert_exporter": "python",
   "pygments_lexer": "ipython2",
   "version": "2.7.9"
  }
 },
 "nbformat": 4,
 "nbformat_minor": 0
}
