{
 "metadata": {
  "name": "",
  "signature": "sha256:e40e345362968efbe6c899bda71ada7c61ebc0a04f980980150f9ae97980cda9"
 },
 "nbformat": 3,
 "nbformat_minor": 0,
 "worksheets": [
  {
   "cells": [
    {
     "cell_type": "heading",
     "level": 2,
     "metadata": {},
     "source": [
      "Sieci Neuronowe - Laboratorium 3. Klasyfikacja obraz\u00f3w"
     ]
    },
    {
     "cell_type": "heading",
     "level": 2,
     "metadata": {},
     "source": [
      "Zbi\u00f3r danych"
     ]
    },
    {
     "cell_type": "markdown",
     "metadata": {},
     "source": [
      "W katalogu `data` znajduje si\u0119 zbi\u00f3r `reduced_digits.mat`, wczytaj go (przyda si\u0119 `scipy.io.loadmat`) i wy\u015bwietl kilka pierwszych obrazk\u00f3w u\u017cywaj\u0105c funkcji `imshow` z `matplotlib.pyplot`"
     ]
    },
    {
     "cell_type": "code",
     "collapsed": false,
     "input": [
      "X, y = ....."
     ],
     "language": "python",
     "metadata": {},
     "outputs": []
    },
    {
     "cell_type": "code",
     "collapsed": false,
     "input": [
      "%matplotlib inline\n",
      "\n",
      "## Przyk\u0142ad rysowania\n",
      "import numpy as np\n",
      "\n",
      "x = np.array([0, 0, 1, 0, 0, 1, 1, 0, 0, 0, 1, 0, 0, 0, 1, 0]) # zwektoryzowany obrazek\n",
      "x = x.reshape(np.sqrt(len(x)), np.sqrt(len(x))) # przerabiamy na macierz\n",
      "\n",
      "print(x) # wyswietlamy\n",
      "\n",
      "from matplotlib import pyplot as plt\n",
      "plt.figure()\n",
      "plt.imshow(x, aspect=\"auto\", cmap=\"gray\") # rysujemy obrazek\n",
      "plt.show()"
     ],
     "language": "python",
     "metadata": {},
     "outputs": []
    },
    {
     "cell_type": "markdown",
     "metadata": {},
     "source": [
      "Dlaczego obraz jest trzymany jako wektor? Czy to na pewno najlepsze rozwi\u0105zanie? Czy mo\u017cna zaproponowa\u0107 co\u015b innego?"
     ]
    },
    {
     "cell_type": "heading",
     "level": 3,
     "metadata": {},
     "source": [
      "Problem binarny"
     ]
    },
    {
     "cell_type": "markdown",
     "metadata": {},
     "source": [
      "Ogranicz problem wy\u0142\u0105cznie do etykiet 5 i 6, stw\u00f3rz nowy zbi\u00f3r `X_binary, y_binary`. Przyda si\u0119 indeksowanie tablicy tablic\u0105 logiczn\u0105:"
     ]
    },
    {
     "cell_type": "code",
     "collapsed": false,
     "input": [
      "import numpy as np\n",
      "\n",
      "x = np.array([[1,3,4],[2,1,3],[4,1,1]])\n",
      "print(x)\n",
      "l = np.array([True, False, True])\n",
      "print(x[l])\n",
      "y = np.array([0,0,1])\n",
      "print(y == 0)\n",
      "print(x[y == 0])"
     ],
     "language": "python",
     "metadata": {},
     "outputs": [
      {
       "output_type": "stream",
       "stream": "stdout",
       "text": [
        "[[1 3 4]\n",
        " [2 1 3]\n",
        " [4 1 1]]\n",
        "[[1 3 4]\n",
        " [4 1 1]]\n",
        "[ True  True False]\n",
        "[[1 3 4]\n",
        " [2 1 3]]\n"
       ]
      }
     ],
     "prompt_number": 12
    },
    {
     "cell_type": "markdown",
     "metadata": {},
     "source": [
      "<img width=800 src=\"files/SN3_img/nn56.png\">"
     ]
    },
    {
     "cell_type": "markdown",
     "metadata": {},
     "source": [
      "Podziel zbi\u00f3r na dwie cz\u0119\u015bci w proporcjach 3:1, zbi\u00f3r **ucz\u0105cy** i zbi\u00f3r **testuj\u0105cy**"
     ]
    },
    {
     "cell_type": "code",
     "collapsed": false,
     "input": [
      "X_binary_train, X_binary_test = ...\n",
      "y_binary_train, y_binary_test = ..."
     ],
     "language": "python",
     "metadata": {},
     "outputs": []
    },
    {
     "cell_type": "markdown",
     "metadata": {},
     "source": [
      "Naucz sw\u00f3j `RandomLearner` na danych **ucz\u0105cych** i policz jego Accuracy na zbiorze **testuj\u0105cym**. Jaki osi\u0105ga wynik po kilkuset iteracjach?"
     ]
    },
    {
     "cell_type": "markdown",
     "metadata": {},
     "source": [
      "Naucz Perceptron z `sklearn.linear_model` na tych samych danych, jaki osi\u0105ga wynik? Dlaczego?"
     ]
    },
    {
     "cell_type": "heading",
     "level": 3,
     "metadata": {},
     "source": [
      "Problem wieloklasowy"
     ]
    },
    {
     "cell_type": "markdown",
     "metadata": {},
     "source": [
      "Wykonaj te same eksperymenty na pe\u0142nym problemie, mo\u017cesz pomin\u0105\u0107 uczenie `RandomLearner`a, jako, \u017ce nie obs\u0142uguje on obecnie wielu klas. **Do dyskusji - w jaki spos\u00f3b przerobi\u0107 go na wersj\u0119 wieloklasow\u0105?** Je\u015bli uczenie trwa zbyt d\u0142ugo mo\u017cesz zmieni\u0107 proporcje na 1:3."
     ]
    },
    {
     "cell_type": "markdown",
     "metadata": {},
     "source": [
      "Uwaga, w danych omylkowo klasa `0` jest zakodowana jako `10`, mozna to naprawi\u0107\u00a0pisz\u0105c\n",
      "\n",
      "    y[y == 10] = 0"
     ]
    },
    {
     "cell_type": "markdown",
     "metadata": {},
     "source": [
      "Pobierz `theanets` https://github.com/lmjohns3/theanets i stw\u00f3rz prost\u0105 wielowarstwow\u0105\u00a0sie\u0107, kt\u00f3r\u0105 nauczysz na tych danych.\n",
      "\n",
      "*Ciekawostka*, u\u017cycie `CTRL+C` podczas uczenia (`.train`) wywo\u0142uje przerwanie uczenia w tym miejscu w kt\u00f3rym jest, ale reszta kodu si\u0119 wykona, wi\u0119c mo\u017cna r\u0119cznie zatrzyma\u0107 d\u0142ugo trwaj\u0105ce uczenie i wci\u0105\u017c \"mie\u0107\" nauczony model."
     ]
    },
    {
     "cell_type": "code",
     "collapsed": false,
     "input": [
      "import theanets\n",
      "exp = theanets.Experiment(\n",
      "    theanets.Classifier,\n",
      "    layers=(LICZBA_NEURONOW_WEJSCIOWYCH, \n",
      "            LICZBA_NEURONOW_UKRYTYCH, \n",
      "            LICZBA_NEURONOW_WYJSCIOWYCH)\n",
      "    )\n",
      "\n",
      "exp.train(\n",
      "    (DANE_UCZACE, ETYKIETY_DANYCH_UCZACYCH),\n",
      "    optimize='sgd',\n",
      "    learning_rate=0.01,\n",
      "    momentum=0.\n",
      "    )\n"
     ],
     "language": "python",
     "metadata": {},
     "outputs": []
    },
    {
     "cell_type": "markdown",
     "metadata": {},
     "source": [
      "Jak zale\u017c\u0105 wyniki od ilo\u015bci ukrytych neuron\u00f3w? A od sta\u0142ej uczenia? Co zmienia momentum?"
     ]
    },
    {
     "cell_type": "markdown",
     "metadata": {},
     "source": [
      "Poni\u017cszy kod wizualizuje wagi warstwy ukrytej, uruchom go dla swojej sieci. "
     ]
    },
    {
     "cell_type": "code",
     "collapsed": false,
     "input": [
      "# img_size powinno zawierac szerokosc obrazka\n",
      "rows = 10\n",
      "cols = NUM_HIDDEN_UNITS / rows\n",
      "img = np.zeros(((img_size+5) * rows, (img_size+5) * cols), dtype='f')\n",
      "for i, pix in enumerate(exp.network.find(1, 0).get_value().T):\n",
      "    r, c = divmod(i, cols)\n",
      "    img[r * (img_size+5): r*(img_size+5) + img_size, \n",
      "        c * (img_size+5): c * (img_size+5) + img_size] = pix.reshape((img_size, img_size))\n",
      "\n",
      "plt.figure()\n",
      "plt.imshow(img, cmap=plt.cm.gray)\n",
      "plt.show()"
     ],
     "language": "python",
     "metadata": {},
     "outputs": []
    },
    {
     "cell_type": "markdown",
     "metadata": {},
     "source": [
      "Czym s\u0105 te wagi? Czy mo\u017cesz poda\u0107 jak\u0105\u015b ich interpretacj\u0119? Dlaczego tak wygl\u0105daj\u0105?"
     ]
    },
    {
     "cell_type": "heading",
     "level": 5,
     "metadata": {},
     "source": [
      "Zadanie programistyczne"
     ]
    },
    {
     "cell_type": "markdown",
     "metadata": {},
     "source": [
      "Opakuj siec z theanets w skladnie `scikit-learn`, tzn. spraw zeby dalo sie go uzywac wg. nastepujacych zasad:\n",
      "\n",
      "* wszelkie istotne charakterystyki powinny byc przekazywane jako argumenty konstruktora\n",
      "* uczenie powinno byc wywolywane metoda `fit(X, y)`\n",
      "* przewidywanie etykiet powinno byc wywolywane metoda `predict(X)`\n",
      "* powinno dac sie odzyskac prawdopodobienstwa klasyfikacji przez `predict_proba(X)`"
     ]
    }
   ],
   "metadata": {}
  }
 ]
}