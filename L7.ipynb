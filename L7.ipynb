{
 "cells": [
  {
   "cell_type": "markdown",
   "metadata": {},
   "source": [
    "# Język Python - Wykład 7."
   ]
  },
  {
   "cell_type": "markdown",
   "metadata": {},
   "source": [
    "## Jeszcze więcej o testowaniu naszej aplikacji, modułu, package'u"
   ]
  },
  {
   "cell_type": "code",
   "execution_count": null,
   "metadata": {
    "collapsed": true
   },
   "outputs": [],
   "source": [
    "import timeit"
   ]
  },
  {
   "cell_type": "code",
   "execution_count": null,
   "metadata": {
    "collapsed": false,
    "scrolled": true
   },
   "outputs": [],
   "source": [
    "print timeit.timeit('for i in range(100000): i', number=100)"
   ]
  },
  {
   "cell_type": "code",
   "execution_count": null,
   "metadata": {
    "collapsed": false
   },
   "outputs": [],
   "source": [
    "print timeit.timeit('char in text', setup='text = \"sample string\"; char = \"g\"')\n",
    "print timeit.timeit('text.find(char)', setup='text = \"sample string\"; char = \"g\"')\n",
    "print timeit.timeit('len([a==char for a in text])>0', setup='text = \"sample string\"; char = \"g\"')\n"
   ]
  },
  {
   "cell_type": "code",
   "execution_count": null,
   "metadata": {
    "collapsed": false
   },
   "outputs": [],
   "source": [
    "# Jak szybkie sa metody laczenia stringow?\n",
    "codes = {\n",
    "    '\" \".join(chars)',\n",
    "    'reduce(lambda a, b : a + \" \" + b, chars)',\n",
    "    'for a in chars: word += a + \" \";'\n",
    "}\n",
    "\n",
    "for code in codes:\n",
    "    print code\n",
    "    print timeit.timeit(code, setup='chars = [\"a\"] * 1000; word = \"\"', number=1000)\n",
    "    print"
   ]
  },
  {
   "cell_type": "code",
   "execution_count": null,
   "metadata": {
    "collapsed": false
   },
   "outputs": [],
   "source": [
    "for length in [100, 1000, 10000, 100000]:\n",
    "\n",
    "    codes = [\n",
    "        '\"-\".join(str(n) for n in xrange('+str(length)+'))',\n",
    "        '\"-\".join([str(n) for n in xrange('+str(length)+')])',\n",
    "        '\"-\".join(map(str, xrange('+str(length)+')))'\n",
    "    ]\n",
    "\n",
    "    scores = {}\n",
    "    \n",
    "    for code in codes:\n",
    "        print code\n",
    "        score = timeit.timeit(code, number=1000000 / length)\n",
    "        scores[code] = score\n",
    "        print score\n",
    "        print\n",
    "    \n",
    "    best = None\n",
    "    for code in scores:\n",
    "        if (best is None) or (scores[code] < scores[best]):\n",
    "            best = code\n",
    "            \n",
    "    print\n",
    "    print 'For ', length, 'numbers ', best, 'is the fastest'\n",
    "    print\n",
    "    print"
   ]
  },
  {
   "cell_type": "markdown",
   "metadata": {},
   "source": [
    "#### code profiling"
   ]
  },
  {
   "cell_type": "code",
   "execution_count": null,
   "metadata": {
    "collapsed": false
   },
   "outputs": [],
   "source": [
    "import cProfile\n",
    "\n",
    "import time\n",
    "\n",
    "def sleep(n):\n",
    "    time.sleep(n)\n",
    "\n",
    "def bar():\n",
    "    time.sleep(0.1)\n",
    "    return 1\n",
    "\n",
    "def foo():\n",
    "    x = 0\n",
    "    for i in range(100):\n",
    "        x += bar()\n",
    "    sleep(3)\n",
    "    return x\n",
    "\n",
    "cProfile.run('foo()')"
   ]
  },
  {
   "cell_type": "raw",
   "metadata": {},
   "source": [
    "python -m cProfile FILENAME.py"
   ]
  },
  {
   "cell_type": "code",
   "execution_count": null,
   "metadata": {
    "collapsed": false
   },
   "outputs": [],
   "source": [
    "import cProfile\n",
    "def gen(n):\n",
    "    return \"-\".join(str(n) for n in xrange(n))\n",
    "\n",
    "def lst(n):\n",
    "    return \"-\".join([str(n) for n in xrange(n)])\n",
    "\n",
    "print cProfile.run('gen(1000000)')\n",
    "print cProfile.run('lst(1000000)')"
   ]
  },
  {
   "cell_type": "code",
   "execution_count": null,
   "metadata": {
    "collapsed": false
   },
   "outputs": [],
   "source": [
    "import cProfile\n",
    "\n",
    "def do_cprofile(func):\n",
    "    def profiled_func(*args, **kwargs):\n",
    "        profile = cProfile.Profile()\n",
    "        try:\n",
    "            profile.enable()\n",
    "            result = func(*args, **kwargs)\n",
    "            profile.disable()\n",
    "            return result\n",
    "        finally:\n",
    "            profile.print_stats()\n",
    "    return profiled_func\n",
    "\n",
    "import time\n",
    "\n",
    "@do_cprofile\n",
    "def sleep(n):\n",
    "    time.sleep(n)\n",
    "\n",
    "#@do_cprofile\n",
    "def bar():\n",
    "    time.sleep(0.1)\n",
    "    return 1\n",
    "\n",
    "def foo():\n",
    "    x = 0\n",
    "    for i in range(100):\n",
    "        x += bar()\n",
    "    sleep(3)\n",
    "    return x\n",
    "\n",
    "foo()"
   ]
  },
  {
   "cell_type": "markdown",
   "metadata": {},
   "source": [
    "#### UWAGA - wymaga zewnętrznej biblioteki \"line_profiler\"\n",
    "\n",
    "    pip install line_profiler"
   ]
  },
  {
   "cell_type": "code",
   "execution_count": null,
   "metadata": {
    "collapsed": false
   },
   "outputs": [],
   "source": [
    "from line_profiler import LineProfiler\n",
    "\n",
    "def do_profile(follow=[]):\n",
    "    def inner(func):\n",
    "        def profiled_func(*args, **kwargs):\n",
    "            try:\n",
    "                profiler = LineProfiler()\n",
    "                profiler.add_function(func)\n",
    "                for f in follow:\n",
    "                    profiler.add_function(f)\n",
    "                profiler.enable_by_count()\n",
    "                return func(*args, **kwargs)\n",
    "            finally:\n",
    "                profiler.print_stats()\n",
    "        return profiled_func\n",
    "    return inner\n",
    "    \n",
    "def sleep(n):\n",
    "    for i in range(n):\n",
    "        x = 17 ** 4\n",
    "        time.sleep(1)\n",
    "\n",
    "def bar():\n",
    "    time.sleep(0.1)\n",
    "    return 1\n",
    "\n",
    "@do_profile(follow=[sleep, bar])\n",
    "def foo():\n",
    "    x = 0\n",
    "    for i in range(100):\n",
    "        x += bar()\n",
    "    sleep(3)\n",
    "    return x\n",
    "\n",
    "foo()"
   ]
  },
  {
   "cell_type": "code",
   "execution_count": null,
   "metadata": {
    "collapsed": false
   },
   "outputs": [],
   "source": [
    "@do_profile()\n",
    "def primes(n): \n",
    "    if n==2:\n",
    "        return [2]\n",
    "    elif n<2:\n",
    "        return []\n",
    "    s=range(3,n+1,2)\n",
    "    mroot = n ** 0.5\n",
    "    half=(n+1)/2-1\n",
    "    i=0\n",
    "    m=3\n",
    "    while m <= mroot:\n",
    "        if s[i]:\n",
    "            j=(m*m-3)/2\n",
    "            s[j]=0\n",
    "            while j<half:\n",
    "                s[j]=0\n",
    "                j+=m\n",
    "        i=i+1\n",
    "        m=2*i+3\n",
    "    return [2]+[x for x in s if x]\n",
    "\n",
    "null = primes(1000)"
   ]
  },
  {
   "cell_type": "markdown",
   "metadata": {},
   "source": [
    "## Tworzenie własnych modułów"
   ]
  },
  {
   "cell_type": "code",
   "execution_count": null,
   "metadata": {
    "collapsed": false
   },
   "outputs": [],
   "source": [
    "import math"
   ]
  },
  {
   "cell_type": "code",
   "execution_count": null,
   "metadata": {
    "collapsed": false
   },
   "outputs": [],
   "source": [
    "from math import sqrt"
   ]
  },
  {
   "cell_type": "code",
   "execution_count": null,
   "metadata": {
    "collapsed": false
   },
   "outputs": [],
   "source": [
    "from numpy.linalg import lstsq"
   ]
  },
  {
   "cell_type": "markdown",
   "metadata": {},
   "source": [
    "Też chce taki!"
   ]
  },
  {
   "cell_type": "raw",
   "metadata": {},
   "source": [
    "script.py\n",
    "\n",
    "my_module/\n",
    "    __init__.py\n",
    "    cars.py\n",
    "    utils/\n",
    "        __init__.py\n",
    "        io.py\n",
    "        visualization.py"
   ]
  },
  {
   "cell_type": "code",
   "execution_count": null,
   "metadata": {
    "collapsed": false
   },
   "outputs": [],
   "source": [
    "import my_module"
   ]
  },
  {
   "cell_type": "code",
   "execution_count": null,
   "metadata": {
    "collapsed": false
   },
   "outputs": [],
   "source": [
    "dir(my_module)"
   ]
  },
  {
   "cell_type": "code",
   "execution_count": null,
   "metadata": {
    "collapsed": false
   },
   "outputs": [],
   "source": [
    "with open('my_module/__init__.py') as f:\n",
    "    print f.read()"
   ]
  },
  {
   "cell_type": "code",
   "execution_count": null,
   "metadata": {
    "collapsed": true
   },
   "outputs": [],
   "source": [
    "from my_module import cars"
   ]
  },
  {
   "cell_type": "code",
   "execution_count": null,
   "metadata": {
    "collapsed": false
   },
   "outputs": [],
   "source": [
    "dir(cars)"
   ]
  },
  {
   "cell_type": "code",
   "execution_count": null,
   "metadata": {
    "collapsed": false
   },
   "outputs": [],
   "source": [
    "with open('my_module/cars.py') as f:\n",
    "    print f.read()"
   ]
  },
  {
   "cell_type": "code",
   "execution_count": null,
   "metadata": {
    "collapsed": true
   },
   "outputs": [],
   "source": [
    "fiat = cars.Fiat()"
   ]
  },
  {
   "cell_type": "code",
   "execution_count": null,
   "metadata": {
    "collapsed": true
   },
   "outputs": [],
   "source": [
    "from my_module.cars import Fiat\n",
    "fiat = Fiat()"
   ]
  },
  {
   "cell_type": "raw",
   "metadata": {},
   "source": [
    "script.py\n",
    "\n",
    "my_module/\n",
    "    __init__.py\n",
    "    cars.py\n",
    "    utils/\n",
    "        __init__.py\n",
    "        io.py\n",
    "        visualization.py\n",
    "    test/"
   ]
  },
  {
   "cell_type": "code",
   "execution_count": null,
   "metadata": {
    "collapsed": false
   },
   "outputs": [],
   "source": [
    "from my_module.utils import io # Konstruktory modulow"
   ]
  },
  {
   "cell_type": "code",
   "execution_count": null,
   "metadata": {
    "collapsed": false
   },
   "outputs": [],
   "source": [
    "with open('my_module/utils/__init__.py') as f:\n",
    "    print f.read()"
   ]
  },
  {
   "cell_type": "markdown",
   "metadata": {},
   "source": [
    "A co jeśli nie ma `__init__.py`?"
   ]
  },
  {
   "cell_type": "code",
   "execution_count": null,
   "metadata": {
    "collapsed": false
   },
   "outputs": [],
   "source": [
    "from my_module import test"
   ]
  },
  {
   "cell_type": "markdown",
   "metadata": {},
   "source": [
    "Importowanie względne..."
   ]
  },
  {
   "cell_type": "code",
   "execution_count": null,
   "metadata": {
    "collapsed": true
   },
   "outputs": [],
   "source": [
    "from my_module.utils import visualization"
   ]
  },
  {
   "cell_type": "code",
   "execution_count": null,
   "metadata": {
    "collapsed": false
   },
   "outputs": [],
   "source": [
    "dir(visualization)"
   ]
  },
  {
   "cell_type": "code",
   "execution_count": null,
   "metadata": {
    "collapsed": false
   },
   "outputs": [],
   "source": [
    "with open('my_module/utils/visualization.py') as f:\n",
    "    print f.read()"
   ]
  },
  {
   "cell_type": "markdown",
   "metadata": {},
   "source": [
    "Czasami trzeba przeładować moduł"
   ]
  },
  {
   "cell_type": "code",
   "execution_count": null,
   "metadata": {
    "collapsed": false
   },
   "outputs": [],
   "source": [
    "import my_module\n",
    "mod1 = reload(my_module)\n",
    "mod2 = reload(my_module)\n",
    "\n",
    "print mod1\n",
    "print dir(mod2)"
   ]
  },
  {
   "cell_type": "markdown",
   "metadata": {},
   "source": [
    "Mamy moduł `optimizers`, gdzie trzymamy różne metody minimalizacji funkcji\n",
    "\n",
    "    optimizers/\n",
    "        __init__.py\n",
    "        linear/\n",
    "            __init__.py\n",
    "            lsqr.py\n",
    "        meta/\n",
    "            __init__.py\n",
    "            genetic.py\n",
    "            ants.py\n",
    "            \n",
    "Jednak użytkownik nie powinien uczyć się na pamięć naszej skomplikowanej struktury, powinien raczej używać:\n",
    "\n",
    "    from optimizers import GeneticAlgorithm # zamiast from optimizers.meta.genetic import GeneticAlgorithm\n",
    "    \n",
    "W tym celu w `__init__` czasami \"wystawia\" się klasy, np. poprzez\n",
    "\n",
    "    from linear.lsqr import LeastSquares\n",
    "    from meta.genetic import GeneticAlgorithm\n",
    "    from meta.ants import AntColony\n",
    "    \n",
    "W pliku `__init__` nie powinniśmy robić **niczego** poza inicjalizacją / wystawieniem klas/funkcji"
   ]
  },
  {
   "cell_type": "code",
   "execution_count": null,
   "metadata": {
    "collapsed": false
   },
   "outputs": [],
   "source": [
    "import numpy\n",
    "help(numpy)"
   ]
  },
  {
   "cell_type": "markdown",
   "metadata": {},
   "source": [
    "Jak zdefiniować własny help?"
   ]
  },
  {
   "cell_type": "code",
   "execution_count": null,
   "metadata": {
    "collapsed": false
   },
   "outputs": [],
   "source": [
    "help(my_module)"
   ]
  },
  {
   "cell_type": "code",
   "execution_count": null,
   "metadata": {
    "collapsed": false
   },
   "outputs": [],
   "source": [
    "from my_module import cars\n",
    "help(cars)"
   ]
  },
  {
   "cell_type": "markdown",
   "metadata": {},
   "source": [
    "Co trafia do `help`?\n",
    "\n",
    "* Docstring z początku pliku - pierwsza linijka to opis krótki, to co później to DESCRIPTION\n",
    "* Wszystkie zmienne (DATA), funkcje (FUNCTIONS), klasy (CLASSES), podmoduły (PACKAGE CONTENTS)\n",
    "* Docstringi funkcji/klas trafiają w odpowiednie pola\n",
    "* Niektóre \"magiczne\" zmienne, tzn. \\_\\_author\\_\\_, \\_\\_version\\_\\_, \\_\\_credits\\_\\_, ... są dodatkowo wyświetlane jako osobne pola"
   ]
  },
  {
   "cell_type": "code",
   "execution_count": null,
   "metadata": {
    "collapsed": false
   },
   "outputs": [],
   "source": [
    "print 'NAME', cars.__name__\n",
    "print 'DOC', cars.__doc__\n",
    "print 'DIR', dir(cars)\n",
    "print\n",
    "print 'FIAT DOC', cars.Fiat.__doc__"
   ]
  },
  {
   "cell_type": "markdown",
   "metadata": {},
   "source": [
    "#### Generowanie dokumentacji \"offline\""
   ]
  },
  {
   "cell_type": "raw",
   "metadata": {},
   "source": [
    "pydoc -w my_module \n",
    "pydoc -w my_module.cars\n",
    "pydoc -w my_module.utils\n",
    "pydoc -w my_module.utils.io\n",
    "pydoc -w my_module.utils.visualization"
   ]
  },
  {
   "cell_type": "markdown",
   "metadata": {},
   "source": [
    "<a href=\"my_module.html\">docs</a>"
   ]
  },
  {
   "cell_type": "markdown",
   "metadata": {},
   "source": [
    "Dla bardziej zaawansowanych: http://sphinx-doc.org/"
   ]
  }
 ],
 "metadata": {
  "kernelspec": {
   "display_name": "Python 2",
   "language": "python",
   "name": "python2"
  },
  "language_info": {
   "codemirror_mode": {
    "name": "ipython",
    "version": 2
   },
   "file_extension": ".py",
   "mimetype": "text/x-python",
   "name": "python",
   "nbconvert_exporter": "python",
   "pygments_lexer": "ipython2",
   "version": "2.7.9"
  }
 },
 "nbformat": 4,
 "nbformat_minor": 0
}
