{
 "metadata": {
  "name": ""
 },
 "nbformat": 3,
 "nbformat_minor": 0,
 "worksheets": [
  {
   "cells": [
    {
     "cell_type": "heading",
     "level": 1,
     "metadata": {},
     "source": [
      "J\u0119zyk Python - Wyk\u0142ad 6."
     ]
    },
    {
     "cell_type": "heading",
     "level": 2,
     "metadata": {},
     "source": [
      "pylint"
     ]
    },
    {
     "cell_type": "code",
     "collapsed": false,
     "input": [
      "def read(f):\n",
      "    print open('L6/' + f).read()"
     ],
     "language": "python",
     "metadata": {},
     "outputs": [],
     "prompt_number": 10
    },
    {
     "cell_type": "code",
     "collapsed": false,
     "input": [
      "read('bad_syntax.py')"
     ],
     "language": "python",
     "metadata": {},
     "outputs": [
      {
       "output_type": "stream",
       "stream": "stdout",
       "text": [
        "\"\"\"\n",
        "This code is just for testing syntax checking\n",
        "\n",
        "It has some questionable code in it ...\n",
        "\"\"\"\n",
        "\n",
        "def dummy(x):\n",
        "   print('silly output')\n",
        "\n",
        "if __name__ == \"__main__\":\n",
        "    dummy(4)\n",
        "\n"
       ]
      }
     ],
     "prompt_number": 11
    },
    {
     "cell_type": "code",
     "collapsed": false,
     "input": [
      "!~/anaconda/bin/pylint L6/bad_syntax.py"
     ],
     "language": "python",
     "metadata": {},
     "outputs": [
      {
       "output_type": "stream",
       "stream": "stdout",
       "text": [
        "No config file found, using default configuration\r\n",
        "************* Module bad_syntax\r\n",
        "W:  8, 0: Bad indentation. Found 3 spaces, expected 4 (bad-indentation)\r\n",
        "C:  8, 0: Unnecessary parens after 'print' keyword (superfluous-parens)\r\n",
        "C:  7, 0: Invalid argument name \"x\" (invalid-name)\r\n",
        "C:  7, 0: Missing function docstring (missing-docstring)\r\n",
        "W:  7,10: Unused argument 'x' (unused-argument)\r\n",
        "\r\n",
        "\r\n",
        "Report\r\n",
        "======\r\n",
        "5 statements analysed.\r\n",
        "\r\n",
        "Statistics by type\r\n",
        "------------------\r\n",
        "\r\n",
        "+---------+-------+-----------+-----------+------------+---------+\r\n",
        "|type     |number |old number |difference |%documented |%badname |\r\n",
        "+=========+=======+===========+===========+============+=========+\r\n",
        "|module   |1      |1          |=          |100.00      |0.00     |\r\n",
        "+---------+-------+-----------+-----------+------------+---------+\r\n",
        "|class    |0      |0          |=          |0           |0        |\r\n",
        "+---------+-------+-----------+-----------+------------+---------+\r\n",
        "|method   |0      |0          |=          |0           |0        |\r\n",
        "+---------+-------+-----------+-----------+------------+---------+\r\n",
        "|function |1      |1          |=          |0.00        |0.00     |\r\n",
        "+---------+-------+-----------+-----------+------------+---------+\r\n",
        "\r\n",
        "\r\n",
        "\r\n",
        "Raw metrics\r\n",
        "-----------\r\n",
        "\r\n",
        "+----------+-------+------+---------+-----------+\r\n",
        "|type      |number |%     |previous |difference |\r\n",
        "+==========+=======+======+=========+===========+\r\n",
        "|code      |4      |33.33 |NC       |NC         |\r\n",
        "+----------+-------+------+---------+-----------+\r\n",
        "|docstring |5      |41.67 |NC       |NC         |\r\n",
        "+----------+-------+------+---------+-----------+\r\n",
        "|comment   |0      |0.00  |NC       |NC         |\r\n",
        "+----------+-------+------+---------+-----------+\r\n",
        "|empty     |3      |25.00 |NC       |NC         |\r\n",
        "+----------+-------+------+---------+-----------+\r\n",
        "\r\n",
        "\r\n",
        "\r\n",
        "Duplication\r\n",
        "-----------\r\n",
        "\r\n",
        "+-------------------------+------+---------+-----------+\r\n",
        "|                         |now   |previous |difference |\r\n",
        "+=========================+======+=========+===========+\r\n",
        "|nb duplicated lines      |0     |0        |=          |\r\n",
        "+-------------------------+------+---------+-----------+\r\n",
        "|percent duplicated lines |0.000 |0.000    |=          |\r\n",
        "+-------------------------+------+---------+-----------+\r\n",
        "\r\n",
        "\r\n",
        "\r\n",
        "Messages by category\r\n",
        "--------------------\r\n",
        "\r\n",
        "+-----------+-------+---------+-----------+\r\n",
        "|type       |number |previous |difference |\r\n",
        "+===========+=======+=========+===========+\r\n",
        "|convention |3      |3        |=          |\r\n",
        "+-----------+-------+---------+-----------+\r\n",
        "|refactor   |0      |0        |=          |\r\n",
        "+-----------+-------+---------+-----------+\r\n",
        "|warning    |2      |2        |=          |\r\n",
        "+-----------+-------+---------+-----------+\r\n",
        "|error      |0      |0        |=          |\r\n",
        "+-----------+-------+---------+-----------+\r\n",
        "\r\n",
        "\r\n",
        "\r\n",
        "Messages\r\n",
        "--------\r\n",
        "\r\n",
        "+-------------------+------------+\r\n",
        "|message id         |occurrences |\r\n",
        "+===================+============+\r\n",
        "|unused-argument    |1           |\r\n",
        "+-------------------+------------+\r\n",
        "|superfluous-parens |1           |\r\n",
        "+-------------------+------------+\r\n",
        "|missing-docstring  |1           |\r\n",
        "+-------------------+------------+\r\n",
        "|invalid-name       |1           |\r\n",
        "+-------------------+------------+\r\n",
        "|bad-indentation    |1           |\r\n",
        "+-------------------+------------+\r\n",
        "\r\n",
        "\r\n",
        "\r\n",
        "Global evaluation\r\n",
        "-----------------\r\n",
        "Your code has been rated at 0.00/10\r\n",
        "\r\n"
       ]
      }
     ],
     "prompt_number": 16
    },
    {
     "cell_type": "code",
     "collapsed": false,
     "input": [
      "read('bad_syntax2.py')"
     ],
     "language": "python",
     "metadata": {},
     "outputs": [
      {
       "output_type": "stream",
       "stream": "stdout",
       "text": [
        "\"\"\"\n",
        "This code is just for testing syntax checking\n",
        "\n",
        "It has some questionable code in it ...\n",
        "\"\"\"\n",
        "\n",
        "def dummy(variable):\n",
        "    \"\"\"It is just a dummy method\"\"\"\n",
        "    print 'silly output', variable\n",
        "\n",
        "if __name__ == \"__main__\":\n",
        "    dummy(4)\n",
        "\n"
       ]
      }
     ],
     "prompt_number": 15
    },
    {
     "cell_type": "code",
     "collapsed": false,
     "input": [
      "!~/anaconda/bin/pylint L6/bad_syntax2.py | tail -n 2"
     ],
     "language": "python",
     "metadata": {},
     "outputs": [
      {
       "output_type": "stream",
       "stream": "stdout",
       "text": [
        "No config file found, using default configuration\r\n"
       ]
      },
      {
       "output_type": "stream",
       "stream": "stdout",
       "text": [
        "Your code has been rated at 10.00/10 (previous run: 10.00/10, +0.00)\r\n",
        "\r\n"
       ]
      }
     ],
     "prompt_number": 24
    },
    {
     "cell_type": "code",
     "collapsed": false,
     "input": [
      "read('bad_class.py')"
     ],
     "language": "python",
     "metadata": {},
     "outputs": [
      {
       "output_type": "stream",
       "stream": "stdout",
       "text": [
        "import sys\n",
        " \n",
        "########################################################################\n",
        "class CarClass:\n",
        "    \"\"\"\"\"\"\n",
        " \n",
        "    #----------------------------------------------------------------------\n",
        "    def __init__(self, color, make, model, year):\n",
        "        \"\"\"Constructor\"\"\"\n",
        "        self.color = color\n",
        "        self.make = make\n",
        "        self.model = model\n",
        "        self.year = year\n",
        " \n",
        "        if \"Windows\" in platform.platform():\n",
        "            print \"You're using Windows!\"\n",
        " \n",
        "        self.weight = self.getWeight(1, 2, 3)\n",
        " \n",
        "    #----------------------------------------------------------------------\n",
        "    def getWeight(this):\n",
        "        \"\"\"\"\"\"\n",
        "        return \"2000 lbs\"\n",
        "\n"
       ]
      }
     ],
     "prompt_number": 25
    },
    {
     "cell_type": "code",
     "collapsed": false,
     "input": [
      "!~/anaconda/bin/pylint L6/bad_class.py"
     ],
     "language": "python",
     "metadata": {},
     "outputs": [
      {
       "output_type": "stream",
       "stream": "stdout",
       "text": [
        "No config file found, using default configuration\r\n"
       ]
      },
      {
       "output_type": "stream",
       "stream": "stdout",
       "text": [
        "************* Module bad_class\r\n",
        "C:  2, 0: Trailing whitespace (trailing-whitespace)\r\n",
        "C:  6, 0: Trailing whitespace (trailing-whitespace)\r\n",
        "C: 14, 0: Trailing whitespace (trailing-whitespace)\r\n",
        "C: 17, 0: Trailing whitespace (trailing-whitespace)\r\n",
        "C: 19, 0: Trailing whitespace (trailing-whitespace)\r\n",
        "C:  1, 0: Missing module docstring (missing-docstring)\r\n",
        "C:  4, 0: Empty class docstring (empty-docstring)\r\n",
        "C:  4, 0: Old-style class defined. (old-style-class)\r\n",
        "E: 15,24: Undefined variable 'platform' (undefined-variable)\r\n",
        "E: 18,22: Too many positional arguments for method call (too-many-function-args)\r\n",
        "C: 21, 4: Invalid method name \"getWeight\" (invalid-name)\r\n",
        "C: 21, 4: Empty method docstring (empty-docstring)\r\n",
        "E: 21, 4: Method should have \"self\" as first argument (no-self-argument)\r\n",
        "R: 21, 4: Method could be a function (no-self-use)\r\n",
        "R:  4, 0: Too few public methods (1/2) (too-few-public-methods)\r\n",
        "W:  1, 0: Unused import sys (unused-import)\r\n",
        "\r\n",
        "\r\n",
        "Report\r\n",
        "======\r\n",
        "13 statements analysed.\r\n",
        "\r\n",
        "Statistics by type\r\n",
        "------------------\r\n",
        "\r\n",
        "+---------+-------+-----------+-----------+------------+---------+\r\n",
        "|type     |number |old number |difference |%documented |%badname |\r\n",
        "+=========+=======+===========+===========+============+=========+\r\n",
        "|module   |1      |NC         |NC         |0.00        |0.00     |\r\n",
        "+---------+-------+-----------+-----------+------------+---------+\r\n",
        "|class    |1      |NC         |NC         |0.00        |0.00     |\r\n",
        "+---------+-------+-----------+-----------+------------+---------+\r\n",
        "|method   |2      |NC         |NC         |50.00       |50.00    |\r\n",
        "+---------+-------+-----------+-----------+------------+---------+\r\n",
        "|function |0      |NC         |NC         |0           |0        |\r\n",
        "+---------+-------+-----------+-----------+------------+---------+\r\n",
        "\r\n",
        "\r\n",
        "\r\n",
        "Raw metrics\r\n",
        "-----------\r\n",
        "\r\n",
        "+----------+-------+------+---------+-----------+\r\n",
        "|type      |number |%     |previous |difference |\r\n",
        "+==========+=======+======+=========+===========+\r\n",
        "|code      |12     |63.16 |NC       |NC         |\r\n",
        "+----------+-------+------+---------+-----------+\r\n",
        "|docstring |4      |21.05 |NC       |NC         |\r\n",
        "+----------+-------+------+---------+-----------+\r\n",
        "|comment   |3      |15.79 |NC       |NC         |\r\n",
        "+----------+-------+------+---------+-----------+\r\n",
        "|empty     |0      |0.00  |NC       |NC         |\r\n",
        "+----------+-------+------+---------+-----------+\r\n",
        "\r\n",
        "\r\n",
        "\r\n",
        "Duplication\r\n",
        "-----------\r\n",
        "\r\n",
        "+-------------------------+------+---------+-----------+\r\n",
        "|                         |now   |previous |difference |\r\n",
        "+=========================+======+=========+===========+\r\n",
        "|nb duplicated lines      |0     |NC       |NC         |\r\n",
        "+-------------------------+------+---------+-----------+\r\n",
        "|percent duplicated lines |0.000 |NC       |NC         |\r\n",
        "+-------------------------+------+---------+-----------+\r\n",
        "\r\n",
        "\r\n",
        "\r\n",
        "Messages by category\r\n",
        "--------------------\r\n",
        "\r\n",
        "+-----------+-------+---------+-----------+\r\n",
        "|type       |number |previous |difference |\r\n",
        "+===========+=======+=========+===========+\r\n",
        "|convention |10     |NC       |NC         |\r\n",
        "+-----------+-------+---------+-----------+\r\n",
        "|refactor   |2      |NC       |NC         |\r\n",
        "+-----------+-------+---------+-----------+\r\n",
        "|warning    |1      |NC       |NC         |\r\n",
        "+-----------+-------+---------+-----------+\r\n",
        "|error      |3      |NC       |NC         |\r\n",
        "+-----------+-------+---------+-----------+\r\n",
        "\r\n",
        "\r\n",
        "\r\n",
        "Messages\r\n",
        "--------\r\n",
        "\r\n",
        "+-----------------------+------------+\r\n",
        "|message id             |occurrences |\r\n",
        "+=======================+============+\r\n",
        "|trailing-whitespace    |5           |\r\n",
        "+-----------------------+------------+\r\n",
        "|empty-docstring        |2           |\r\n",
        "+-----------------------+------------+\r\n",
        "|unused-import          |1           |\r\n",
        "+-----------------------+------------+\r\n",
        "|undefined-variable     |1           |\r\n",
        "+-----------------------+------------+\r\n",
        "|too-many-function-args |1           |\r\n",
        "+-----------------------+------------+\r\n",
        "|too-few-public-methods |1           |\r\n",
        "+-----------------------+------------+\r\n",
        "|old-style-class        |1           |\r\n",
        "+-----------------------+------------+\r\n",
        "|no-self-use            |1           |\r\n",
        "+-----------------------+------------+\r\n",
        "|no-self-argument       |1           |\r\n",
        "+-----------------------+------------+\r\n",
        "|missing-docstring      |1           |\r\n",
        "+-----------------------+------------+\r\n",
        "|invalid-name           |1           |\r\n",
        "+-----------------------+------------+\r\n",
        "\r\n",
        "\r\n",
        "\r\n",
        "Global evaluation\r\n",
        "-----------------\r\n",
        "Your code has been rated at -11.54/10\r\n",
        "\r\n"
       ]
      }
     ],
     "prompt_number": 26
    },
    {
     "cell_type": "heading",
     "level": 2,
     "metadata": {},
     "source": [
      "Testowanie kodu"
     ]
    },
    {
     "cell_type": "markdown",
     "metadata": {},
     "source": [
      "### assert\n",
      "\n",
      "* w kodzie mo\u017cna traktowa\u0107 jako dodatkow\u0105 dokumentacj\u0119 (uruchamialn\u0105)\n",
      "* nie zast\u0119puj\u0105 test\u00f3w (jedynie uzupe\u0142niaj\u0105 je)\n",
      "* pozwalaj\u0105 szybciej wy\u0142apywa\u0107 bugi"
     ]
    },
    {
     "cell_type": "code",
     "collapsed": false,
     "input": [
      "assert True"
     ],
     "language": "python",
     "metadata": {},
     "outputs": [],
     "prompt_number": 61
    },
    {
     "cell_type": "code",
     "collapsed": false,
     "input": [
      "assert False, \"Cos poszlo nie tak :-(\""
     ],
     "language": "python",
     "metadata": {},
     "outputs": [
      {
       "ename": "AssertionError",
       "evalue": "Cos poszlo nie tak :-(",
       "output_type": "pyerr",
       "traceback": [
        "\u001b[1;31m---------------------------------------------------------------------------\u001b[0m\n\u001b[1;31mAssertionError\u001b[0m                            Traceback (most recent call last)",
        "\u001b[1;32m<ipython-input-63-1081fa441fa0>\u001b[0m in \u001b[0;36m<module>\u001b[1;34m()\u001b[0m\n\u001b[1;32m----> 1\u001b[1;33m \u001b[1;32massert\u001b[0m \u001b[0mFalse\u001b[0m\u001b[1;33m,\u001b[0m \u001b[1;34m\"Cos poszlo nie tak :-(\"\u001b[0m\u001b[1;33m\u001b[0m\u001b[0m\n\u001b[0m",
        "\u001b[1;31mAssertionError\u001b[0m: Cos poszlo nie tak :-("
       ]
      }
     ],
     "prompt_number": 63
    },
    {
     "cell_type": "code",
     "collapsed": false,
     "input": [
      "assert 2+3 == 5"
     ],
     "language": "python",
     "metadata": {},
     "outputs": [],
     "prompt_number": 66
    },
    {
     "cell_type": "markdown",
     "metadata": {},
     "source": [
      "Niekt\u00f3rzy u\u017cywaj\u0105 assert\u00f3w do kontroli typ\u00f3w w Pythonie! (ale to jak wiemy zabija kaczki)"
     ]
    },
    {
     "cell_type": "code",
     "collapsed": false,
     "input": [
      "def add(a, b):\n",
      "    assert type(a) is int, 'a is not an integer, a=%r' % a\n",
      "    assert type(b) is int, 'b is not an integer, b=%r' % b\n",
      "    return a + b"
     ],
     "language": "python",
     "metadata": {},
     "outputs": [],
     "prompt_number": 70
    },
    {
     "cell_type": "code",
     "collapsed": false,
     "input": [
      "add(3, 5)"
     ],
     "language": "python",
     "metadata": {},
     "outputs": [
      {
       "metadata": {},
       "output_type": "pyout",
       "prompt_number": 68,
       "text": [
        "8"
       ]
      }
     ],
     "prompt_number": 68
    },
    {
     "cell_type": "code",
     "collapsed": false,
     "input": [
      "add(4.0, 1)"
     ],
     "language": "python",
     "metadata": {},
     "outputs": [
      {
       "ename": "AssertionError",
       "evalue": "a is not an integer, a=4.0",
       "output_type": "pyerr",
       "traceback": [
        "\u001b[1;31m---------------------------------------------------------------------------\u001b[0m\n\u001b[1;31mAssertionError\u001b[0m                            Traceback (most recent call last)",
        "\u001b[1;32m<ipython-input-71-e88a488a8a15>\u001b[0m in \u001b[0;36m<module>\u001b[1;34m()\u001b[0m\n\u001b[1;32m----> 1\u001b[1;33m \u001b[0madd\u001b[0m\u001b[1;33m(\u001b[0m\u001b[1;36m4.0\u001b[0m\u001b[1;33m,\u001b[0m \u001b[1;36m1\u001b[0m\u001b[1;33m)\u001b[0m\u001b[1;33m\u001b[0m\u001b[0m\n\u001b[0m",
        "\u001b[1;32m<ipython-input-70-5d728de5fd73>\u001b[0m in \u001b[0;36madd\u001b[1;34m(a, b)\u001b[0m\n\u001b[0;32m      1\u001b[0m \u001b[1;32mdef\u001b[0m \u001b[0madd\u001b[0m\u001b[1;33m(\u001b[0m\u001b[0ma\u001b[0m\u001b[1;33m,\u001b[0m \u001b[0mb\u001b[0m\u001b[1;33m)\u001b[0m\u001b[1;33m:\u001b[0m\u001b[1;33m\u001b[0m\u001b[0m\n\u001b[1;32m----> 2\u001b[1;33m     \u001b[1;32massert\u001b[0m \u001b[0mtype\u001b[0m\u001b[1;33m(\u001b[0m\u001b[0ma\u001b[0m\u001b[1;33m)\u001b[0m \u001b[1;32mis\u001b[0m \u001b[0mint\u001b[0m\u001b[1;33m,\u001b[0m \u001b[1;34m'a is not an integer, a=%r'\u001b[0m \u001b[1;33m%\u001b[0m \u001b[0ma\u001b[0m\u001b[1;33m\u001b[0m\u001b[0m\n\u001b[0m\u001b[0;32m      3\u001b[0m     \u001b[1;32massert\u001b[0m \u001b[0mtype\u001b[0m\u001b[1;33m(\u001b[0m\u001b[0mb\u001b[0m\u001b[1;33m)\u001b[0m \u001b[1;32mis\u001b[0m \u001b[0mint\u001b[0m\u001b[1;33m,\u001b[0m \u001b[1;34m'b is not an integer, b=%r'\u001b[0m \u001b[1;33m%\u001b[0m \u001b[0mb\u001b[0m\u001b[1;33m\u001b[0m\u001b[0m\n\u001b[0;32m      4\u001b[0m     \u001b[1;32mreturn\u001b[0m \u001b[0ma\u001b[0m \u001b[1;33m+\u001b[0m \u001b[0mb\u001b[0m\u001b[1;33m\u001b[0m\u001b[0m\n",
        "\u001b[1;31mAssertionError\u001b[0m: a is not an integer, a=4.0"
       ]
      }
     ],
     "prompt_number": 71
    },
    {
     "cell_type": "markdown",
     "metadata": {},
     "source": [
      "Asercj\u0119 mo\u017cna wy\u0142\u0105czay\u0107! (np. na produkcji ze wzgl\u0119d\u00f3w wydajno\u015bciowych!)"
     ]
    },
    {
     "cell_type": "heading",
     "level": 2,
     "metadata": {},
     "source": [
      "doctest"
     ]
    },
    {
     "cell_type": "code",
     "collapsed": false,
     "input": [
      "def add(a, b):\n",
      "    \"\"\"\n",
      "    Zwraca sum\u0119 dw\u00f3ch liczb, np:\n",
      "    \n",
      "    >>> add(1, 2)\n",
      "    3\n",
      "    \n",
      "    >>> add(1, '2')\n",
      "    Traceback (most recent call last):\n",
      "    ...\n",
      "    TypeError: unsupported operand type(s) for +: 'int' and 'str'\n",
      "    \"\"\"\n",
      "    return a + b \n",
      "\n",
      "import doctest\n",
      "doctest.testmod()"
     ],
     "language": "python",
     "metadata": {},
     "outputs": [
      {
       "metadata": {},
       "output_type": "pyout",
       "prompt_number": 82,
       "text": [
        "TestResults(failed=0, attempted=2)"
       ]
      }
     ],
     "prompt_number": 82
    },
    {
     "cell_type": "code",
     "collapsed": false,
     "input": [
      "def factorial(n):\n",
      "    \"\"\"Return the factorial of n, an exact integer >= 0.\n",
      "\n",
      "    >>> [factorial(n) for n in range(6)]\n",
      "    [1, 1, 2, 6, 24, 120]\n",
      "    >>> factorial(30)\n",
      "    265252859812191058636308480000000L\n",
      "    >>> factorial(-1)\n",
      "    Traceback (most recent call last):\n",
      "        ...\n",
      "    ValueError: n must be >= 0\n",
      "\n",
      "    Factorials of floats are OK, but the float must be an exact integer:\n",
      "    >>> factorial(30.1)\n",
      "    Traceback (most recent call last):\n",
      "        ...\n",
      "    ValueError: n must be exact integer\n",
      "    >>> factorial(30.0)\n",
      "    265252859812191058636308480000000L\n",
      "\n",
      "    It must also not be ridiculously large:\n",
      "    >>> factorial(1e100)\n",
      "    Traceback (most recent call last):\n",
      "        ...\n",
      "    OverflowError: n too large\n",
      "    \"\"\"\n",
      "\n",
      "    import math\n",
      "    if not n >= 0:\n",
      "        raise ValueError(\"n must be >= 0\")\n",
      "    if math.floor(n) != n:\n",
      "        raise ValueError(\"n must be exact integer\")\n",
      "    if n+1 == n:  # catch a value like 1e300\n",
      "        raise OverflowError(\"n too large\")\n",
      "    result = 1\n",
      "    factor = 2\n",
      "    while factor <= n:\n",
      "        result *= factor\n",
      "        factor += 1\n",
      "    return result\n",
      "\n",
      "\n",
      "import doctest\n",
      "doctest.testmod()"
     ],
     "language": "python",
     "metadata": {},
     "outputs": [
      {
       "metadata": {},
       "output_type": "pyout",
       "prompt_number": 87,
       "text": [
        "TestResults(failed=0, attempted=8)"
       ]
      }
     ],
     "prompt_number": 87
    },
    {
     "cell_type": "raw",
     "metadata": {},
     "source": [
      "$ python example.py -v\n",
      "Trying:\n",
      "    factorial(5)\n",
      "Expecting:\n",
      "    120\n",
      "ok\n",
      "Trying:\n",
      "    [factorial(n) for n in range(6)]\n",
      "Expecting:\n",
      "    [1, 1, 2, 6, 24, 120]\n",
      "ok\n",
      "\n",
      "[...]\n",
      "\n",
      "Trying:\n",
      "    factorial(1e100)\n",
      "Expecting:\n",
      "    Traceback (most recent call last):\n",
      "        ...\n",
      "    OverflowError: n too large\n",
      "ok\n",
      "2 items passed all tests:\n",
      "   1 tests in __main__\n",
      "   8 tests in __main__.factorial\n",
      "9 tests in 2 items.\n",
      "9 passed and 0 failed.\n",
      "Test passed."
     ]
    },
    {
     "cell_type": "heading",
     "level": 3,
     "metadata": {},
     "source": [
      "example.test"
     ]
    },
    {
     "cell_type": "raw",
     "metadata": {},
     "source": [
      "The ``example`` module\n",
      "======================\n",
      "\n",
      "Using ``factorial``\n",
      "-------------------\n",
      "\n",
      "This is an example text file in reStructuredText format.  First import\n",
      "``factorial`` from the ``example`` module:\n",
      "\n",
      "    >>> from example import factorial\n",
      "\n",
      "Now use it:\n",
      "\n",
      "    >>> factorial(6)\n",
      "    120"
     ]
    },
    {
     "cell_type": "code",
     "collapsed": false,
     "input": [
      "import doctest\n",
      "doctest.testfile(\"example.test\")"
     ],
     "language": "python",
     "metadata": {},
     "outputs": []
    },
    {
     "cell_type": "raw",
     "metadata": {},
     "source": [
      "File \"./example.test\", line 14, in example.txt\n",
      "Failed example:\n",
      "    factorial(6)\n",
      "Expected:\n",
      "    120\n",
      "Got:\n",
      "    720"
     ]
    },
    {
     "cell_type": "code",
     "collapsed": false,
     "input": [
      "python -m doctest -v example.test"
     ],
     "language": "python",
     "metadata": {},
     "outputs": []
    },
    {
     "cell_type": "raw",
     "metadata": {},
     "source": [
      "File \"./example.test\", line 14, in example.txt\n",
      "Failed example:\n",
      "    factorial(6)\n",
      "Expected:\n",
      "    120\n",
      "Got:\n",
      "    720"
     ]
    },
    {
     "cell_type": "code",
     "collapsed": false,
     "input": [
      "def foo(*args):\n",
      "    \"\"\"\n",
      "    >>> print foo(range(10), range(4))\n",
      "    [0, 1, 2, 3, 4, 5, 6, 7, 8, 9, 0, 1, 2, 3]\n",
      "    \n",
      "    >>> print foo(range(10), range(4)) # doctest: +ELLIPSIS\n",
      "    [0, 1, ..., 9, 0, 1, 2, 3]\n",
      "    \n",
      "    >>> print foo(range(10), range(4)) # doctest: +ELLIPSIS, +NORMALIZE_WHITESPACE\n",
      "    [0, ..., 9,    0, ..., 3]\n",
      "    \"\"\"\n",
      "    return [x for el in args for x in el]\n",
      "\n",
      "import doctest\n",
      "doctest.testmod(verbose=3)"
     ],
     "language": "python",
     "metadata": {},
     "outputs": [
      {
       "output_type": "stream",
       "stream": "stdout",
       "text": [
        "Trying:\n",
        "    print foo(range(10), range(4))\n",
        "Expecting:\n",
        "    [0, 1, 2, 3, 4, 5, 6, 7, 8, 9, 0, 1, 2, 3]\n",
        "ok\n",
        "Trying:\n",
        "    print foo(range(10), range(4)) # doctest: +ELLIPSIS\n",
        "Expecting:\n",
        "    [0, 1, ..., 9, 0, 1, 2, 3]\n",
        "ok\n",
        "Trying:\n",
        "    print foo(range(10), range(4)) # doctest: +ELLIPSIS, +NORMALIZE_WHITESPACE\n",
        "Expecting:\n",
        "    [0, ..., 9,    0, ..., 3]\n",
        "ok\n",
        "2 items had no tests:\n",
        "    __main__\n",
        "    __main__.bar\n",
        "1 items passed all tests:\n",
        "   3 tests in __main__.foo\n",
        "3 tests in 3 items.\n",
        "3 passed and 0 failed.\n",
        "Test passed.\n"
       ]
      },
      {
       "metadata": {},
       "output_type": "pyout",
       "prompt_number": 9,
       "text": [
        "TestResults(failed=0, attempted=3)"
       ]
      }
     ],
     "prompt_number": 9
    },
    {
     "cell_type": "heading",
     "level": 2,
     "metadata": {},
     "source": [
      "Unittest"
     ]
    },
    {
     "cell_type": "code",
     "collapsed": false,
     "input": [
      "import random\n",
      "import unittest\n",
      "\n",
      "class TestSequenceFunctions(unittest.TestCase):\n",
      "\n",
      "    def setUp(self):\n",
      "        self.seq = range(10)\n",
      "\n",
      "    def test_shuffle(self):\n",
      "        # make sure the shuffled sequence does not lose any elements\n",
      "        random.shuffle(self.seq)\n",
      "        self.seq.sort()\n",
      "        self.assertEqual(self.seq, range(10))\n",
      "\n",
      "        # should raise an exception for an immutable sequence\n",
      "        self.assertRaises(TypeError, random.shuffle, (1,2,3))\n",
      "\n",
      "    def test_choice(self):\n",
      "        element = random.choice(self.seq)\n",
      "        self.assertTrue(element in self.seq)\n",
      "\n",
      "    def test_sample(self):\n",
      "        with self.assertRaises(ValueError):\n",
      "            random.sample(self.seq, 20)\n",
      "        for element in random.sample(self.seq, 5):\n",
      "            self.assertTrue(element in self.seq)\n",
      "\n",
      "suite = unittest.TestLoader().loadTestsFromTestCase(TestSequenceFunctions)\n",
      "print unittest.TextTestRunner(verbosity=3).run(suite)"
     ],
     "language": "python",
     "metadata": {},
     "outputs": [
      {
       "output_type": "stream",
       "stream": "stdout",
       "text": [
        "<unittest.runner.TextTestResult run=3 errors=0 failures=0>\n"
       ]
      }
     ],
     "prompt_number": 42
    },
    {
     "cell_type": "raw",
     "metadata": {},
     "source": [
      "test_choice (__main__.TestSequenceFunctions) ... ok\n",
      "test_sample (__main__.TestSequenceFunctions) ... ok\n",
      "test_shuffle (__main__.TestSequenceFunctions) ... ok\n",
      "\n",
      "----------------------------------------------------------------------\n",
      "Ran 3 tests in 0.000s\n",
      "\n",
      "OK"
     ]
    },
    {
     "cell_type": "code",
     "collapsed": false,
     "input": [
      "import random\n",
      "import unittest\n",
      "\n",
      "class TestSequenceFunctions(unittest.TestCase):\n",
      "\n",
      "    def setUp(self):\n",
      "        self.seq = range(10)\n",
      "\n",
      "    def test_shuffle(self):\n",
      "        # make sure the shuffled sequence does not lose any elements\n",
      "        random.shuffle(self.seq)\n",
      "        self.seq.sort()\n",
      "        self.assertEqual(self.seq, range(11))\n",
      "\n",
      "        # should raise an exception for an immutable sequence\n",
      "        self.assertRaises(TypeError, random.shuffle, (1,2,3))\n",
      "\n",
      "    def test_choice(self):\n",
      "        element = random.choice(self.seq)\n",
      "        self.assertTrue(element in self.seq)\n",
      "\n",
      "    def test_sample(self):\n",
      "        with self.assertRaises(ValueError):\n",
      "            random.sample(self.seq, 20)\n",
      "        for element in random.sample(self.seq, 5):\n",
      "            self.assertTrue(element in self.seq)\n",
      "\n",
      "suite = unittest.TestLoader().loadTestsFromTestCase(TestSequenceFunctions)\n",
      "print unittest.TextTestRunner(verbosity=3).run(suite)"
     ],
     "language": "python",
     "metadata": {},
     "outputs": [
      {
       "output_type": "stream",
       "stream": "stdout",
       "text": [
        "<unittest.runner.TextTestResult run=3 errors=0 failures=1>\n"
       ]
      }
     ],
     "prompt_number": 43
    },
    {
     "cell_type": "raw",
     "metadata": {},
     "source": [
      "test_choice (__main__.TestSequenceFunctions) ... ok\n",
      "test_sample (__main__.TestSequenceFunctions) ... ok\n",
      "test_shuffle (__main__.TestSequenceFunctions) ... FAIL\n",
      "\n",
      "======================================================================\n",
      "FAIL: test_shuffle (__main__.TestSequenceFunctions)\n",
      "----------------------------------------------------------------------\n",
      "Traceback (most recent call last):\n",
      "  File \"test.py\", line 13, in test_shuffle\n",
      "    self.assertEqual(self.seq, range(11))\n",
      "AssertionError: Lists differ: [0, 1, 2, 3, 4, 5, 6, 7, 8, 9] != [0, 1, 2, 3, 4, 5, 6, 7, 8, 9,...\n",
      "\n",
      "Second list contains 1 additional elements.\n",
      "First extra element 10:\n",
      "10\n",
      "\n",
      "- [0, 1, 2, 3, 4, 5, 6, 7, 8, 9]\n",
      "+ [0, 1, 2, 3, 4, 5, 6, 7, 8, 9, 10]\n",
      "?                              ++++\n",
      "\n",
      "\n",
      "----------------------------------------------------------------------\n",
      "Ran 3 tests in 0.001s\n",
      "\n",
      "FAILED (failures=1)\n"
     ]
    },
    {
     "cell_type": "code",
     "collapsed": false,
     "input": [
      "import unittest\n",
      "\n",
      "class Widget(object):\n",
      "    \n",
      "    def __init__(self, name):\n",
      "        self.name = name\n",
      "        self._size = (50, 50)\n",
      "    \n",
      "    def size(self):\n",
      "        return self._size\n",
      "    \n",
      "    def resize(self, size):\n",
      "        self._size = size\n",
      "        \n",
      "    def dispose(self):\n",
      "        pass\n",
      "\n",
      "class WidgetTestCase(unittest.TestCase):\n",
      "    def setUp(self):\n",
      "        self.widget = Widget('The widget')\n",
      "\n",
      "    def tearDown(self):\n",
      "        self.widget.dispose()\n",
      "        self.widget = None\n",
      "\n",
      "    def test_default_size(self):\n",
      "        self.assertEqual(self.widget.size(), (50,50),\n",
      "                         'incorrect default size')\n",
      "\n",
      "    def test_resize(self):\n",
      "        self.widget.resize(100,150)\n",
      "        self.assertEqual(self.widget.size(), (100,150),\n",
      "                         'wrong size after resize')\n",
      "\n",
      "suite = unittest.TestLoader().loadTestsFromTestCase(WidgetTestCase)\n",
      "print unittest.TextTestRunner(verbosity=3).run(suite)        "
     ],
     "language": "python",
     "metadata": {},
     "outputs": [
      {
       "output_type": "stream",
       "stream": "stdout",
       "text": [
        "<unittest.runner.TextTestResult run=2 errors=1 failures=0>\n"
       ]
      }
     ],
     "prompt_number": 58
    },
    {
     "cell_type": "raw",
     "metadata": {},
     "source": [
      "test_default_size (__main__.WidgetTestCase) ... ok\n",
      "test_resize (__main__.WidgetTestCase) ... ERROR\n",
      "\n",
      "======================================================================\n",
      "ERROR: test_resize (__main__.WidgetTestCase)\n",
      "----------------------------------------------------------------------\n",
      "Traceback (most recent call last):\n",
      "  File \"test.py\", line 31, in test_resize\n",
      "    self.widget.resize(100,150)\n",
      "TypeError: resize() takes exactly 2 arguments (3 given)\n",
      "\n",
      "----------------------------------------------------------------------\n",
      "Ran 2 tests in 0.000s\n",
      "\n",
      "FAILED (errors=1)\n",
      "<unittest.runner.TextTestResult run=2 errors=1 failures=0>\n"
     ]
    },
    {
     "cell_type": "code",
     "collapsed": false,
     "input": [
      "import unittest\n",
      "\n",
      "class Widget(object):\n",
      "    \n",
      "    def __init__(self, name):\n",
      "        self.name = name\n",
      "        self._size = (50, 50)\n",
      "    \n",
      "    def size(self):\n",
      "        return self._size\n",
      "    \n",
      "    def resize(self, width, height):\n",
      "        self._size = (width, height)\n",
      "        \n",
      "    def dispose(self):\n",
      "        pass\n",
      "\n",
      "class WidgetTestCase(unittest.TestCase):\n",
      "    def setUp(self):\n",
      "        self.widget = Widget('The widget')\n",
      "\n",
      "    def tearDown(self):\n",
      "        self.widget.dispose()\n",
      "        self.widget = None\n",
      "\n",
      "    def test_default_size(self):\n",
      "        self.assertEqual(self.widget.size(), (50,50),\n",
      "                         'incorrect default size')\n",
      "\n",
      "    def test_resize(self):\n",
      "        self.widget.resize(100,150)\n",
      "        self.assertEqual(self.widget.size(), (100,150),\n",
      "                         'wrong size after resize')\n",
      "\n",
      "suite = unittest.TestLoader().loadTestsFromTestCase(WidgetTestCase)\n",
      "print unittest.TextTestRunner(verbosity=3).run(suite)        "
     ],
     "language": "python",
     "metadata": {},
     "outputs": [
      {
       "output_type": "stream",
       "stream": "stdout",
       "text": [
        "<unittest.runner.TextTestResult run=2 errors=0 failures=0>\n"
       ]
      }
     ],
     "prompt_number": 60
    },
    {
     "cell_type": "heading",
     "level": 3,
     "metadata": {},
     "source": [
      "U\u017cywanie starego kodu"
     ]
    },
    {
     "cell_type": "code",
     "collapsed": false,
     "input": [
      "def testSomething():\n",
      "    something = makeSomething()\n",
      "    assert something.name is not None"
     ],
     "language": "python",
     "metadata": {},
     "outputs": []
    },
    {
     "cell_type": "code",
     "collapsed": false,
     "input": [
      "testcase = unittest.FunctionTestCase(testSomething)"
     ],
     "language": "python",
     "metadata": {},
     "outputs": []
    },
    {
     "cell_type": "code",
     "collapsed": false,
     "input": [
      "testcase = unittest.FunctionTestCase(testSomething,\n",
      "                                     setUp=makeSomethingDB,\n",
      "                                     tearDown=deleteSomethingDB)"
     ],
     "language": "python",
     "metadata": {},
     "outputs": []
    },
    {
     "cell_type": "markdown",
     "metadata": {},
     "source": [
      "Note Even though *FunctionTestCase* can be used to quickly convert an existing test base over to a unittest-based system, this approach is **not recommended**. Taking the time to set up proper TestCase subclasses will make future test refactorings infinitely easier."
     ]
    }
   ],
   "metadata": {}
  }
 ]
}