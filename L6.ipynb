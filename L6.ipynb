{
 "metadata": {
  "kernelspec": {
   "display_name": "Python 2",
   "language": "python",
   "name": "python2"
  },
  "language_info": {
   "codemirror_mode": {
    "name": "ipython",
    "version": 2
   },
   "file_extension": ".py",
   "mimetype": "text/x-python",
   "name": "python",
   "nbconvert_exporter": "python",
   "pygments_lexer": "ipython2",
   "version": "2.7.9"
  },
  "name": "",
  "signature": "sha256:436e0a187da348ee88c27f09023c7dc0fb1fd333990bc531c53344ad79e32ebe"
 },
 "nbformat": 3,
 "nbformat_minor": 0,
 "worksheets": [
  {
   "cells": [
    {
     "cell_type": "heading",
     "level": 1,
     "metadata": {},
     "source": [
      "J\u0119zyk Python - Wyk\u0142ad 6."
     ]
    },
    {
     "cell_type": "heading",
     "level": 2,
     "metadata": {},
     "source": [
      "pylint"
     ]
    },
    {
     "cell_type": "code",
     "collapsed": false,
     "input": [
      "def read(f):\n",
      "    print open('L6/' + f).read()"
     ],
     "language": "python",
     "metadata": {},
     "outputs": []
    },
    {
     "cell_type": "code",
     "collapsed": false,
     "input": [
      "read('bad_syntax.py')"
     ],
     "language": "python",
     "metadata": {},
     "outputs": []
    },
    {
     "cell_type": "code",
     "collapsed": false,
     "input": [
      "!~/anaconda/bin/pylint L6/bad_syntax.py"
     ],
     "language": "python",
     "metadata": {},
     "outputs": []
    },
    {
     "cell_type": "code",
     "collapsed": false,
     "input": [
      "read('bad_syntax2.py')"
     ],
     "language": "python",
     "metadata": {},
     "outputs": []
    },
    {
     "cell_type": "code",
     "collapsed": false,
     "input": [
      "!~/anaconda/bin/pylint L6/bad_syntax2.py | tail -n 2"
     ],
     "language": "python",
     "metadata": {},
     "outputs": []
    },
    {
     "cell_type": "code",
     "collapsed": false,
     "input": [
      "read('bad_class.py')"
     ],
     "language": "python",
     "metadata": {},
     "outputs": []
    },
    {
     "cell_type": "code",
     "collapsed": false,
     "input": [
      "!~/anaconda/bin/pylint L6/bad_class.py"
     ],
     "language": "python",
     "metadata": {},
     "outputs": []
    },
    {
     "cell_type": "heading",
     "level": 2,
     "metadata": {},
     "source": [
      "Testowanie kodu"
     ]
    },
    {
     "cell_type": "markdown",
     "metadata": {},
     "source": [
      "### assert\n",
      "\n",
      "* w kodzie mo\u017cna traktowa\u0107 jako dodatkow\u0105 dokumentacj\u0119 (uruchamialn\u0105)\n",
      "* nie zast\u0119puj\u0105 test\u00f3w (jedynie uzupe\u0142niaj\u0105 je)\n",
      "* pozwalaj\u0105 szybciej wy\u0142apywa\u0107 bugi"
     ]
    },
    {
     "cell_type": "code",
     "collapsed": false,
     "input": [
      "assert True"
     ],
     "language": "python",
     "metadata": {},
     "outputs": []
    },
    {
     "cell_type": "code",
     "collapsed": false,
     "input": [
      "assert False, \"Cos poszlo nie tak :-(\""
     ],
     "language": "python",
     "metadata": {},
     "outputs": []
    },
    {
     "cell_type": "code",
     "collapsed": false,
     "input": [
      "assert 2+3 == 5"
     ],
     "language": "python",
     "metadata": {},
     "outputs": []
    },
    {
     "cell_type": "markdown",
     "metadata": {},
     "source": [
      "Niekt\u00f3rzy u\u017cywaj\u0105 assert\u00f3w do kontroli typ\u00f3w w Pythonie! (ale to jak wiemy zabija kaczki)"
     ]
    },
    {
     "cell_type": "code",
     "collapsed": false,
     "input": [
      "def add(a, b):\n",
      "    assert type(a) is int, 'a is not an integer, a=%r' % a\n",
      "    assert type(b) is int, 'b is not an integer, b=%r' % b\n",
      "    return a + b"
     ],
     "language": "python",
     "metadata": {},
     "outputs": []
    },
    {
     "cell_type": "code",
     "collapsed": false,
     "input": [
      "add(3, 5)"
     ],
     "language": "python",
     "metadata": {},
     "outputs": []
    },
    {
     "cell_type": "code",
     "collapsed": false,
     "input": [
      "add(4.0, 1)"
     ],
     "language": "python",
     "metadata": {},
     "outputs": []
    },
    {
     "cell_type": "markdown",
     "metadata": {},
     "source": [
      "Asercj\u0119 mo\u017cna wy\u0142\u0105czay\u0107! (np. na produkcji ze wzgl\u0119d\u00f3w wydajno\u015bciowych!)"
     ]
    },
    {
     "cell_type": "heading",
     "level": 2,
     "metadata": {},
     "source": [
      "doctest"
     ]
    },
    {
     "cell_type": "code",
     "collapsed": false,
     "input": [
      "def add(a, b):\n",
      "    \"\"\"\n",
      "    Zwraca sum\u0119 dw\u00f3ch liczb, np:\n",
      "    \n",
      "    >>> add(1, 2)\n",
      "    3\n",
      "    \n",
      "    >>> add(1, '2')\n",
      "    Traceback (most recent call last):\n",
      "    ...\n",
      "    TypeError: unsupported operand type(s) for +: 'int' and 'str'\n",
      "    \"\"\"\n",
      "    return a + b \n",
      "\n",
      "import doctest\n",
      "doctest.testmod()"
     ],
     "language": "python",
     "metadata": {},
     "outputs": []
    },
    {
     "cell_type": "code",
     "collapsed": false,
     "input": [
      "def factorial(n):\n",
      "    \"\"\"Return the factorial of n, an exact integer >= 0.\n",
      "\n",
      "    >>> [factorial(n) for n in range(6)]\n",
      "    [1, 1, 2, 6, 24, 120]\n",
      "    >>> factorial(30)\n",
      "    265252859812191058636308480000000L\n",
      "    >>> factorial(-1)\n",
      "    Traceback (most recent call last):\n",
      "        ...\n",
      "    ValueError: n must be >= 0\n",
      "\n",
      "    Factorials of floats are OK, but the float must be an exact integer:\n",
      "    >>> factorial(30.1)\n",
      "    Traceback (most recent call last):\n",
      "        ...\n",
      "    ValueError: n must be exact integer\n",
      "    >>> factorial(30.0)\n",
      "    265252859812191058636308480000000L\n",
      "\n",
      "    It must also not be ridiculously large:\n",
      "    >>> factorial(1e100)\n",
      "    Traceback (most recent call last):\n",
      "        ...\n",
      "    OverflowError: n too large\n",
      "    \"\"\"\n",
      "\n",
      "    import math\n",
      "    if not n >= 0:\n",
      "        raise ValueError(\"n must be >= 0\")\n",
      "    if math.floor(n) != n:\n",
      "        raise ValueError(\"n must be exact integer\")\n",
      "    if n+1 == n:  # catch a value like 1e300\n",
      "        raise OverflowError(\"n too large\")\n",
      "    result = 1\n",
      "    factor = 2\n",
      "    while factor <= n:\n",
      "        result *= factor\n",
      "        factor += 1\n",
      "    return result\n",
      "\n",
      "\n",
      "import doctest\n",
      "doctest.testmod()"
     ],
     "language": "python",
     "metadata": {},
     "outputs": []
    },
    {
     "cell_type": "raw",
     "metadata": {},
     "source": [
      "Trying:\n",
      "    [factorial(n) for n in range(6)]\n",
      "Expecting:\n",
      "    [1, 1, 2, 6, 24, 120]\n",
      "ok\n",
      "Trying:\n",
      "    factorial(30)\n",
      "Expecting:\n",
      "    265252859812191058636308480000000L\n",
      "ok\n",
      "Trying:\n",
      "    factorial(-1)\n",
      "Expecting:\n",
      "    Traceback (most recent call last):\n",
      "        ...\n",
      "    ValueError: n must be >= 0\n",
      "ok\n",
      "Trying:\n",
      "    factorial(30.1)\n",
      "Expecting:\n",
      "    Traceback (most recent call last):\n",
      "        ...\n",
      "    ValueError: n must be exact integer\n",
      "ok\n",
      "Trying:\n",
      "    factorial(30.0)\n",
      "Expecting:\n",
      "    265252859812191058636308480000000L\n",
      "ok\n",
      "Trying:\n",
      "    factorial(1e100)\n",
      "Expecting:\n",
      "    Traceback (most recent call last):\n",
      "        ...\n",
      "    OverflowError: n too large\n",
      "ok\n",
      "1 items had no tests:\n",
      "    __main__                                                                                                                                                          \n",
      "1 items passed all tests:                                                                                                                                             \n",
      "   6 tests in __main__.factorial                                                                                                                                      \n",
      "6 tests in 2 items.                                                                                                                                                   \n",
      "6 passed and 0 failed.                                                                                                                                                \n",
      "Test passed. "
     ]
    },
    {
     "cell_type": "heading",
     "level": 3,
     "metadata": {},
     "source": [
      "example.test"
     ]
    },
    {
     "cell_type": "raw",
     "metadata": {},
     "source": [
      "The ``example`` module\n",
      "======================\n",
      "\n",
      "Using ``factorial``\n",
      "-------------------\n",
      "\n",
      "This is an example text file in reStructuredText format.  First import\n",
      "``factorial`` from the ``example`` module:\n",
      "\n",
      "    >>> from example import factorial\n",
      "\n",
      "Now use it:\n",
      "\n",
      "    >>> factorial(6)\n",
      "    120"
     ]
    },
    {
     "cell_type": "code",
     "collapsed": false,
     "input": [
      "import doctest, sys, os\n",
      "lib_path = os.path.abspath('./L6')\n",
      "sys.path.append(lib_path)\n",
      "doctest.testfile(\"L6/example.test\")"
     ],
     "language": "python",
     "metadata": {},
     "outputs": []
    },
    {
     "cell_type": "raw",
     "metadata": {},
     "source": [
      "File \"./example.test\", line 14, in example.txt\n",
      "Failed example:\n",
      "    factorial(6)\n",
      "Expected:\n",
      "    120\n",
      "Got:\n",
      "    720"
     ]
    },
    {
     "cell_type": "code",
     "collapsed": false,
     "input": [
      "python -m doctest -v example.test"
     ],
     "language": "python",
     "metadata": {},
     "outputs": []
    },
    {
     "cell_type": "raw",
     "metadata": {},
     "source": [
      "File \"./example.test\", line 14, in example.txt\n",
      "Failed example:\n",
      "    factorial(6)\n",
      "Expected:\n",
      "    120\n",
      "Got:\n",
      "    720"
     ]
    },
    {
     "cell_type": "code",
     "collapsed": false,
     "input": [
      "def foo(*args):\n",
      "    \"\"\"\n",
      "    >>> print foo(range(10), range(4))\n",
      "    [0, 1, 2, 3, 4, 5, 6, 7, 8, 9, 0, 1, 2, 3]\n",
      "    \n",
      "    >>> print foo(range(10), range(4)) # doctest: +ELLIPSIS\n",
      "    [0, 1, ..., 9, 0, 1, 2, 3]\n",
      "    \n",
      "    >>> print foo(range(10), range(4)) # doctest: +ELLIPSIS, +NORMALIZE_WHITESPACE\n",
      "    [0, ..., 9,    0, ..., 3]\n",
      "    \"\"\"\n",
      "    return [x for el in args for x in el]\n",
      "\n",
      "import doctest\n",
      "doctest.testmod(verbose=3)"
     ],
     "language": "python",
     "metadata": {},
     "outputs": []
    },
    {
     "cell_type": "heading",
     "level": 2,
     "metadata": {},
     "source": [
      "Unittest"
     ]
    },
    {
     "cell_type": "code",
     "collapsed": false,
     "input": [
      "import random\n",
      "import unittest\n",
      "\n",
      "class TestSequenceFunctions(unittest.TestCase):\n",
      "\n",
      "    def setUp(self):\n",
      "        self.seq = range(10)\n",
      "\n",
      "    def test_shuffle(self):\n",
      "        # make sure the shuffled sequence does not lose any elements\n",
      "        random.shuffle(self.seq)\n",
      "        self.seq.sort()\n",
      "        self.assertEqual(self.seq, range(10))\n",
      "\n",
      "        # should raise an exception for an immutable sequence\n",
      "        self.assertRaises(TypeError, random.shuffle, (1,2,3))\n",
      "\n",
      "    def test_choice(self):\n",
      "        element = random.choice(self.seq)\n",
      "        self.assertTrue(element in self.seq)\n",
      "\n",
      "    def test_sample(self):\n",
      "        with self.assertRaises(ValueError):\n",
      "            random.sample(self.seq, 20)\n",
      "        for element in random.sample(self.seq, 5):\n",
      "            self.assertTrue(element in self.seq)\n",
      "\n",
      "suite = unittest.TestLoader().loadTestsFromTestCase(TestSequenceFunctions)\n",
      "print unittest.TextTestRunner(verbosity=3).run(suite)"
     ],
     "language": "python",
     "metadata": {},
     "outputs": []
    },
    {
     "cell_type": "raw",
     "metadata": {},
     "source": [
      "test_choice (__main__.TestSequenceFunctions) ... ok\n",
      "test_sample (__main__.TestSequenceFunctions) ... ok\n",
      "test_shuffle (__main__.TestSequenceFunctions) ... ok\n",
      "\n",
      "----------------------------------------------------------------------\n",
      "Ran 3 tests in 0.000s\n",
      "\n",
      "OK"
     ]
    },
    {
     "cell_type": "code",
     "collapsed": false,
     "input": [
      "import random\n",
      "import unittest\n",
      "\n",
      "class TestSequenceFunctions(unittest.TestCase):\n",
      "\n",
      "    def setUp(self):\n",
      "        self.seq = range(10)\n",
      "\n",
      "    def test_shuffle(self):\n",
      "        # make sure the shuffled sequence does not lose any elements\n",
      "        random.shuffle(self.seq)\n",
      "        self.seq.sort()\n",
      "        self.assertEqual(self.seq, range(11))\n",
      "\n",
      "        # should raise an exception for an immutable sequence\n",
      "        self.assertRaises(TypeError, random.shuffle, (1,2,3))\n",
      "\n",
      "    def test_choice(self):\n",
      "        element = random.choice(self.seq)\n",
      "        self.assertTrue(element in self.seq)\n",
      "\n",
      "    def test_sample(self):\n",
      "        with self.assertRaises(ValueError):\n",
      "            random.sample(self.seq, 20)\n",
      "        for element in random.sample(self.seq, 5):\n",
      "            self.assertTrue(element in self.seq)\n",
      "\n",
      "suite = unittest.TestLoader().loadTestsFromTestCase(TestSequenceFunctions)\n",
      "print unittest.TextTestRunner(verbosity=3).run(suite)"
     ],
     "language": "python",
     "metadata": {},
     "outputs": []
    },
    {
     "cell_type": "raw",
     "metadata": {},
     "source": [
      "test_choice (__main__.TestSequenceFunctions) ... ok\n",
      "test_sample (__main__.TestSequenceFunctions) ... ok\n",
      "test_shuffle (__main__.TestSequenceFunctions) ... FAIL\n",
      "\n",
      "======================================================================\n",
      "FAIL: test_shuffle (__main__.TestSequenceFunctions)\n",
      "----------------------------------------------------------------------\n",
      "Traceback (most recent call last):\n",
      "  File \"test.py\", line 13, in test_shuffle\n",
      "    self.assertEqual(self.seq, range(11))\n",
      "AssertionError: Lists differ: [0, 1, 2, 3, 4, 5, 6, 7, 8, 9] != [0, 1, 2, 3, 4, 5, 6, 7, 8, 9,...\n",
      "\n",
      "Second list contains 1 additional elements.\n",
      "First extra element 10:\n",
      "10\n",
      "\n",
      "- [0, 1, 2, 3, 4, 5, 6, 7, 8, 9]\n",
      "+ [0, 1, 2, 3, 4, 5, 6, 7, 8, 9, 10]\n",
      "?                              ++++\n",
      "\n",
      "\n",
      "----------------------------------------------------------------------\n",
      "Ran 3 tests in 0.001s\n",
      "\n",
      "FAILED (failures=1)\n"
     ]
    },
    {
     "cell_type": "code",
     "collapsed": false,
     "input": [
      "import unittest\n",
      "\n",
      "class Widget(object):\n",
      "    \n",
      "    def __init__(self, name):\n",
      "        self.name = name\n",
      "        self._size = (50, 50)\n",
      "    \n",
      "    def size(self):\n",
      "        return self._size\n",
      "    \n",
      "    def resize(self, size):\n",
      "        self._size = size\n",
      "        \n",
      "    def dispose(self):\n",
      "        pass\n",
      "\n",
      "class WidgetTestCase(unittest.TestCase):\n",
      "    def setUp(self):\n",
      "        self.widget = Widget('The widget')\n",
      "\n",
      "    def tearDown(self):\n",
      "        self.widget.dispose()\n",
      "        self.widget = None\n",
      "\n",
      "    def test_default_size(self):\n",
      "        self.assertEqual(self.widget.size(), (50,50),\n",
      "                         'incorrect default size')\n",
      "\n",
      "    def test_resize(self):\n",
      "        self.widget.resize(100,150)\n",
      "        self.assertEqual(self.widget.size(), (100,150),\n",
      "                         'wrong size after resize')\n",
      "\n",
      "suite = unittest.TestLoader().loadTestsFromTestCase(WidgetTestCase)\n",
      "print unittest.TextTestRunner(verbosity=3).run(suite)        "
     ],
     "language": "python",
     "metadata": {},
     "outputs": []
    },
    {
     "cell_type": "raw",
     "metadata": {},
     "source": [
      "test_default_size (__main__.WidgetTestCase) ... ok\n",
      "test_resize (__main__.WidgetTestCase) ... ERROR\n",
      "\n",
      "======================================================================\n",
      "ERROR: test_resize (__main__.WidgetTestCase)\n",
      "----------------------------------------------------------------------\n",
      "Traceback (most recent call last):\n",
      "  File \"test.py\", line 31, in test_resize\n",
      "    self.widget.resize(100,150)\n",
      "TypeError: resize() takes exactly 2 arguments (3 given)\n",
      "\n",
      "----------------------------------------------------------------------\n",
      "Ran 2 tests in 0.000s\n",
      "\n",
      "FAILED (errors=1)\n",
      "<unittest.runner.TextTestResult run=2 errors=1 failures=0>\n"
     ]
    },
    {
     "cell_type": "code",
     "collapsed": false,
     "input": [
      "import unittest\n",
      "\n",
      "class Widget(object):\n",
      "    \n",
      "    def __init__(self, name):\n",
      "        self.name = name\n",
      "        self._size = (50, 50)\n",
      "    \n",
      "    def size(self):\n",
      "        return self._size\n",
      "    \n",
      "    def resize(self, width, height):\n",
      "        self._size = (width, height)\n",
      "        \n",
      "    def dispose(self):\n",
      "        pass\n",
      "\n",
      "class WidgetTestCase(unittest.TestCase):\n",
      "    def setUp(self):\n",
      "        self.widget = Widget('The widget')\n",
      "\n",
      "    def tearDown(self):\n",
      "        self.widget.dispose()\n",
      "        self.widget = None\n",
      "\n",
      "    def test_default_size(self):\n",
      "        self.assertEqual(self.widget.size(), (50,50),\n",
      "                         'incorrect default size')\n",
      "\n",
      "    def test_resize(self):\n",
      "        self.widget.resize(100,150)\n",
      "        self.assertEqual(self.widget.size(), (100,150),\n",
      "                         'wrong size after resize')\n",
      "\n",
      "suite = unittest.TestLoader().loadTestsFromTestCase(WidgetTestCase)\n",
      "print unittest.TextTestRunner(verbosity=3).run(suite)        "
     ],
     "language": "python",
     "metadata": {},
     "outputs": []
    },
    {
     "cell_type": "heading",
     "level": 3,
     "metadata": {},
     "source": [
      "U\u017cywanie starego kodu"
     ]
    },
    {
     "cell_type": "code",
     "collapsed": false,
     "input": [
      "def testSomething():\n",
      "    something = makeSomething()\n",
      "    assert something.name is not None"
     ],
     "language": "python",
     "metadata": {},
     "outputs": []
    },
    {
     "cell_type": "code",
     "collapsed": false,
     "input": [
      "testcase = unittest.FunctionTestCase(testSomething)"
     ],
     "language": "python",
     "metadata": {},
     "outputs": []
    },
    {
     "cell_type": "code",
     "collapsed": false,
     "input": [
      "testcase = unittest.FunctionTestCase(testSomething,\n",
      "                                     setUp=makeSomethingDB,\n",
      "                                     tearDown=deleteSomethingDB)"
     ],
     "language": "python",
     "metadata": {},
     "outputs": []
    },
    {
     "cell_type": "markdown",
     "metadata": {},
     "source": [
      "Note Even though *FunctionTestCase* can be used to quickly convert an existing test base over to a unittest-based system, this approach is **not recommended**. Taking the time to set up proper TestCase subclasses will make future test refactorings infinitely easier."
     ]
    }
   ],
   "metadata": {}
  }
 ]
}