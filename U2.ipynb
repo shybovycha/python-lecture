{
 "metadata": {
  "name": "",
  "signature": "sha256:6e3881a791174e7bac6facd025388247f05a5cfec1787a49a0dcae3f7ac23875"
 },
 "nbformat": 3,
 "nbformat_minor": 0,
 "worksheets": [
  {
   "cells": [
    {
     "cell_type": "heading",
     "level": 2,
     "metadata": {},
     "source": [
      "J\u0119zyk Python - Laboratorium 2."
     ]
    },
    {
     "cell_type": "heading",
     "level": 2,
     "metadata": {},
     "source": [
      "ZADANIA"
     ]
    },
    {
     "cell_type": "markdown",
     "metadata": {},
     "source": [
      "Uzupe\u0142nij definicje poni\u017cszych funkcji"
     ]
    },
    {
     "cell_type": "code",
     "collapsed": false,
     "input": [
      "def mean(...):\n",
      "    \"\"\"Zwraca \u015bredni\u0105 liczb podanych jako argumenty pozycyjne\"\"\"\n",
      "    pass\n",
      "\n",
      "print(mean(1,2,3) == 2)\n",
      "print(mean(2,2,4,4) == 3)\n",
      "print(mean(1,2,3,4,5,61,2,12,123,123) == 33.6)"
     ],
     "language": "python",
     "metadata": {},
     "outputs": []
    },
    {
     "cell_type": "code",
     "collapsed": false,
     "input": [
      "def check_dictionary_content(...):\n",
      "    \"\"\"Sprawdza, czy w danym s\u0142owniku znajduje si\u0119 conajmniej podana liczba element\u00f3w\"\"\"\n",
      "    pass\n",
      "\n",
      "d = {'orange': 3, 'apple': 1, 'dogs': 10}\n",
      "print(check_dictionary_content(d, orange=2) == True)\n",
      "print(check_dictionary_content(d, orange=2, apple=1) == True)\n",
      "print(check_dictionary_content(d, dogs=11) == False)\n",
      "print(check_dictionary_content(d, dogs=9, cats=0) == True)\n",
      "print(check_dictionary_content(d, apple=0, cats=1) == False)\n",
      "print(check_dictionary_content(d, **d) == True)"
     ],
     "language": "python",
     "metadata": {},
     "outputs": []
    },
    {
     "cell_type": "markdown",
     "metadata": {},
     "source": [
      "Zapisz ka\u017cd\u0105 z poni\u017cszych funkcji w postaci list/dict/set comprehension. Nie nale\u017cy u\u017cywa\u0107 \u017cadnych zmiennych tymczasowych ani dodatkowych linii, ka\u017cda funkcja ma zosta\u0107 wyra\u017cona w postaci\n",
      "\n",
      "\n",
      "    def FUNKCJA(ARGUMENTY):\n",
      "        return COMPREHENSION"
     ]
    },
    {
     "cell_type": "code",
     "collapsed": false,
     "input": [
      "def even_numbers_from_list(data):\n",
      "    \"\"\"Zwraca podlist\u0119 \"data\" zawieraj\u0105c\u0105 wy\u0142\u0105cznie parzyste liczby\"\"\"\n",
      "    result = []\n",
      "    for point in data:\n",
      "        if point % 2 == 0:\n",
      "            result.append(point)\n",
      "    return result\n",
      "\n",
      "print(even_numbers_from_list([1, 2, 3, 4]) == [2, 4])\n",
      "print(even_numbers_from_list(range(10)) == range(0, 10, 2))\n",
      "print(even_numbers_from_list(range(1000)) == range(0, 1000, 2))\n",
      "print(even_numbers_from_list([10, 2, 3, 4, 6, -3, -4]) == [10, 2, 4, 6, -4])"
     ],
     "language": "python",
     "metadata": {},
     "outputs": []
    },
    {
     "cell_type": "code",
     "collapsed": false,
     "input": [
      "def words_analyze(words):\n",
      "    \"\"\"Zwraca list\u0119 tr\u00f3jek, gdzie i'ta tr\u00f3jka to (i, i'te s\u0142owo, d\u0142ugo\u015b\u0107 i'tego s\u0142owa)\"\"\"\n",
      "    result = []\n",
      "    i = 0\n",
      "    for word in words:\n",
      "        result.append((i, word, len(word)))\n",
      "        i += 1\n",
      "    return result\n",
      "\n",
      "print(words_analyze(['tomek', 'jadzia']) == [(0, 'tomek', 5), (1, 'jadzia', 6)])\n",
      "print(words_analyze([]) == [])"
     ],
     "language": "python",
     "metadata": {},
     "outputs": []
    },
    {
     "cell_type": "code",
     "collapsed": false,
     "input": [
      "def count_words_starting_with_given_letter(text, letter):\n",
      "    \"\"\"Zwraca s\u0142ownik gdzie kluczami s\u0105 wszystkie s\u0142owa wyst\u0119puj\u0105ce w tek\u015bcie \n",
      "    rozpoczynaj\u0105ce si\u0119 na zadan\u0105 liter\u0119, a warto\u015bci\u0105 ile razy wyst\u0105piy\"\"\"\n",
      "    result = {}\n",
      "    for word in text.split():\n",
      "        if word[0] == letter:\n",
      "            if word not in result:\n",
      "                result[word] = 1\n",
      "            else:\n",
      "                result[word] += 1\n",
      "    return result\n",
      "\n",
      "print(count_words_starting_with_given_letter('ola ma kota o imieniu ola', 'o') == {'ola': 2, 'o': 1})\n",
      "print(count_words_starting_with_given_letter('ola ma kota o imieniu ola', 'k') == {'kota': 1})\n",
      "print(count_words_starting_with_given_letter('ola ma kota o imieniu ola', 'x') == {})"
     ],
     "language": "python",
     "metadata": {},
     "outputs": []
    },
    {
     "cell_type": "code",
     "collapsed": false,
     "input": [
      "def dna_to_aminos(sequence):\n",
      "    \"\"\"Zwraca list\u0119 tr\u00f3jek liter z sekwencji, dopuszczaj\u0105c jedynie tr\u00f3jki z\u0142o\u017cone z liter A, C, G oraz  U\"\"\"\n",
      "    result = []\n",
      "    current = ''\n",
      "    for nucleodite in sequence:\n",
      "        if len(current)<3:\n",
      "            if nucleodite not in ['A', 'C', 'G', 'U']:\n",
      "                nucleodite = 'X' # marker niepoprawnej sekwencji\n",
      "            current += nucleodite\n",
      "            if len(current) == 3:\n",
      "                if 'X' not in current:\n",
      "                    result.append(current)\n",
      "                current = ''\n",
      "    return result\n",
      "\n",
      "print(dna_to_aminos('AAUAAUAAAUCAUAA') == ['AAU', 'AAU', 'AAA', 'UCA', 'UAA'])\n",
      "print(dna_to_aminos('AAUAAXAAAUCAUAA') == ['AAU', 'AAA', 'UCA', 'UAA'])"
     ],
     "language": "python",
     "metadata": {},
     "outputs": []
    },
    {
     "cell_type": "code",
     "collapsed": false,
     "input": [
      "from math import sqrt\n",
      "\n",
      "def primes(N):\n",
      "    \"\"\"Zwraca zbi\u00f3r liczb pierwszych od 0 do N w\u0142\u0105cznie\"\"\"\n",
      "    pass\n",
      "    \n",
      "print(primes(5) == {2, 3, 5})\n",
      "print(primes(10) == {2, 3, 5, 7})\n",
      "print(primes(100) == {2, 3, 5, 7, 11, 13, 17, 19, 23, 29, 31, 37, 41, 43, 47, 53, 59, 61, 67, 71, 73, 79, 83, 89, 97})"
     ],
     "language": "python",
     "metadata": {},
     "outputs": []
    },
    {
     "cell_type": "markdown",
     "metadata": {},
     "source": [
      "**Zadanie dodatkowe**\n",
      "\n",
      "Napisz funkcj\u0119 primes jeszcze raz, tym razem jednak nie wolno Ci u\u017cy\u0107:\n",
      "* operator\u00f3w <, >, ==, !=\n",
      "* funkcji range/xrange\n",
      "* wi\u0119cej jak sta\u0142ej ilo\u015bci pami\u0119ci (nie mo\u017cna alokowa\u0107 \u017cadnej struktury o wielko\u015bci zale\u017cnejod N)\n",
      "* kodu, kt\u00f3ry sprawi \u017ce dla N=100000 b\u0119dzie si\u0119 ona liczy\u0107 wi\u0119cej jak kilka-kilkana\u015bcie sekund"
     ]
    },
    {
     "cell_type": "code",
     "collapsed": false,
     "input": [
      "def primes_extra(N):\n",
      "    pass\n",
      "    \n",
      "print(set(primes_extra(5)) == {2, 3, 5})\n",
      "print(set(primes_extra(10)) == {2, 3, 5, 7})\n",
      "print(set(primes_extra(100)) == {2, 3, 5, 7, 11, 13, 17, 19, 23, 29, 31, 37, 41, 43, 47, 53, 59, 61, 67, 71, 73, 79, 83, 89, 97})"
     ],
     "language": "python",
     "metadata": {},
     "outputs": []
    }
   ],
   "metadata": {}
  }
 ]
}