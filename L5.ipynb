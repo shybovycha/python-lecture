{
 "metadata": {
  "name": ""
 },
 "nbformat": 3,
 "nbformat_minor": 0,
 "worksheets": [
  {
   "cells": [
    {
     "cell_type": "heading",
     "level": 1,
     "metadata": {},
     "source": [
      "J\u0119zyk Python - Wyk\u0142ad 5."
     ]
    },
    {
     "cell_type": "heading",
     "level": 2,
     "metadata": {},
     "source": [
      "Wyra\u017cenia regularne"
     ]
    },
    {
     "cell_type": "raw",
     "metadata": {},
     "source": [
      "Some people, when confronted with a problem, think \"I\n",
      "know, I'll use regular expressions.\" Now they have two\n",
      "problems.\n",
      "-- Jamie Zawinski, '<alt.religion.emacs>' (08/12/1997)\n"
     ]
    },
    {
     "cell_type": "code",
     "collapsed": false,
     "input": [
      "import re"
     ],
     "language": "python",
     "metadata": {},
     "outputs": [],
     "prompt_number": 2
    },
    {
     "cell_type": "markdown",
     "metadata": {},
     "source": [
      "<img width=800 src=\"files/L5_img/automata.png\">"
     ]
    },
    {
     "cell_type": "raw",
     "metadata": {
      "slideshow": {
       "slide_type": "notes"
      }
     },
     "source": [
      "\n",
      "\n",
      "\n"
     ]
    },
    {
     "cell_type": "markdown",
     "metadata": {},
     "source": [
      "<img width=300 src=\"files/L5_img/plus.png\">"
     ]
    },
    {
     "cell_type": "heading",
     "level": 2,
     "metadata": {},
     "source": [
      "Metaznaki"
     ]
    },
    {
     "cell_type": "raw",
     "metadata": {},
     "source": [
      " [ ... ] - zakres znak\u00f3w (\u201eklasa\u201d)\n",
      " ^ - operator dope\u0142nienia mnogo\u015bciowego\n",
      " . - dowolny znak ale nie koniec linii\n",
      " \\d \u2013 cyfry \u2013 odpowiada [0-9]\n",
      " \\D \u2013 nie-cyfry \u2013 odpowiada [^0-9]\n",
      " \\s \u2013 bia\u0142y znak \u2013 odpowiada [ \\t\\n\\r\\f\\v]\n",
      " \\S \u2013 nie-bia\u0142y znak \u2013 odpowiada [^ \\t\\n\\r\\f\\v].\n",
      " \\w \u2013 znak alfanumeryczny \u2013 odpowiada [a-zA-Z0-9_] \n",
      " \\W \u2013 znak niealfanumeryczny \u2013 odpowiada [^a-zA-Z0-9_] \n",
      "  | - \u201elub\u201d ab|bc\n",
      "  ^ - oznaczenie pocz\u0105tku linii ^From: \n",
      "  $ - oznaczenie ko\u0144ca linii End.$\n",
      " \\A \u2013 pocz\u0105tek\n",
      " \\Z \u2013 koniec\n",
      " \\b \u2013 granica s\u0142owa (! - uwaga na backspace -> w \u015brodku [] jest to backspace )\n",
      " \\B - negacja \\b\n",
      "  * - powielenie 0 lub wi\u0119cej razy (\u201egwiazdka Kleene'a\u201d)\n",
      "{min,max} - dopuszczalna ilo\u015b\u0107 wyst\u0105pie\u0144\n",
      "  + - \u201ePlus Kleene'a\u201d - 1 lub wi\u0119cej\n",
      "  ? - 0 lub 1 razy"
     ]
    },
    {
     "cell_type": "heading",
     "level": 2,
     "metadata": {},
     "source": [
      "U\u017cycie"
     ]
    },
    {
     "cell_type": "code",
     "collapsed": false,
     "input": [
      "p = re.compile('ab|bc')\n",
      "print p"
     ],
     "language": "python",
     "metadata": {},
     "outputs": [
      {
       "output_type": "stream",
       "stream": "stdout",
       "text": [
        "<_sre.SRE_Pattern object at 0x7f339a9ca6f0>\n"
       ]
      }
     ],
     "prompt_number": 3
    },
    {
     "cell_type": "code",
     "collapsed": false,
     "input": [
      "print p.match('bc')"
     ],
     "language": "python",
     "metadata": {},
     "outputs": [
      {
       "output_type": "stream",
       "stream": "stdout",
       "text": [
        "<_sre.SRE_Match object at 0x7f33980ec920>\n"
       ]
      }
     ],
     "prompt_number": 4
    },
    {
     "cell_type": "code",
     "collapsed": false,
     "input": [
      "print p.match('ba')"
     ],
     "language": "python",
     "metadata": {},
     "outputs": [
      {
       "output_type": "stream",
       "stream": "stdout",
       "text": [
        "None\n"
       ]
      }
     ],
     "prompt_number": 5
    },
    {
     "cell_type": "code",
     "collapsed": false,
     "input": [
      "print re.search('b', 'abc')"
     ],
     "language": "python",
     "metadata": {},
     "outputs": [
      {
       "output_type": "stream",
       "stream": "stdout",
       "text": [
        "<_sre.SRE_Match object at 0x7f33980ecc60>\n"
       ]
      }
     ],
     "prompt_number": 10
    },
    {
     "cell_type": "code",
     "collapsed": false,
     "input": [
      "print re.match('b', 'abc')"
     ],
     "language": "python",
     "metadata": {},
     "outputs": [
      {
       "output_type": "stream",
       "stream": "stdout",
       "text": [
        "None\n"
       ]
      }
     ],
     "prompt_number": 11
    },
    {
     "cell_type": "code",
     "collapsed": false,
     "input": [
      "print re.match('a', 'abc')"
     ],
     "language": "python",
     "metadata": {},
     "outputs": [
      {
       "output_type": "stream",
       "stream": "stdout",
       "text": [
        "<_sre.SRE_Match object at 0x7f338a9391d0>\n"
       ]
      }
     ],
     "prompt_number": 13
    },
    {
     "cell_type": "code",
     "collapsed": false,
     "input": [
      "print re.split(r'\\W+', 'Words, words, words.')"
     ],
     "language": "python",
     "metadata": {},
     "outputs": [
      {
       "output_type": "stream",
       "stream": "stdout",
       "text": [
        "['Words', 'words', 'words', '']\n"
       ]
      }
     ],
     "prompt_number": 14
    },
    {
     "cell_type": "code",
     "collapsed": false,
     "input": [
      "print re.split(r'(\\W+)', 'Words, words, words.')"
     ],
     "language": "python",
     "metadata": {},
     "outputs": [
      {
       "output_type": "stream",
       "stream": "stdout",
       "text": [
        "['Words', ', ', 'words', ', ', 'words', '.', '']\n"
       ]
      }
     ],
     "prompt_number": 15
    },
    {
     "cell_type": "code",
     "collapsed": false,
     "input": [
      "text = 'ddabababababcc'\n",
      "p = re.compile('(ab)+')\n",
      "span = p.search(text).span()\n",
      "print span\n",
      "print text[span[0]:span[1]]"
     ],
     "language": "python",
     "metadata": {},
     "outputs": [
      {
       "output_type": "stream",
       "stream": "stdout",
       "text": [
        "(2, 12)\n",
        "ababababab\n"
       ]
      }
     ],
     "prompt_number": 28
    },
    {
     "cell_type": "code",
     "collapsed": false,
     "input": [
      "p = re.compile('a/{,3}b')\n",
      "print p.match('ab')\n",
      "print p.match('a/b')\n",
      "print p.match('a//b')\n",
      "print p.match('a///b')\n",
      "print p.match('a////b')"
     ],
     "language": "python",
     "metadata": {},
     "outputs": [
      {
       "output_type": "stream",
       "stream": "stdout",
       "text": [
        "<_sre.SRE_Match object at 0x7f338a939ed0>\n",
        "<_sre.SRE_Match object at 0x7f338a939ed0>\n",
        "<_sre.SRE_Match object at 0x7f338a939ed0>\n",
        "<_sre.SRE_Match object at 0x7f338a939ed0>\n",
        "None\n"
       ]
      }
     ],
     "prompt_number": 29
    },
    {
     "cell_type": "code",
     "collapsed": false,
     "input": [
      "print re.search(r'\\bfoo\\b', 'bar foo baz').group()"
     ],
     "language": "python",
     "metadata": {},
     "outputs": [
      {
       "output_type": "stream",
       "stream": "stdout",
       "text": [
        "foo\n"
       ]
      }
     ],
     "prompt_number": 30
    },
    {
     "cell_type": "code",
     "collapsed": false,
     "input": [
      "print re.findall(r'[0-9]', 'a1b2c3d4e5')"
     ],
     "language": "python",
     "metadata": {},
     "outputs": [
      {
       "output_type": "stream",
       "stream": "stdout",
       "text": [
        "['1', '2', '3', '4', '5']\n"
       ]
      }
     ],
     "prompt_number": 31
    },
    {
     "cell_type": "code",
     "collapsed": false,
     "input": [
      "for m in re.finditer(r'[0-9]','a1b2c3d4e5'):\n",
      "    print m.group(0), m.span()"
     ],
     "language": "python",
     "metadata": {},
     "outputs": [
      {
       "output_type": "stream",
       "stream": "stdout",
       "text": [
        "1 (1, 2)\n",
        "2 (3, 4)\n",
        "3 (5, 6)\n",
        "4 (7, 8)\n",
        "5 (9, 10)\n"
       ]
      }
     ],
     "prompt_number": 33
    },
    {
     "cell_type": "heading",
     "level": 2,
     "metadata": {},
     "source": [
      "Notacja \u201eraw string\u201d"
     ]
    },
    {
     "cell_type": "raw",
     "metadata": {},
     "source": [
      "Cel: \\section\n",
      "Wyra\u017cenie: \\\\section\n",
      "Sta\u0142a \u0142a\u0144cuchowa: \\\\\\\\section"
     ]
    },
    {
     "cell_type": "code",
     "collapsed": false,
     "input": [
      "re.match(r\"\\W(.)\\1\\W\", \" ff \").group()"
     ],
     "language": "python",
     "metadata": {},
     "outputs": [
      {
       "metadata": {},
       "output_type": "pyout",
       "prompt_number": 34,
       "text": [
        "' ff '"
       ]
      }
     ],
     "prompt_number": 34
    },
    {
     "cell_type": "code",
     "collapsed": false,
     "input": [
      "re.match(\"\\\\W(.)\\\\1\\\\W\", \" ff \").group()"
     ],
     "language": "python",
     "metadata": {},
     "outputs": [
      {
       "metadata": {},
       "output_type": "pyout",
       "prompt_number": 35,
       "text": [
        "' ff '"
       ]
      }
     ],
     "prompt_number": 35
    },
    {
     "cell_type": "heading",
     "level": 2,
     "metadata": {},
     "source": [
      "Niezach\u0142anne dopasowania"
     ]
    },
    {
     "cell_type": "raw",
     "metadata": {},
     "source": [
      "- *?\n",
      "- +?\n",
      "- ??\n",
      "- {m,n}?"
     ]
    },
    {
     "cell_type": "code",
     "collapsed": false,
     "input": [
      "s = '<html><head><title>Title</title>'"
     ],
     "language": "python",
     "metadata": {},
     "outputs": [],
     "prompt_number": 36
    },
    {
     "cell_type": "code",
     "collapsed": false,
     "input": [
      "print re.match('<.*>', s).group()"
     ],
     "language": "python",
     "metadata": {},
     "outputs": [
      {
       "output_type": "stream",
       "stream": "stdout",
       "text": [
        "<html><head><title>Title</title>\n"
       ]
      }
     ],
     "prompt_number": 37
    },
    {
     "cell_type": "code",
     "collapsed": false,
     "input": [
      "print re.match('<.*?>', s).group()"
     ],
     "language": "python",
     "metadata": {},
     "outputs": [
      {
       "output_type": "stream",
       "stream": "stdout",
       "text": [
        "<html>\n"
       ]
      }
     ],
     "prompt_number": 38
    },
    {
     "cell_type": "heading",
     "level": 2,
     "metadata": {},
     "source": [
      "Grupowanie"
     ]
    },
    {
     "cell_type": "code",
     "collapsed": false,
     "input": [
      "p = re.compile('(a(b)c)d')\n",
      "m = p.match('abcd')"
     ],
     "language": "python",
     "metadata": {},
     "outputs": [],
     "prompt_number": 39
    },
    {
     "cell_type": "code",
     "collapsed": false,
     "input": [
      "m.group(0)"
     ],
     "language": "python",
     "metadata": {},
     "outputs": [
      {
       "metadata": {},
       "output_type": "pyout",
       "prompt_number": 40,
       "text": [
        "'abcd'"
       ]
      }
     ],
     "prompt_number": 40
    },
    {
     "cell_type": "code",
     "collapsed": false,
     "input": [
      "m.group(1)"
     ],
     "language": "python",
     "metadata": {},
     "outputs": [
      {
       "metadata": {},
       "output_type": "pyout",
       "prompt_number": 41,
       "text": [
        "'abc'"
       ]
      }
     ],
     "prompt_number": 41
    },
    {
     "cell_type": "code",
     "collapsed": false,
     "input": [
      "m.group(2)"
     ],
     "language": "python",
     "metadata": {},
     "outputs": [
      {
       "metadata": {},
       "output_type": "pyout",
       "prompt_number": 42,
       "text": [
        "'b'"
       ]
      }
     ],
     "prompt_number": 42
    },
    {
     "cell_type": "code",
     "collapsed": false,
     "input": [
      "#Match dates formatted like MM/DD/YYYY, MM-DD-YY,...\n",
      "import re\n",
      "\n",
      "date = '01/12/2013'\n",
      "\n",
      "regex = re.compile(r'^(?P<day>\\d\\d)[-/](?P<month>\\d\\d)[-/](?P<year>\\d\\d(?:\\d\\d)?)$')\n",
      "\n",
      "match = regex.match(date)"
     ],
     "language": "python",
     "metadata": {},
     "outputs": [],
     "prompt_number": 43
    },
    {
     "cell_type": "code",
     "collapsed": false,
     "input": [
      "print match.group(0), match.group(1), match.group(2), match.group(3)"
     ],
     "language": "python",
     "metadata": {},
     "outputs": [
      {
       "output_type": "stream",
       "stream": "stdout",
       "text": [
        "01/12/2013 01 12 2013\n"
       ]
      }
     ],
     "prompt_number": 44
    },
    {
     "cell_type": "code",
     "collapsed": false,
     "input": [
      "print match.group('day'), match.group('month'), match.group('year')"
     ],
     "language": "python",
     "metadata": {},
     "outputs": [
      {
       "output_type": "stream",
       "stream": "stdout",
       "text": [
        "01 12 2013\n"
       ]
      }
     ],
     "prompt_number": 45
    },
    {
     "cell_type": "code",
     "collapsed": false,
     "input": [
      "print match.groups()"
     ],
     "language": "python",
     "metadata": {},
     "outputs": [
      {
       "output_type": "stream",
       "stream": "stdout",
       "text": [
        "('01', '12', '2013')\n"
       ]
      }
     ],
     "prompt_number": 46
    },
    {
     "cell_type": "code",
     "collapsed": false,
     "input": [
      "print regex.groupindex"
     ],
     "language": "python",
     "metadata": {},
     "outputs": [
      {
       "output_type": "stream",
       "stream": "stdout",
       "text": [
        "{'year': 3, 'day': 1, 'month': 2}\n"
       ]
      }
     ],
     "prompt_number": 47
    },
    {
     "cell_type": "code",
     "collapsed": false,
     "input": [
      "re.match(r'(ala) \\1', 'ala ala').group(0)"
     ],
     "language": "python",
     "metadata": {},
     "outputs": [
      {
       "metadata": {},
       "output_type": "pyout",
       "prompt_number": 48,
       "text": [
        "'ala ala'"
       ]
      }
     ],
     "prompt_number": 48
    },
    {
     "cell_type": "heading",
     "level": 2,
     "metadata": {},
     "source": [
      "Extension Notation (?...)"
     ]
    },
    {
     "cell_type": "raw",
     "metadata": {},
     "source": [
      "Nazwana grupa (?P<name>...)\n",
      "Powielenie (?P=)\n",
      "Nieprzechwytuj\u0105ca grupa (?:foo)\n",
      "Positive Lookahead (?=...)\n",
      "Negative Lookahead (?!...)\n",
      "Positive look behind (?<=regex)\n",
      "Negative look behind (?<!regex)\n",
      "Warunkowe wyra\u017cenie (?(id/name)yes-pattern|no-pattern)"
     ]
    },
    {
     "cell_type": "heading",
     "level": 3,
     "metadata": {},
     "source": [
      "Powielenie (?P=<name>)"
     ]
    },
    {
     "cell_type": "code",
     "collapsed": false,
     "input": [
      "p = re.compile(r'(?P<word>\\b\\w+)\\s+(?P=word)')"
     ],
     "language": "python",
     "metadata": {},
     "outputs": [],
     "prompt_number": 49
    },
    {
     "cell_type": "code",
     "collapsed": false,
     "input": [
      "p.match('ala ala').group()"
     ],
     "language": "python",
     "metadata": {},
     "outputs": [
      {
       "metadata": {},
       "output_type": "pyout",
       "prompt_number": 50,
       "text": [
        "'ala ala'"
       ]
      }
     ],
     "prompt_number": 50
    },
    {
     "cell_type": "code",
     "collapsed": false,
     "input": [
      "p = re.compile(r'(?P<word>\\b\\w+)\\s+\\1')"
     ],
     "language": "python",
     "metadata": {},
     "outputs": [],
     "prompt_number": 51
    },
    {
     "cell_type": "code",
     "collapsed": false,
     "input": [
      "p.match('ala ala').group()"
     ],
     "language": "python",
     "metadata": {},
     "outputs": [
      {
       "metadata": {},
       "output_type": "pyout",
       "prompt_number": 52,
       "text": [
        "'ala ala'"
       ]
      }
     ],
     "prompt_number": 52
    },
    {
     "cell_type": "heading",
     "level": 3,
     "metadata": {},
     "source": [
      "Nieprzechwytuj\u0105ca grupa (?:foo)"
     ]
    },
    {
     "cell_type": "code",
     "collapsed": false,
     "input": [
      "re.match(r'(\\w+@\\w+(?:\\.\\w+)+)','korzycki@agh.edu.pl').groups()"
     ],
     "language": "python",
     "metadata": {},
     "outputs": [
      {
       "metadata": {},
       "output_type": "pyout",
       "prompt_number": 53,
       "text": [
        "('korzycki@agh.edu.pl',)"
       ]
      }
     ],
     "prompt_number": 53
    },
    {
     "cell_type": "heading",
     "level": 3,
     "metadata": {},
     "source": [
      "Positive Lookahead (?=...)"
     ]
    },
    {
     "cell_type": "code",
     "collapsed": false,
     "input": [
      "re.match(r'(\\w+(?=@\\w+(?:.\\w+)+))','korzycki@agh.edu.pl').group()"
     ],
     "language": "python",
     "metadata": {},
     "outputs": [
      {
       "metadata": {},
       "output_type": "pyout",
       "prompt_number": 59,
       "text": [
        "'korzycki'"
       ]
      }
     ],
     "prompt_number": 59
    },
    {
     "cell_type": "code",
     "collapsed": false,
     "input": [
      "re.match(r'(\\w+(?=@\\w+(?:.\\w+)+)@)','korzycki@agh.edu.pl').group()"
     ],
     "language": "python",
     "metadata": {},
     "outputs": [
      {
       "metadata": {},
       "output_type": "pyout",
       "prompt_number": 58,
       "text": [
        "'korzycki@'"
       ]
      }
     ],
     "prompt_number": 58
    },
    {
     "cell_type": "heading",
     "level": 3,
     "metadata": {},
     "source": [
      "Negative Lookahead (?!...)"
     ]
    },
    {
     "cell_type": "code",
     "collapsed": false,
     "input": [
      "s='plik.py'\n",
      "re.match(r'(.*)[.](?!bat$|exe$).*$',s).group(1)"
     ],
     "language": "python",
     "metadata": {},
     "outputs": [
      {
       "metadata": {},
       "output_type": "pyout",
       "prompt_number": 60,
       "text": [
        "'plik'"
       ]
      }
     ],
     "prompt_number": 60
    },
    {
     "cell_type": "code",
     "collapsed": false,
     "input": [
      "s='plik.bat'\n",
      "re.match(r'(.*)[.](?!bat$|exe$).*$',s).group(1)"
     ],
     "language": "python",
     "metadata": {},
     "outputs": [
      {
       "ename": "AttributeError",
       "evalue": "'NoneType' object has no attribute 'group'",
       "output_type": "pyerr",
       "traceback": [
        "\u001b[1;31m---------------------------------------------------------------------------\u001b[0m\n\u001b[1;31mAttributeError\u001b[0m                            Traceback (most recent call last)",
        "\u001b[1;32m<ipython-input-63-df40d90583ab>\u001b[0m in \u001b[0;36m<module>\u001b[1;34m()\u001b[0m\n\u001b[0;32m      1\u001b[0m \u001b[0ms\u001b[0m\u001b[1;33m=\u001b[0m\u001b[1;34m'plik.bat'\u001b[0m\u001b[1;33m\u001b[0m\u001b[0m\n\u001b[1;32m----> 2\u001b[1;33m \u001b[0mre\u001b[0m\u001b[1;33m.\u001b[0m\u001b[0mmatch\u001b[0m\u001b[1;33m(\u001b[0m\u001b[1;34mr'(.*)[.](?!bat$|exe$).*$'\u001b[0m\u001b[1;33m,\u001b[0m\u001b[0ms\u001b[0m\u001b[1;33m)\u001b[0m\u001b[1;33m.\u001b[0m\u001b[0mgroup\u001b[0m\u001b[1;33m(\u001b[0m\u001b[1;36m1\u001b[0m\u001b[1;33m)\u001b[0m\u001b[1;33m\u001b[0m\u001b[0m\n\u001b[0m",
        "\u001b[1;31mAttributeError\u001b[0m: 'NoneType' object has no attribute 'group'"
       ]
      }
     ],
     "prompt_number": 63
    },
    {
     "cell_type": "heading",
     "level": 3,
     "metadata": {},
     "source": [
      "Positive Lookbehind"
     ]
    },
    {
     "cell_type": "code",
     "collapsed": false,
     "input": [
      "s='From: korzycki@agh.edu.pl'\n",
      "re.search(r'(?<=From: )(.*)',s).groups()"
     ],
     "language": "python",
     "metadata": {},
     "outputs": [
      {
       "metadata": {},
       "output_type": "pyout",
       "prompt_number": 77,
       "text": [
        "('korzycki@agh.edu.pl',)"
       ]
      }
     ],
     "prompt_number": 77
    },
    {
     "cell_type": "code",
     "collapsed": false,
     "input": [
      "s='From: korzycki@agh.edu.pl'\n",
      "re.search(r'(?<=F*)(.*)',s).groups()"
     ],
     "language": "python",
     "metadata": {},
     "outputs": [
      {
       "ename": "error",
       "evalue": "look-behind requires fixed-width pattern",
       "output_type": "pyerr",
       "traceback": [
        "\u001b[1;31m---------------------------------------------------------------------------\u001b[0m\n\u001b[1;31merror\u001b[0m                                     Traceback (most recent call last)",
        "\u001b[1;32m<ipython-input-78-765c207afc4c>\u001b[0m in \u001b[0;36m<module>\u001b[1;34m()\u001b[0m\n\u001b[0;32m      1\u001b[0m \u001b[0ms\u001b[0m\u001b[1;33m=\u001b[0m\u001b[1;34m'From: korzycki@agh.edu.pl'\u001b[0m\u001b[1;33m\u001b[0m\u001b[0m\n\u001b[1;32m----> 2\u001b[1;33m \u001b[0mre\u001b[0m\u001b[1;33m.\u001b[0m\u001b[0msearch\u001b[0m\u001b[1;33m(\u001b[0m\u001b[1;34mr'(?<=F*)(.*)'\u001b[0m\u001b[1;33m,\u001b[0m\u001b[0ms\u001b[0m\u001b[1;33m)\u001b[0m\u001b[1;33m.\u001b[0m\u001b[0mgroups\u001b[0m\u001b[1;33m(\u001b[0m\u001b[1;33m)\u001b[0m\u001b[1;33m\u001b[0m\u001b[0m\n\u001b[0m",
        "\u001b[1;32m/home/lejlot/anaconda/lib/python2.7/re.pyc\u001b[0m in \u001b[0;36msearch\u001b[1;34m(pattern, string, flags)\u001b[0m\n\u001b[0;32m    144\u001b[0m     \"\"\"Scan through string looking for a match to the pattern, returning\n\u001b[0;32m    145\u001b[0m     a match object, or None if no match was found.\"\"\"\n\u001b[1;32m--> 146\u001b[1;33m     \u001b[1;32mreturn\u001b[0m \u001b[0m_compile\u001b[0m\u001b[1;33m(\u001b[0m\u001b[0mpattern\u001b[0m\u001b[1;33m,\u001b[0m \u001b[0mflags\u001b[0m\u001b[1;33m)\u001b[0m\u001b[1;33m.\u001b[0m\u001b[0msearch\u001b[0m\u001b[1;33m(\u001b[0m\u001b[0mstring\u001b[0m\u001b[1;33m)\u001b[0m\u001b[1;33m\u001b[0m\u001b[0m\n\u001b[0m\u001b[0;32m    147\u001b[0m \u001b[1;33m\u001b[0m\u001b[0m\n\u001b[0;32m    148\u001b[0m \u001b[1;32mdef\u001b[0m \u001b[0msub\u001b[0m\u001b[1;33m(\u001b[0m\u001b[0mpattern\u001b[0m\u001b[1;33m,\u001b[0m \u001b[0mrepl\u001b[0m\u001b[1;33m,\u001b[0m \u001b[0mstring\u001b[0m\u001b[1;33m,\u001b[0m \u001b[0mcount\u001b[0m\u001b[1;33m=\u001b[0m\u001b[1;36m0\u001b[0m\u001b[1;33m,\u001b[0m \u001b[0mflags\u001b[0m\u001b[1;33m=\u001b[0m\u001b[1;36m0\u001b[0m\u001b[1;33m)\u001b[0m\u001b[1;33m:\u001b[0m\u001b[1;33m\u001b[0m\u001b[0m\n",
        "\u001b[1;32m/home/lejlot/anaconda/lib/python2.7/re.pyc\u001b[0m in \u001b[0;36m_compile\u001b[1;34m(*key)\u001b[0m\n\u001b[0;32m    249\u001b[0m         \u001b[0mp\u001b[0m \u001b[1;33m=\u001b[0m \u001b[0msre_compile\u001b[0m\u001b[1;33m.\u001b[0m\u001b[0mcompile\u001b[0m\u001b[1;33m(\u001b[0m\u001b[0mpattern\u001b[0m\u001b[1;33m,\u001b[0m \u001b[0mflags\u001b[0m\u001b[1;33m)\u001b[0m\u001b[1;33m\u001b[0m\u001b[0m\n\u001b[0;32m    250\u001b[0m     \u001b[1;32mexcept\u001b[0m \u001b[0merror\u001b[0m\u001b[1;33m,\u001b[0m \u001b[0mv\u001b[0m\u001b[1;33m:\u001b[0m\u001b[1;33m\u001b[0m\u001b[0m\n\u001b[1;32m--> 251\u001b[1;33m         \u001b[1;32mraise\u001b[0m \u001b[0merror\u001b[0m\u001b[1;33m,\u001b[0m \u001b[0mv\u001b[0m \u001b[1;31m# invalid expression\u001b[0m\u001b[1;33m\u001b[0m\u001b[0m\n\u001b[0m\u001b[0;32m    252\u001b[0m     \u001b[1;32mif\u001b[0m \u001b[1;32mnot\u001b[0m \u001b[0mbypass_cache\u001b[0m\u001b[1;33m:\u001b[0m\u001b[1;33m\u001b[0m\u001b[0m\n\u001b[0;32m    253\u001b[0m         \u001b[1;32mif\u001b[0m \u001b[0mlen\u001b[0m\u001b[1;33m(\u001b[0m\u001b[0m_cache\u001b[0m\u001b[1;33m)\u001b[0m \u001b[1;33m>=\u001b[0m \u001b[0m_MAXCACHE\u001b[0m\u001b[1;33m:\u001b[0m\u001b[1;33m\u001b[0m\u001b[0m\n",
        "\u001b[1;31merror\u001b[0m: look-behind requires fixed-width pattern"
       ]
      }
     ],
     "prompt_number": 78
    },
    {
     "cell_type": "heading",
     "level": 3,
     "metadata": {},
     "source": [
      "Negative Lookbehind "
     ]
    },
    {
     "cell_type": "code",
     "collapsed": false,
     "input": [
      "s='From: korzycki@agh.edu.pl'\n",
      "re.search(r'(?<!^Subject)(?<=: )(.*)',s).group()"
     ],
     "language": "python",
     "metadata": {},
     "outputs": [
      {
       "metadata": {},
       "output_type": "pyout",
       "prompt_number": 79,
       "text": [
        "'korzycki@agh.edu.pl'"
       ]
      }
     ],
     "prompt_number": 79
    },
    {
     "cell_type": "heading",
     "level": 2,
     "metadata": {},
     "source": [
      "Flagi"
     ]
    },
    {
     "cell_type": "raw",
     "metadata": {},
     "source": [
      "re.compile( regex, flags)\n",
      "DOTALL , S\n",
      " re.compile(\u201e.*\u201d, re.S)\n",
      "IGNORECASE, I\n",
      "LOCALE, L\n",
      "MULTILINE, M\n",
      "VERBOSE, X\n",
      "\n",
      "re.compile( \u201ea*\u201d, re.I | re.M )\n",
      "re.compile(\u201e(?xm)a*\u201d)\n"
     ]
    },
    {
     "cell_type": "heading",
     "level": 3,
     "metadata": {},
     "source": [
      "re.VERBOSE"
     ]
    },
    {
     "cell_type": "code",
     "collapsed": false,
     "input": [
      "pat = re.compile(r\"\\s*(?P<header>[^:]+)\\s*:(?P<value>.*?)\\s*$\")"
     ],
     "language": "python",
     "metadata": {},
     "outputs": [],
     "prompt_number": 84
    },
    {
     "cell_type": "code",
     "collapsed": false,
     "input": [
      "pat.match('From: korzycki@agh.edu.pl').groups()"
     ],
     "language": "python",
     "metadata": {},
     "outputs": [
      {
       "metadata": {},
       "output_type": "pyout",
       "prompt_number": 85,
       "text": [
        "('From', ' korzycki@agh.edu.pl')"
       ]
      }
     ],
     "prompt_number": 85
    },
    {
     "cell_type": "code",
     "collapsed": false,
     "input": [
      "pat = re.compile(r\"\"\"\n",
      "    \\s*               # Skip leading whitespace\n",
      "    (?P<header>[^:]+) # Header name\n",
      "    \\s* :             # Whitespace, and a colon\n",
      "    (?P<value>.*?)    # The header's value -- *? used to\n",
      "                      # lose the following trailing whitespace\n",
      "    \\s*$\n",
      "\"\"\", re.VERBOSE)\n"
     ],
     "language": "python",
     "metadata": {},
     "outputs": [],
     "prompt_number": 90
    },
    {
     "cell_type": "code",
     "collapsed": false,
     "input": [
      "pat.match('From: korzycki@agh.edu.pl').groups()"
     ],
     "language": "python",
     "metadata": {},
     "outputs": [
      {
       "metadata": {},
       "output_type": "pyout",
       "prompt_number": 91,
       "text": [
        "('From', ' korzycki@agh.edu.pl')"
       ]
      }
     ],
     "prompt_number": 91
    },
    {
     "cell_type": "heading",
     "level": 3,
     "metadata": {},
     "source": [
      "re.IGNORECASE"
     ]
    },
    {
     "cell_type": "code",
     "collapsed": false,
     "input": [
      "re.match(r'(?i)ala','Ala').group()"
     ],
     "language": "python",
     "metadata": {},
     "outputs": [
      {
       "metadata": {},
       "output_type": "pyout",
       "prompt_number": 92,
       "text": [
        "'Ala'"
       ]
      }
     ],
     "prompt_number": 92
    },
    {
     "cell_type": "heading",
     "level": 3,
     "metadata": {},
     "source": [
      "re.MULTILINE re.DOTALL"
     ]
    },
    {
     "cell_type": "code",
     "collapsed": false,
     "input": [
      "s=\"\"\"Ala ma\n",
      "kota\"\"\"\n",
      "\n",
      "print re.match(r'^A.*ta$', s)\n",
      "print re.match(r'(?ms)^A.*ta$', s)"
     ],
     "language": "python",
     "metadata": {},
     "outputs": [
      {
       "output_type": "stream",
       "stream": "stdout",
       "text": [
        "None\n",
        "<_sre.SRE_Match object at 0x7f338a95acc8>\n"
       ]
      }
     ],
     "prompt_number": 94
    },
    {
     "cell_type": "code",
     "collapsed": false,
     "input": [
      "p = re.compile('.*', re.DEBUG)\n",
      "\n",
      "\n",
      "p = re.compile('(<)?(\\w+@\\w+(?:\\.\\w+)+)(?(1)>)', re.DEBUG)\n",
      "\n"
     ],
     "language": "python",
     "metadata": {},
     "outputs": [
      {
       "output_type": "stream",
       "stream": "stdout",
       "text": [
        "max_repeat 0 4294967295\n",
        "  any None\n",
        "max_repeat 0 1\n",
        "  subpattern 1\n",
        "    literal 60\n",
        "subpattern 2\n",
        "  max_repeat 1 4294967295\n",
        "    in\n",
        "      category category_word\n",
        "  literal 64\n",
        "  max_repeat 1 4294967295\n",
        "    in\n",
        "      category category_word\n",
        "  max_repeat 1 4294967295\n",
        "    subpattern None\n",
        "      literal 46\n",
        "      max_repeat 1 4294967295\n",
        "        in\n",
        "          category category_word\n",
        "subpattern None\n",
        "  groupref_exists 1\n",
        "    literal 62\n"
       ]
      }
     ],
     "prompt_number": 98
    },
    {
     "cell_type": "heading",
     "level": 2,
     "metadata": {},
     "source": [
      "Podstawienie"
     ]
    },
    {
     "cell_type": "raw",
     "metadata": {},
     "source": [
      "re.sub(pattern, repl, string)\n",
      "regex.sub(repl,string)"
     ]
    },
    {
     "cell_type": "code",
     "collapsed": false,
     "input": [
      "#urlify - turn URLs into HTML links\n",
      "import re\n",
      "\n",
      "text = 'Check the web site, http://www.oreilly.com/catalog/regexppr.'\n",
      "\n",
      "pattern = r'''\n",
      "    \\b                                    # start at word boundary\n",
      "    (                                     # capture to \\1\n",
      "    (https?|telnet|gopher|file|wais|ftp) :# resource and colon\n",
      "    [\\w/#~:.?+=&%@!\\-] +?                 # one or more valid chars\n",
      "                                          # take little as possible\n",
      "    )\n",
      "    (?=                                   # lookahead\n",
      "    [.:?\\-] *                             # for possible punc\n",
      "    (?: [^\\w/#~:.?+=&%@!\\-]               # invalid character\n",
      "    | $ )                                 # or end of string\n",
      "    )'''\n",
      "\n",
      "regex = re.compile(pattern, re.IGNORECASE | re.VERBOSE)\n",
      "result = regex.sub(r'<a href=\"\\1\">\\1</a>', text)\n",
      "\n",
      "print result"
     ],
     "language": "python",
     "metadata": {},
     "outputs": [
      {
       "output_type": "stream",
       "stream": "stdout",
       "text": [
        "Check the web site, <a href=\"http://www.oreilly.com/catalog/regexppr\">http://www.oreilly.com/catalog/regexppr</a>.\n"
       ]
      }
     ],
     "prompt_number": 101
    },
    {
     "cell_type": "heading",
     "level": 3,
     "metadata": {},
     "source": [
      "Podstawienie funkcj\u0105"
     ]
    },
    {
     "cell_type": "code",
     "collapsed": false,
     "input": [
      "import random\n",
      "def repl(m):\n",
      "    inner_word = list(m.group())\n",
      "    random.shuffle(inner_word)\n",
      "    return \"\".join(inner_word)\n"
     ],
     "language": "python",
     "metadata": {},
     "outputs": [],
     "prompt_number": 107
    },
    {
     "cell_type": "code",
     "collapsed": false,
     "input": [
      "text = \"Professor Abdolmalek, please report your absences promptly.\"\n",
      "re.sub(\"(?:\\w)(\\w+)(?:\\w)\", repl, text)"
     ],
     "language": "python",
     "metadata": {},
     "outputs": [
      {
       "metadata": {},
       "output_type": "pyout",
       "prompt_number": 117,
       "text": [
        "'roPeorfss ldoeklAbma, spalee otrerp yuro esecnabs rlpotmpy.'"
       ]
      }
     ],
     "prompt_number": 117
    },
    {
     "cell_type": "code",
     "collapsed": false,
     "input": [
      "indent = lambda s: min(map(len,re.findall('^ *(?=\\S)', s, re.MULTILINE)))\n",
      "flush_left = lambda s: re.sub('^ {%d}' % indent(s), '', s, flags=re.MULTILINE)"
     ],
     "language": "python",
     "metadata": {},
     "outputs": [],
     "prompt_number": 152
    },
    {
     "cell_type": "code",
     "collapsed": false,
     "input": [
      "s=\"\"\"    \n",
      "    Bardzo\n",
      "       roznie\n",
      "     wciety\n",
      "    tekst \n",
      "\"\"\"\n",
      "print s\n",
      "print\n",
      "print flush_left(s)"
     ],
     "language": "python",
     "metadata": {},
     "outputs": [
      {
       "output_type": "stream",
       "stream": "stdout",
       "text": [
        "    \n",
        "    Bardzo\n",
        "       roznie\n",
        "     wciety\n",
        "    tekst \n",
        "\n",
        "\n",
        "\n",
        "Bardzo\n",
        "   roznie\n",
        " wciety\n",
        "tekst \n",
        "\n"
       ]
      }
     ],
     "prompt_number": 153
    }
   ],
   "metadata": {}
  }
 ]
}