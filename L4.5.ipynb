{
 "metadata": {
  "name": ""
 },
 "nbformat": 3,
 "nbformat_minor": 0,
 "worksheets": [
  {
   "cells": [
    {
     "cell_type": "heading",
     "level": 1,
     "metadata": {},
     "source": [
      "J\u0119zyk Python - Wyk\u0142ad 4.5"
     ]
    },
    {
     "cell_type": "markdown",
     "metadata": {},
     "source": [
      "## Projekt ko\u0144cowy"
     ]
    },
    {
     "cell_type": "markdown",
     "metadata": {},
     "source": [
      "### OG\u00d3LNE WYMAGANIA\n",
      "\n",
      "* Kod musi dzia\u0142a\u0107\n",
      "* Kod powinien zawiera\u0107 co najmniej 300 linii (kodu) / osob\u0119\n",
      "* Kod powinien przechodzi\u0107 ocen\u0119 pylinta na 100% [z dok\u0142adno\u015bci\u0105 do b\u0142\u0119d\u00f3w zwracanych przez zewn\u0119trzne biblioteki]\n",
      "* Nale\u017cy wykorzysta\u0107 paradygmat programowania obiektowego\n",
      "* Kod powinien zawiera\u0107 unit testy\n",
      "* Dostarczenie dokumentacji/opisu projektu\n",
      "* Zalecane jest trzymanie projektu jako otwartego repozytorium na githubie\n"
     ]
    },
    {
     "cell_type": "markdown",
     "metadata": {},
     "source": [
      "### UWAGI\n",
      "\n",
      "* Ka\u017cdy temat mo\u017ce by\u0107 wybrany tylko raz\n",
      "* Istnieje mo\u017cliwo\u015b\u0107 zwi\u0119kszenia liczby os\u00f3b wykonuj\u0105cych dany projekt pod warunkiem rozbudowy jego funkcjonalno\u015bci [ustalane indywidualnie z dan\u0105 grup\u0105]\n",
      "* Wst\u0119pna rezerwacja oznacza, \u017ce temat zosta\u0142 zg\u0142oszony przez danego studenta i nie mo\u017ce by\u0107 zaj\u0119ty dop\u00f3ki ten student nie zdeklaruje wyboru innego tematu\n"
     ]
    },
    {
     "cell_type": "markdown",
     "metadata": {},
     "source": [
      "## Procedura wyboru tematu\n",
      "\n",
      "1. Nale\u017cy zalogowa\u0107 si\u0119 na pegaza\n",
      "2. Wej\u015b\u0107 w modu\u0142 wyk\u0142adu\n",
      "3. Otworzy\u0107 forum \"towarzyskie\"\n",
      "4. Napisa\u0107 posta w temacie \"Wybrane tematy\" w postaci: NAZWA_DZIALU, NUMER_PROJEKTU, [OSOBA2, OSOBA3, ...]\n",
      "\n",
      "np. Je\u015bli Jan Kowalski chce wykona\u0107 projekt 4 z kategorii GRY z Ilon\u0105 Nowak to pisze\n",
      "\n",
      "    GRY, 4, Ilona Nowak\n",
      "    \n",
      "W ten spos\u00f3b wiadomo czy uda\u0142o si\u0119\u00a0zaj\u0105\u0107 temat - je\u015bli przed naszym postem nie ma innego z tym samym tematem - temat zostaje do nas przypisany. Mo\u017cna zajmowa\u0107 temat wieloosobowy samodzielnie, jednak wtedy deklarujemy, \u017ce je\u015bli nie znajdziemy wsp\u00f3\u0142wykonawcy to zrobimy projekt samodzielnie."
     ]
    },
    {
     "cell_type": "markdown",
     "metadata": {},
     "source": [
      "### TEMATY [aktualna lista]\n",
      "\n",
      "\t\n",
      "# http://goo.gl/tXY8Rg"
     ]
    }
   ],
   "metadata": {}
  }
 ]
}