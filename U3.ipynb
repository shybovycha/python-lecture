{
 "metadata": {
  "name": "",
  "signature": "sha256:290334b2f39f8ecfa4e78f90feee3981d8f58c085c9732501b4f6f99bb92bbee"
 },
 "nbformat": 3,
 "nbformat_minor": 0,
 "worksheets": [
  {
   "cells": [
    {
     "cell_type": "heading",
     "level": 2,
     "metadata": {},
     "source": [
      "J\u0119zyk Python - Laboratorium 3."
     ]
    },
    {
     "cell_type": "heading",
     "level": 2,
     "metadata": {},
     "source": [
      "ZADANIA"
     ]
    },
    {
     "cell_type": "markdown",
     "metadata": {},
     "source": [
      "Uzupe\u0142nij definicje poni\u017cszych funkcji/generator\u00f3w"
     ]
    },
    {
     "cell_type": "code",
     "collapsed": false,
     "input": [
      "def natural_numbers(k=0):\n",
      "    \"\"\"Tworzy generator liczb naturalnych od liczby k\"\"\"\n",
      "    pass\n",
      "\n",
      "import types\n",
      "print isinstance(natural_numbers(), types.GeneratorType)\n",
      "\n",
      "for i, n in enumerate(natural_numbers()):\n",
      "    print(i, i == n)\n",
      "    if i > 20:\n",
      "        break\n",
      "        \n",
      "for i, n in enumerate(natural_numbers(1)):\n",
      "    print(i, i+1 == n)\n",
      "    if i > 20:\n",
      "        break"
     ],
     "language": "python",
     "metadata": {},
     "outputs": []
    },
    {
     "cell_type": "code",
     "collapsed": false,
     "input": [
      "def factorials():\n",
      "    \"\"\"Tworzy generator kolejnych silnii\"\"\"\n",
      "    pass\n",
      "\n",
      "import types\n",
      "print isinstance(factorials(), types.GeneratorType)\n",
      "\n",
      "results = [1, 2, 6, 24, 120, 720, 5040]\n",
      "for truth, answer in zip(results, factorials()):\n",
      "    print(truth, truth == answer)"
     ],
     "language": "python",
     "metadata": {},
     "outputs": []
    },
    {
     "cell_type": "markdown",
     "metadata": {},
     "source": [
      "W poni\u017cszej serii zada\u0144 **nie u\u017cywaj** \\* comprehension, zamiast tego u\u017cyj paradygmatu funkcyjnego. Ka\u017cde rozwi\u0105zanie powinno by\u0107 jednolinijkowe"
     ]
    },
    {
     "cell_type": "code",
     "collapsed": false,
     "input": [
      "def celsius_to_fahrenheit(x):\n",
      "    \"\"\"Konwertuje liste temperatur w stopniach Celsjusza do skali Fahrenheita\"\"\"\n",
      "    pass\n",
      "\n",
      "print(celsius_to_fahrenheit([0, 10, 100]) == [32.0, 50.0, 212.0])\n",
      "print(celsius_to_fahrenheit([-123, 0]) == [-189.4, 32.0])"
     ],
     "language": "python",
     "metadata": {},
     "outputs": []
    },
    {
     "cell_type": "code",
     "collapsed": false,
     "input": [
      "def product_greater_than(x, k=0):\n",
      "    \"\"\"Zwraca iloczyn liczb w li\u015bcie x wi\u0119kszych od k\"\"\"\n",
      "    pass\n",
      "\n",
      "print(product_greater_than([1, 2, 3]) == 6)\n",
      "print(product_greater_than([1, 2, 3], 2) == 3)\n",
      "print(product_greater_than([-4, 5, 10, 23, 123], -5) == -565800)"
     ],
     "language": "python",
     "metadata": {},
     "outputs": []
    },
    {
     "cell_type": "code",
     "collapsed": false,
     "input": [
      "def create_sentence(x, k=0):\n",
      "    \"\"\"\u0141\u0105czy s\u0142owa (o d\u0142ugo\u015bci co najmniej k) z listy x w zdanie\"\"\"\n",
      "    pass\n",
      "\n",
      "print(create_sentence(['ala', 'ma', 'kota']) == 'ala ma kota')\n",
      "print(create_sentence(['ala']) == 'ala')\n",
      "print(create_sentence(['ala', 'ma', 'pieknego', 'kota'], k=3) == 'ala pieknego kota')"
     ],
     "language": "python",
     "metadata": {},
     "outputs": []
    },
    {
     "cell_type": "markdown",
     "metadata": {},
     "source": [
      "Dopisz brakuj\u0105ce metody/dekoratory poni\u017cszych funkcji/obiekt\u00f3w"
     ]
    },
    {
     "cell_type": "code",
     "collapsed": false,
     "input": [
      "import sys\n",
      "sys.float_info.epsilon #epsilon maszynowy\n",
      "\n",
      "def derivate(epsilon=None):\n",
      "    \"\"\"\n",
      "    zwraca pochodn\u0105 funkcji w punkcie, wg. wzoru f'(x) = [f(x+h) - f(x)]/h, \n",
      "    gdzie h jest parametrem dekoratora, je\u015bli nie zostanie podany, nale\u017cy przyj\u0105\u0107 1000 * epsilon maszynowy\n",
      "    \"\"\"\n",
      "    pass\n",
      "\n",
      "@derivate(0.01)\n",
      "def f(x):\n",
      "    return x*x\n",
      "\n",
      "@derivate(0.00001)\n",
      "def g(x):\n",
      "    return x*x*x+3\n",
      "\n",
      "def test(a, b, eps=1):\n",
      "    return abs(round(a)-round(b)) < eps\n",
      "\n",
      "print(test(f(100), 200.0))\n",
      "print(round(f(0)) == 0.0)\n",
      "\n",
      "print(test(g(100), 30000.0))\n",
      "print(round(g(0)) == 0.0)\n",
      "\n",
      "from random import random\n",
      "for x in [random()*1000. for _ in xrange(20)]:\n",
      "    print(f(x), 2*x, test(f(x), 2*x))\n",
      "    print(g(x), 3*x**2, test(g(x), 3*x**2))"
     ],
     "language": "python",
     "metadata": {},
     "outputs": []
    },
    {
     "cell_type": "code",
     "collapsed": false,
     "input": [
      "class FrozenDictionary(object):\n",
      "    \"\"\"\n",
      "    Odpowiednik frozenset dla zbior\u00f3w, czyli s\u0142ownik, kt\u00f3ry nie jest modyfikowalny,\n",
      "    a dzi\u0119ki temu mo\u017ce by\u0107 np. elementem zbior\u00f3w, albo kluczem w innym s\u0142owniku.\n",
      "    \"\"\"\n",
      "    \n",
      "    def __init__(self, dictionary):\n",
      "        \"\"\"Tworzy nowy zamro\u017cony s\u0142ownik z podanego s\u0142ownika\"\"\"\n",
      "        pass\n",
      "    \n",
      "    def __hash__(self):\n",
      "        \"\"\"Zwraca hasz s\u0142ownika (int)\"\"\"\n",
      "        pass\n",
      "    \n",
      "    def __eq__(self, d):\n",
      "        \"\"\"Por\u00f3wnuje nasz s\u0142ownik z zamro\u017conym s\u0142ownikiem d\"\"\"\n",
      "        pass\n",
      "    \n",
      "    def __repr__(self):\n",
      "        \"\"\"Zwraca reprezentacj\u0119 naszego s\u0142ownika jako string\"\"\"\n",
      "        pass\n",
      "        \n",
      "dicts = [FrozenDictionary({'ala': 4}), FrozenDictionary({'ala': 1, 'jacek': 0}), \\\n",
      "         FrozenDictionary({'ala': 4}), FrozenDictionary({'ala': 2}), FrozenDictionary({'jacek': 0, 'ala': 1})]\n",
      "\n",
      "s = set(dicts)\n",
      "print(dicts[0] == dicts[2])\n",
      "print(dicts[0] != dicts[3])\n",
      "print(len(s) == 3)\n",
      "for d in dicts:\n",
      "    print(d in s)\n",
      "\n",
      "# Powinno wy\u015bwietli\u0107 co\u015b w stylu set([{'ala': 4}, {'ala': 1, 'jacek': 0}, {'ala': 2}])\n",
      "print(s)\n"
     ],
     "language": "python",
     "metadata": {},
     "outputs": []
    },
    {
     "cell_type": "markdown",
     "metadata": {},
     "source": [
      "**Zadanie dodatkowe**\n",
      "\n",
      "Stw\u00f3rz dekorator `cached` s\u0142u\u017c\u0105cy do cachowania wywo\u0142a\u0144 dowolnej funkcji, tzn. chcemy by:\n",
      "\n",
      "* wywo\u0142anie funkcji z okre\u015blonymi argumentami mia\u0142o miejsce tylko raz\n",
      "* funkcja mog\u0142a przyjmowa\u0107\u00a0dowoln\u0105 liczb\u0119 nazwanych i nienazwanych argument\u00f3w\n",
      "* nie musi reagowa\u0107 poprawnie na domy\u015blne argumenty, tzn. wywo\u0142anie funkcji z domy\u015blnymi argumentami a podanie dok\u0142adnie takich samych mo\u017ce by\u0107 traktowane jako dwa r\u00f3\u017cne wywo\u0142ania\n",
      "* na opakowanej funkcji mo\u017cna wywo\u0142a\u0107 `.cache_reset()`, kt\u00f3ry usunie cache z pami\u0119ci\n",
      "* wywo\u0142anie `.cache_status()` zwraca string z opisem w postaci:\n",
      "\n",
      "  Function FUNCTION_NAME called X times, evaluated Y times\n",
      "  "
     ]
    },
    {
     "cell_type": "code",
     "collapsed": false,
     "input": [
      "from random import random\n",
      "\n",
      "@cached\n",
      "def foo(x, y=1, z=4):\n",
      "    return random()\n",
      "        \n",
      "print(foo(3) == foo(3))\n",
      "print(foo(4) == foo(4))\n",
      "print(foo(3, z=-1, y=3) == foo(3, y=3, z=-1))\n",
      "print(foo(3) != foo(x=3))\n",
      "a = foo(3)\n",
      "foo.cache_reset()\n",
      "print(a != foo(3))\n",
      "print(foo.cache_status() == 'Function foo called 10 times, evaluated 5 times')               "
     ],
     "language": "python",
     "metadata": {},
     "outputs": []
    }
   ],
   "metadata": {}
  }
 ]
}