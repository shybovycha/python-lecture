{
 "cells": [
  {
   "cell_type": "markdown",
   "metadata": {},
   "source": [
    "## Język Python - Laboratorium 6."
   ]
  },
  {
   "cell_type": "markdown",
   "metadata": {},
   "source": [
    "## ZADANIA"
   ]
  },
  {
   "cell_type": "markdown",
   "metadata": {},
   "source": [
    "1.Otwórz plik `sorting.py`"
   ]
  },
  {
   "cell_type": "code",
   "execution_count": 6,
   "metadata": {
    "collapsed": false
   },
   "outputs": [
    {
     "name": "stdout",
     "output_type": "stream",
     "text": [
      "# Sample Python/Pygame Programs\n",
      "# Simpson College Computer Science\n",
      "# http://programarcadegames.com/\n",
      "# http://simpson.edu/computer-science/\n",
      "#\n",
      "# modified for use in UJ python course\n",
      "import sys\n",
      "import random\n",
      "\n",
      "class selection_sort:\n",
      "     \n",
      "    # The selection sort\n",
      "    def __call__(self,list):\n",
      "     \n",
      "        # Loop through the entire array\n",
      "       for curPos in range( len(list) ):\n",
      "            # Find the position that has the smallest number\n",
      "            # Start with the current position\n",
      "            minPos = curPos\n",
      "             \n",
      "            # Scan left to right (end of the list)\n",
      "            for scanPos in range(curPos+1, len(list) ):\n",
      "             \n",
      "                # Is this position smallest?\n",
      "                if list[scanPos]< list[minPos]:\n",
      "                 \n",
      "                    # It is, mark this position as the smallest\n",
      "                    minPos = scanPos\n",
      "             \n",
      "            # Swap the two values\n",
      "            temp = list[minPos]\n",
      "            list[minPos] = list[curPos]\n",
      "            list[curPos] = temp\n",
      "     \n",
      "\n",
      "\n",
      "class insertion_sort:\n",
      "\n",
      "    def __call__(this, list):   \n",
      "        # Start at the second element (pos 1).\n",
      "        # Use this element to insert into the\n",
      "        # list.\n",
      "        for keyPos in range(1, len(list)):\n",
      "         \n",
      "            # Get the value of the element to insert\n",
      "            keyValue = list[keyPos]\n",
      "             \n",
      "            # Scan from right to the left (start of list)\n",
      "            scanPos = keyPos - 1\n",
      "             \n",
      "            # Loop each element, moving them up until\n",
      "            # we reach the position the \n",
      "            while (scanPos >= 0) and (list[scanPos] > keyValue):\n",
      "                list[scanPos + 1] = list[scanPos]\n",
      "                scanPos = scanPos - 1\n",
      "                 \n",
      "            # Everything's been moved out of the way, insert\n",
      "            # the key into the correct location\n",
      "            list[scanPos +  1]= keyValue\n",
      "     \n",
      "         \n",
      "# This will point out a list\n",
      "def print_list(list):\n",
      "    for item in list:\n",
      "        print \"%3d\" % item,\n",
      "    print()\n",
      "\n",
      "if __name__ == '__main__':     \n",
      "    # Create two lists of the same random numbers\n",
      "    list1 = []\n",
      "    list2 = []\n",
      "    list_size = 10\n",
      "    for i in range(list_size):\n",
      "        new_number = random.randrange(100)\n",
      "        list1.append(new_number)\n",
      "        list2.append(new_number)\n",
      "     \n",
      "    # Print the original list\n",
      "    print_list(list1)\n",
      "     \n",
      "    # Use the selection sort and print the result\n",
      "    print(\"Selection Sort\")\n",
      "    selection_sort()(list1)        \n",
      "    print_list(list1)\n",
      "     \n",
      "    # Use the insertion sort and print the result\n",
      "    print(\"Insertion Sort\")\n",
      "    insertion_sort()(list2)        \n",
      "    print_list(list2)\n",
      "\n"
     ]
    }
   ],
   "source": [
    "with open('U6_files/sorting.py') as fh:\n",
    "    print fh.read()"
   ]
  },
  {
   "cell_type": "markdown",
   "metadata": {},
   "source": [
    "2.Popraw kod tak, aby uzyskać 100% oceny wg. `pylint`"
   ]
  },
  {
   "cell_type": "markdown",
   "metadata": {},
   "source": [
    "3.Napisz testy sprawdzające czy poszczególne metody dobrze sortują ciągi :\n",
    "\n",
    "* puste\n",
    "* singletony\n",
    "* ciągi liczb od 0 do N\n",
    "* alfabet\n",
    "\n",
    "Użyj zewnętrznego pliku z testami"
   ]
  },
  {
   "cell_type": "markdown",
   "metadata": {},
   "source": [
    "4.Otwórz rozwiązanie zadania `SetOfWords` z ćwiczeń 4 (jeśli nie masz własnego, użyj tego z forum). Napisz 3 testy dla **każdej** z używanych tam metod."
   ]
  },
  {
   "cell_type": "markdown",
   "metadata": {},
   "source": [
    "### Zadania dodatkowe\n",
    "\n",
    "Otwórz swoje rozwiązanie gry `Hangman` i popraw je tak, aby uzyskać `100%` notę z `pylint`. Następnie przygotuj unit testy dla całego kodu. "
   ]
  }
 ],
 "metadata": {
  "kernelspec": {
   "display_name": "Python 2",
   "language": "python",
   "name": "python2"
  },
  "language_info": {
   "codemirror_mode": {
    "name": "ipython",
    "version": 2
   },
   "file_extension": ".py",
   "mimetype": "text/x-python",
   "name": "python",
   "nbconvert_exporter": "python",
   "pygments_lexer": "ipython2",
   "version": "2.7.9"
  }
 },
 "nbformat": 4,
 "nbformat_minor": 0
}
