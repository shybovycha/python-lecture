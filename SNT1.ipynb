{
 "metadata": {
  "name": ""
 },
 "nbformat": 3,
 "nbformat_minor": 0,
 "worksheets": [
  {
   "cells": [
    {
     "cell_type": "heading",
     "level": 1,
     "metadata": {},
     "source": [
      "Sieci Neuronowe - mini projekt #1"
     ]
    },
    {
     "cell_type": "markdown",
     "metadata": {},
     "source": [
      "Waszym zadaniem jest zbudowanie **liniowego**, **wieloklasowego** modelu s\u0142u\u017c\u0105cego do rozpoznawania twarzy."
     ]
    },
    {
     "cell_type": "markdown",
     "metadata": {},
     "source": [
      "Rozwi\u0105zaniem powinien by\u0107 pojedynczy plik `.py` oraz towarzysz\u0105cy mu plik `.model`, kt\u00f3re maj\u0105\u00a0zawiera\u0107:\n",
      "\n",
      "plik `NAZWISKO.py` ma zawiera\u0107 klas\u0119 `FacesClassifier`, kt\u00f3ra posiada:\n",
      "\n",
      "* metod\u0119 `.predict(X)`, zwracaj\u0105c\u0105 klas\u0119 (w takiej postaci jak w pliku ucz\u0105cym) dla ka\u017cdego wiersza z macierzy `X`\n",
      "* konstruktor jednoargumentowy `FacesClassifier(f)`, \u0142aduj\u0105c\u0105 model z pliku. Ma by\u0107 jasne z kodu, \u017ce model ma form\u0119 liniow\u0105, tzn. zabronione jest splikowanie jakiej\u015b du\u017cej ilo\u015bci danych. Oczekiwane jest wczytanie macierzy (lub kilku).\n",
      "\n",
      "Kod b\u0119dzie testowany w nast\u0119puj\u0105cy spos\u00f3b:\n",
      "\n",
      "    from NAZWISKO import FacesClassifier\n",
      "    \n",
      "    X, y = load_svmlight_file('task1.test')\n",
      "    clf = FacesClassifier('NAZWISKO.model')\n",
      "    print accuracy_score(y, clf.predict(X))\n",
      "    \n",
      "plik `NAZWISKO.model` ma by\u0107 plikiem tekstowym zawieraj\u0105cym dane naszego klasyfikatora liniowego. Jego forma, zapis jest dowolny, nie jest tu narzucony \u017caden konkretny format"
     ]
    },
    {
     "cell_type": "heading",
     "level": 4,
     "metadata": {},
     "source": [
      "Jak b\u0119dziemy oceniani?"
     ]
    },
    {
     "cell_type": "markdown",
     "metadata": {},
     "source": [
      "Model zostanie oceniony na pewnym (nieznanym) zbiorze twarzy tych samych ludzi. Innymi s\u0142owy istnieje przygotowany zbi\u00f3r dodatkowych twarzy w analogicznym formacie, kt\u00f3re zostan\u0105 u\u017cyte by oceni\u0107 jak dobrze wasze modele **generalizuj\u0105**."
     ]
    },
    {
     "cell_type": "heading",
     "level": 4,
     "metadata": {},
     "source": [
      "Termin"
     ]
    },
    {
     "cell_type": "markdown",
     "metadata": {},
     "source": [
      "Projekt ma zosta\u0107 oddany na \u0107wiczeniach za 2 tygodnie, czyli **7go kwietnia**."
     ]
    },
    {
     "cell_type": "heading",
     "level": 4,
     "metadata": {},
     "source": [
      "Przyk\u0142adowe twarze, ich etykiety i predykcje z modelu liniowego"
     ]
    },
    {
     "cell_type": "markdown",
     "metadata": {},
     "source": [
      "Wyniki z prostego modelu liniowego, osi\u0105gaj\u0105cego ok. 75% dok\u0142adno\u015bci (na ukrytym zbiorze testuj\u0105cym)\n",
      "\n",
      "\n",
      "<img src=\"files/SNT1_img/faces.png\">"
     ]
    }
   ],
   "metadata": {}
  }
 ]
}