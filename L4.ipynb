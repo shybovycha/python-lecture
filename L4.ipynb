{
 "metadata": {
  "name": ""
 },
 "nbformat": 3,
 "nbformat_minor": 0,
 "worksheets": [
  {
   "cells": [
    {
     "cell_type": "heading",
     "level": 1,
     "metadata": {},
     "source": [
      "J\u0119zyk Python - Wyk\u0142ad 4."
     ]
    },
    {
     "cell_type": "heading",
     "level": 2,
     "metadata": {},
     "source": [
      "Context Manager "
     ]
    },
    {
     "cell_type": "markdown",
     "metadata": {},
     "source": [
      "    with expression [as (targets)]:\n",
      "        code block with context of \"targets\"\n",
      "\n",
      "* Mo\u017cliwo\u015b\u0107 utworzenia dynamicznego (w runtime) kontekstu dla wykonania sekcji kodu\n",
      "* Typowy przyk\u0142ad: czytanie z pliku, czytanie nast\u0119puje w kontek\u015bcie otwarcia i zamkni\u0119cia pliku\n",
      "* Obiekt context managera musi implementowa\u0107\u00a0protok\u00f3\u0142: ``__enter__()`` i ``__exit__()``\n",
      "* [PEP 343](http://www.python.org/dev/peps/pep-0343/)"
     ]
    },
    {
     "cell_type": "code",
     "collapsed": false,
     "input": [
      "with open('L4.ipynb') as notebook:\n",
      "    print notebook.read(50)\n",
      "    print notebook\n",
      "print notebook"
     ],
     "language": "python",
     "metadata": {},
     "outputs": []
    },
    {
     "cell_type": "code",
     "collapsed": false,
     "input": [
      "simple_notebook = open('L4.ipynb')\n",
      "print simple_notebook.read(50)\n",
      "print simple_notebook\n",
      "simple_notebook.close()\n",
      "print simple_notebook\n"
     ],
     "language": "python",
     "metadata": {},
     "outputs": []
    },
    {
     "cell_type": "code",
     "collapsed": false,
     "input": [
      "class MyContextManager(object):\n",
      "    \n",
      "    def __enter__(self):\n",
      "        print \"Context prepared\"\n",
      "    \n",
      "    def __exit__(self, exc_type, exc_value, traceback):\n",
      "        print \"Context closed \", exc_type, exc_value, traceback\n",
      "\n",
      "        \n",
      "with MyContextManager():\n",
      "    print \"Hello\""
     ],
     "language": "python",
     "metadata": {},
     "outputs": []
    },
    {
     "cell_type": "code",
     "collapsed": false,
     "input": [
      "class MyContextManager(object):\n",
      "    \n",
      "    def __enter__(self):\n",
      "        print \"Context prepared\"\n",
      "    \n",
      "    def __exit__(self, exc_type, exc_value, traceback):\n",
      "        print \"Context closed \", exc_type, exc_value, traceback\n",
      "\n",
      "        \n",
      "with MyContextManager():\n",
      "    1/0"
     ],
     "language": "python",
     "metadata": {},
     "outputs": []
    },
    {
     "cell_type": "code",
     "collapsed": false,
     "input": [
      "class MyContextManager(object):\n",
      "    \n",
      "    def __init__(self, custom=\"Context\"):\n",
      "        self.custom = custom\n",
      "        \n",
      "    def __enter__(self):\n",
      "        print \"%s prepared\" % self.custom\n",
      "    \n",
      "    def __exit__(self, exc_type, exc_value, traceback):\n",
      "        print \"%s closed \" % self.custom, exc_type, exc_value, traceback\n",
      "\n",
      "        \n",
      "with MyContextManager('Dog'):\n",
      "    print \"Hau\""
     ],
     "language": "python",
     "metadata": {},
     "outputs": []
    },
    {
     "cell_type": "heading",
     "level": 3,
     "metadata": {},
     "source": [
      "Context manager z u\u017cyciem dekoratora"
     ]
    },
    {
     "cell_type": "code",
     "collapsed": false,
     "input": [
      "from contextlib import contextmanager\n",
      "\n",
      "@contextmanager\n",
      "def tag(name):\n",
      "    print \"<%s>\" % name,\n",
      "    yield  # Tutaj zostanie wywolany kod z wnetrza context managera\n",
      "    print \"</%s>\" % name,\n",
      "\n",
      "with tag(\"h1\"):\n",
      "    print \"foo\",\n",
      "\n",
      "print\n",
      "\n",
      "with tag(\"div\"):\n",
      "    print \"foo\",\n",
      "\n"
     ],
     "language": "python",
     "metadata": {},
     "outputs": []
    },
    {
     "cell_type": "heading",
     "level": 2,
     "metadata": {},
     "source": [
      "Metody specjalne (cd..)"
     ]
    },
    {
     "cell_type": "heading",
     "level": 3,
     "metadata": {},
     "source": [
      "``__repr__``"
     ]
    },
    {
     "cell_type": "code",
     "collapsed": false,
     "input": [
      "class T:\n",
      "    \n",
      "    pass\n",
      "\n",
      "[T(), T(), T()]"
     ],
     "language": "python",
     "metadata": {},
     "outputs": []
    },
    {
     "cell_type": "code",
     "collapsed": false,
     "input": [
      "class T:\n",
      "    \n",
      "    def __repr__(self):\n",
      "        return 'T class'\n",
      "\n",
      "print [T(), T(), T()]\n",
      "print repr(T())"
     ],
     "language": "python",
     "metadata": {},
     "outputs": []
    },
    {
     "cell_type": "heading",
     "level": 3,
     "metadata": {},
     "source": [
      "``__str__`` i ``__unicode__``"
     ]
    },
    {
     "cell_type": "code",
     "collapsed": false,
     "input": [
      "class Car:\n",
      "    \n",
      "    def __init__(self, vendor, model, ccm):\n",
      "        self.vendor = vendor\n",
      "        self.model = model\n",
      "        self.ccm = ccm\n",
      "        \n",
      "    def __str__(self):\n",
      "        return '%s %s (%.1f L)' % (self.vendor, self.model, self.ccm / 1000.0)\n",
      "\n",
      "print Car('Porsche', '911', 3600)"
     ],
     "language": "python",
     "metadata": {},
     "outputs": []
    },
    {
     "cell_type": "code",
     "collapsed": false,
     "input": [
      "class Car:\n",
      "    \n",
      "    def __init__(self, vendor, model, ccm):\n",
      "        self.vendor = vendor\n",
      "        self.model = model\n",
      "        self.ccm = ccm\n",
      "        \n",
      "    def __str__(self):\n",
      "        return '%s %s (%.1f L)' % (self.vendor, self.model, self.ccm / 1000.0)\n",
      "    \n",
      "    def __unicode__(self):\n",
      "        return u'Unicode ' + unicode(str(self))\n",
      "\n",
      "print unicode(Car('Porsche', '911', 3600))"
     ],
     "language": "python",
     "metadata": {},
     "outputs": []
    },
    {
     "cell_type": "heading",
     "level": 3,
     "metadata": {},
     "source": [
      "``__hash__``"
     ]
    },
    {
     "cell_type": "code",
     "collapsed": false,
     "input": [
      "class T:\n",
      "    \n",
      "    def __hash__(self):\n",
      "        return hash(\"fake hash\")\n",
      "\n",
      "{T(): 1}\n",
      "        "
     ],
     "language": "python",
     "metadata": {},
     "outputs": []
    },
    {
     "cell_type": "code",
     "collapsed": false,
     "input": [
      "hash(\"fake hash\")"
     ],
     "language": "python",
     "metadata": {},
     "outputs": []
    },
    {
     "cell_type": "heading",
     "level": 3,
     "metadata": {},
     "source": [
      "``__nonzero__``"
     ]
    },
    {
     "cell_type": "code",
     "collapsed": false,
     "input": [
      "class T:\n",
      "    \n",
      "    def __nonzero__(self):\n",
      "        print id(self)\n",
      "        if id(self) / 10 % 2 :\n",
      "            return True\n",
      "        else:\n",
      "            return False\n",
      "t = T()\n",
      "print bool(t)        "
     ],
     "language": "python",
     "metadata": {},
     "outputs": []
    },
    {
     "cell_type": "heading",
     "level": 3,
     "metadata": {},
     "source": [
      "Emulacja typu kontenera (cd..)"
     ]
    },
    {
     "cell_type": "code",
     "collapsed": false,
     "input": [
      "class T():\n",
      "   \n",
      "    c = [1, 2, 3]\n",
      "\n",
      "    def __len__(self):\n",
      "        return len(self.c)\n",
      "    \n",
      "    def __contains__(self, x):\n",
      "        return x in self.c\n",
      "    \n",
      "    def __iter__(self):\n",
      "        for x in self.c:\n",
      "            yield x\n",
      "    \n",
      "t = T()\n",
      "print len(t)\n",
      "print 2 in t"
     ],
     "language": "python",
     "metadata": {},
     "outputs": []
    },
    {
     "cell_type": "code",
     "collapsed": false,
     "input": [
      "iter(t)"
     ],
     "language": "python",
     "metadata": {},
     "outputs": []
    },
    {
     "cell_type": "code",
     "collapsed": false,
     "input": [
      "list(iter(t))"
     ],
     "language": "python",
     "metadata": {},
     "outputs": []
    },
    {
     "cell_type": "code",
     "collapsed": false,
     "input": [
      "for c in t:\n",
      "    print c"
     ],
     "language": "python",
     "metadata": {},
     "outputs": []
    },
    {
     "cell_type": "code",
     "collapsed": false,
     "input": [
      "print 1 in t\n",
      "print 5 in t"
     ],
     "language": "python",
     "metadata": {},
     "outputs": []
    },
    {
     "cell_type": "heading",
     "level": 2,
     "metadata": {},
     "source": [
      "New-style class vs classic classes"
     ]
    },
    {
     "cell_type": "code",
     "collapsed": false,
     "input": [
      "class T:\n",
      "    \n",
      "    pass\n",
      "\n",
      "\n",
      "print type(T)\n",
      "print type(T())\n",
      "print T()"
     ],
     "language": "python",
     "metadata": {},
     "outputs": []
    },
    {
     "cell_type": "code",
     "collapsed": false,
     "input": [
      "class T(object):\n",
      "    \n",
      "    pass\n",
      "\n",
      "\n",
      "print type(T)\n",
      "print T()"
     ],
     "language": "python",
     "metadata": {},
     "outputs": []
    },
    {
     "cell_type": "markdown",
     "metadata": {},
     "source": [
      "* obiekty \"starych\" klas pythona s\u0105 realizowane przy u\u017cyciu jednego wbudowanego typu \"instance\"\n",
      "* obiekty nowych klas, s\u0105 ni mniej ni wi\u0119cej definiowanym przez u\u017cytkownika nowym typem\n",
      "* stare klasy wyst\u0119puj\u0105 tylko w Pythonie 2.x jako kompatybilno\u015b\u0107 wsteczna. Python 3 nie posiada ich"
     ]
    },
    {
     "cell_type": "code",
     "collapsed": false,
     "input": [
      "class MyClass(): # old-style\n",
      "\n",
      "    def __init__(self, param): \n",
      "        print 'init', param \n",
      "\n",
      "    def __new__(cls, param): # nigdy nie wolany\n",
      "        print cls.__name__, param\n",
      "        print 'calling', cls\n",
      "        return object.__new__(cls) \n",
      "\n",
      "    \n",
      "MyClass(1)"
     ],
     "language": "python",
     "metadata": {},
     "outputs": []
    },
    {
     "cell_type": "code",
     "collapsed": false,
     "input": [
      "class MyClass(object): # new-style\n",
      "\n",
      "    def __init__(self, param): \n",
      "        print 'init', param \n",
      "\n",
      "    def __new__(cls, param):\n",
      "        print cls.__name__, param\n",
      "        print 'calling', cls\n",
      "        return object.__new__(cls) \n",
      "\n",
      "    \n",
      "MyClass(1)"
     ],
     "language": "python",
     "metadata": {},
     "outputs": []
    },
    {
     "cell_type": "heading",
     "level": 2,
     "metadata": {},
     "source": [
      "Proste dziedziczenie"
     ]
    },
    {
     "cell_type": "code",
     "collapsed": false,
     "input": [
      "class Animal(object):\n",
      "    \n",
      "    def __init__(self, name):\n",
      "        self.name = name\n",
      "        \n",
      "    def sound(self):\n",
      "        raise NotImplementedError(\"Zwierze musi miec gatunek!\")\n",
      "        \n",
      "    def evolution_tree(self):\n",
      "        return ['animal']\n",
      "        \n",
      "        \n",
      "janek = Animal(\"Janek\")\n",
      "print janek.sound()\n",
      "\n"
     ],
     "language": "python",
     "metadata": {},
     "outputs": []
    },
    {
     "cell_type": "code",
     "collapsed": false,
     "input": [
      "class Dog(Animal):\n",
      "    \n",
      "    def sound(self):\n",
      "        return \"bark bark!\"\n",
      "    \n",
      "    def evolution_tree(self):\n",
      "        evolution = super(Dog, self).evolution_tree()\n",
      "        return ['dog'] + evolution \n",
      "    \n",
      "    \n",
      "class Cat(Animal):\n",
      "\n",
      "    def sound(self):\n",
      "        return \"meeeeeoooow!\"\n",
      "\n",
      "    def evolution_tree(self):\n",
      "        evolution = super(Cat, self).evolution_tree()\n",
      "        return ['cat'] + evolution \n",
      "    \n",
      "    \n",
      "ziutek = Dog(\"Ziutek\")\n",
      "print ziutek.sound()\n",
      "\n",
      "lucek = Cat(\"Lucek\")\n",
      "print lucek.sound()\n",
      "\n",
      "print ziutek.evolution_tree()"
     ],
     "language": "python",
     "metadata": {},
     "outputs": []
    },
    {
     "cell_type": "code",
     "collapsed": false,
     "input": [
      "class CatDog(Cat, Dog):    \n",
      "    pass\n",
      "\n",
      "\n",
      "class DogCat(Dog, Cat):\n",
      "    pass\n",
      "\n",
      "\n",
      "mutant1 = CatDog(\"Xoxox\")\n",
      "mutant2 = DogCat(\"Yoyoy\")\n",
      "print mutant1.sound(), mutant1.evolution_tree()\n",
      "print mutant2.sound(), mutant2.evolution_tree()"
     ],
     "language": "python",
     "metadata": {},
     "outputs": []
    },
    {
     "cell_type": "code",
     "collapsed": false,
     "input": [
      "class Animal(object):\n",
      "    \n",
      "    def __init__(self):\n",
      "        self.name = self.__class__.__name__\n",
      "        \n",
      "    def sound(self):\n",
      "        return self.name + ' goes '\n",
      "    \n",
      "    \n",
      "class Furry(Animal):\n",
      "    \n",
      "    def sound(self):\n",
      "        return 'ding ding ding ding '\n",
      "    \n",
      "    \n",
      "class Tailed(Animal):\n",
      "    \n",
      "    def sound(self):\n",
      "        me = 'a-pee-a-ka-choo!'\n",
      "        parent = super(Tailed, self).sound()\n",
      "        return parent + me"
     ],
     "language": "python",
     "metadata": {},
     "outputs": []
    },
    {
     "cell_type": "code",
     "collapsed": false,
     "input": [
      "class Fox(Furry):\n",
      "    \n",
      "    pass\n",
      "\n",
      "\n",
      "print Fox().sound()"
     ],
     "language": "python",
     "metadata": {},
     "outputs": []
    },
    {
     "cell_type": "code",
     "collapsed": false,
     "input": [
      "class Fox(Tailed):\n",
      "    \n",
      "    pass\n",
      "\n",
      "\n",
      "print Fox().sound()"
     ],
     "language": "python",
     "metadata": {},
     "outputs": []
    },
    {
     "cell_type": "code",
     "collapsed": false,
     "input": [
      "class Fox(Furry, Tailed):\n",
      "    \n",
      "    pass\n",
      "\n",
      "\n",
      "print Fox().sound()"
     ],
     "language": "python",
     "metadata": {},
     "outputs": []
    },
    {
     "cell_type": "code",
     "collapsed": false,
     "input": [
      "class Fox(Tailed, Furry):\n",
      "    \n",
      "    pass\n",
      "\n",
      "\n",
      "print Fox().sound()"
     ],
     "language": "python",
     "metadata": {},
     "outputs": []
    },
    {
     "cell_type": "code",
     "collapsed": false,
     "input": [
      "Fox.__mro__"
     ],
     "language": "python",
     "metadata": {},
     "outputs": []
    },
    {
     "cell_type": "heading",
     "level": 2,
     "metadata": {},
     "source": [
      "flightweight pattern = ``__new__()`` + weakref"
     ]
    },
    {
     "cell_type": "markdown",
     "metadata": {},
     "source": [
      "* Fabryka singleton\u00f3w\n",
      "* Stosujemy wtedy kiedy mamy **wiele obiekt\u00f3w** danego typu ale **niewiele r\u00f3\u017cnych warto\u015bci** tych obiekt\u00f3w\n",
      "* Stan obiektu (jego warto\u015b\u0107) powinna by\u0107 mo\u017cliwa do wyabstrahowania\n",
      "* Wsp\u00f3\u0142dzielenie obiekt\u00f3w w celu zaoszcz\u0119dzenia zasob\u00f3w\n",
      "* Obiekty tworzymy za pomoc\u0105\u00a0fabryki, nowy je\u015bli nie ma, stary je\u015bli mo\u017cemy reu\u017cytkowa\u0107\n",
      "* Nieprawid\u0142owa implementacja mo\u017ce prowadzi\u0107\u00a0do wyciek\u00f3w pamieci"
     ]
    },
    {
     "cell_type": "code",
     "collapsed": false,
     "input": [
      "values = ('2', '3', '4', '5', '6', '7', '8', '9', '10', 'J', 'Q', 'K', 'A')\n",
      "suits = ('h', 'c', 'd', 's')\n",
      " \n",
      "class Card:\n",
      "    \n",
      "    def __init__(self, value, suit):\n",
      "        self.value, self.suit = value, suit\n",
      "\n",
      "    def __repr__(self):\n",
      "        return \"<Card: %s%s>\" % (self.value, self.suit)\n",
      "\n",
      "    def __eq__(self, card):\n",
      "        return self.value == card.value and self.suit == card.suit\n",
      "\n",
      "    def __ne__(self, card):\n",
      "       return not self.__eq__(card)"
     ],
     "language": "python",
     "metadata": {},
     "outputs": []
    },
    {
     "cell_type": "code",
     "collapsed": false,
     "input": [
      "c1 = Card('J', 'h')\n",
      "c1"
     ],
     "language": "python",
     "metadata": {},
     "outputs": []
    },
    {
     "cell_type": "code",
     "collapsed": false,
     "input": [
      "c2 = Card('J', 'h')"
     ],
     "language": "python",
     "metadata": {},
     "outputs": []
    },
    {
     "cell_type": "code",
     "collapsed": false,
     "input": [
      "c1 == c2"
     ],
     "language": "python",
     "metadata": {},
     "outputs": []
    },
    {
     "cell_type": "code",
     "collapsed": false,
     "input": [
      "id(c1), id(c2)"
     ],
     "language": "python",
     "metadata": {},
     "outputs": []
    },
    {
     "cell_type": "code",
     "collapsed": false,
     "input": [
      "id(c1) == id(c2)"
     ],
     "language": "python",
     "metadata": {},
     "outputs": []
    },
    {
     "cell_type": "code",
     "collapsed": false,
     "input": [
      "c1 is c2"
     ],
     "language": "python",
     "metadata": {},
     "outputs": []
    },
    {
     "cell_type": "code",
     "collapsed": false,
     "input": [
      "import weakref\n",
      "\n",
      "class FlightweightCard(object):\n",
      "    \n",
      "    _CardPool = weakref.WeakValueDictionary()\n",
      "\n",
      "    def __new__(cls, value, suit):\n",
      "        obj = FlightweightCard._CardPool.get(value + suit, None)\n",
      "        if obj is None:\n",
      "            obj = object.__new__(cls)\n",
      "            FlightweightCard._CardPool[value + suit] = obj\n",
      "            obj.value, obj.suit = value, suit\n",
      "\n",
      "        return obj\n",
      "    \n",
      "    def __repr__(self):\n",
      "        return \"<Card: %s%s>\" % (self.value, self.suit)"
     ],
     "language": "python",
     "metadata": {},
     "outputs": []
    },
    {
     "cell_type": "code",
     "collapsed": false,
     "input": [
      "c3 = FlightweightCard('J', 'h')\n",
      "c4 = FlightweightCard('J', 'h')\n",
      "c5 = FlightweightCard('2', 'h')"
     ],
     "language": "python",
     "metadata": {},
     "outputs": []
    },
    {
     "cell_type": "code",
     "collapsed": false,
     "input": [
      "c3 == c4"
     ],
     "language": "python",
     "metadata": {},
     "outputs": []
    },
    {
     "cell_type": "code",
     "collapsed": false,
     "input": [
      "id(c3) == id(c4)"
     ],
     "language": "python",
     "metadata": {},
     "outputs": []
    },
    {
     "cell_type": "code",
     "collapsed": false,
     "input": [
      "c3 is c4"
     ],
     "language": "python",
     "metadata": {},
     "outputs": []
    },
    {
     "cell_type": "code",
     "collapsed": false,
     "input": [
      "print FlightweightCard._CardPool.items()"
     ],
     "language": "python",
     "metadata": {},
     "outputs": []
    },
    {
     "cell_type": "code",
     "collapsed": false,
     "input": [
      "c3 = FlightweightCard('J', 'h')\n",
      "c4 = FlightweightCard('J', 'h')\n",
      "c5 = FlightweightCard('2', 'h')\n",
      "\n",
      "print 'There are three cards', c3, c4, c5\n",
      "\n",
      "print c3, 'is', c4, '?', c3 is c4\n",
      "print c3, 'is', c5, '?', c3 is c5\n",
      "\n",
      "print 'Removing', c3\n",
      "del c3\n",
      "print 'Weakreferences', FlightweightCard._CardPool.items()\n",
      "\n",
      "print 'Removing', c4\n",
      "del c4\n",
      "print 'Weakreferences', FlightweightCard._CardPool.items()\n",
      "\n"
     ],
     "language": "python",
     "metadata": {},
     "outputs": []
    },
    {
     "cell_type": "heading",
     "level": 2,
     "metadata": {},
     "source": [
      "Wyj\u0105tki s\u0105 te\u017c klasami!"
     ]
    },
    {
     "cell_type": "code",
     "collapsed": false,
     "input": [
      "5 + '5'"
     ],
     "language": "python",
     "metadata": {},
     "outputs": []
    },
    {
     "cell_type": "code",
     "collapsed": false,
     "input": [
      "try:\n",
      "    5 + '5'\n",
      "except TypeError:\n",
      "    print 'no-no'"
     ],
     "language": "python",
     "metadata": {},
     "outputs": []
    },
    {
     "cell_type": "code",
     "collapsed": false,
     "input": [
      "try:\n",
      "    5 + '5'\n",
      "except TypeError, e:\n",
      "    print type(e), e"
     ],
     "language": "python",
     "metadata": {},
     "outputs": []
    },
    {
     "cell_type": "code",
     "collapsed": false,
     "input": [
      "try:\n",
      "    5 + '5'\n",
      "except (TypeError, KeyError), e:\n",
      "    print type(e), e"
     ],
     "language": "python",
     "metadata": {},
     "outputs": []
    },
    {
     "cell_type": "code",
     "collapsed": false,
     "input": [
      "try:\n",
      "    dict()[3]\n",
      "except TypeError, e:\n",
      "    print type(e), e\n",
      "except KeyError, e:\n",
      "    print \"it's only key error\""
     ],
     "language": "python",
     "metadata": {},
     "outputs": []
    },
    {
     "cell_type": "code",
     "collapsed": false,
     "input": [
      "class WrongAnswerError(Exception):\n",
      "    pass\n",
      "\n",
      "try:\n",
      "    raise WrongAnswerError('wrong wrong wrong!')\n",
      "except WrongAnswerError:\n",
      "    print 'good good good'\n",
      "finally:\n",
      "    print 'bye!'"
     ],
     "language": "python",
     "metadata": {},
     "outputs": []
    },
    {
     "cell_type": "code",
     "collapsed": false,
     "input": [
      "class A(object):\n",
      "    pass\n",
      "\n",
      "raise A"
     ],
     "language": "python",
     "metadata": {},
     "outputs": []
    },
    {
     "cell_type": "code",
     "collapsed": false,
     "input": [
      "import sys, traceback\n",
      "\n",
      "def lumberjack():\n",
      "    bright_side_of_death()\n",
      "\n",
      "def bright_side_of_death():\n",
      "    return tuple()[0]\n",
      "\n",
      "try:\n",
      "    lumberjack()\n",
      "except IndexError:\n",
      "    exc_type, exc_value, exc_traceback = sys.exc_info()\n",
      "    print \"*** print_tb:\"\n",
      "    traceback.print_tb(exc_traceback, limit=1, file=sys.stdout)\n",
      "    print \"*** print_exception:\"\n",
      "    traceback.print_exception(exc_type, exc_value, exc_traceback,\n",
      "                              limit=2, file=sys.stdout)\n",
      "    print \"*** print_exc:\"\n",
      "    traceback.print_exc()\n",
      "    print \"*** format_exc, first and last line:\"\n",
      "    formatted_lines = traceback.format_exc().splitlines()\n",
      "    print formatted_lines[0]\n",
      "    print formatted_lines[-1]\n",
      "    print \"*** format_exception:\"\n",
      "    print repr(traceback.format_exception(exc_type, exc_value,\n",
      "                                          exc_traceback))\n",
      "    print \"*** extract_tb:\"\n",
      "    print repr(traceback.extract_tb(exc_traceback))\n",
      "    print \"*** format_tb:\"\n",
      "    print repr(traceback.format_tb(exc_traceback))\n",
      "    print \"*** tb_lineno:\", exc_traceback.tb_lineno"
     ],
     "language": "python",
     "metadata": {},
     "outputs": []
    },
    {
     "cell_type": "heading",
     "level": 3,
     "metadata": {},
     "source": [
      "Wyj\u0105tki i dekoratory"
     ]
    },
    {
     "cell_type": "code",
     "collapsed": false,
     "input": [
      "class retry(object):\n",
      "    \n",
      "    def __init__(self, num):\n",
      "        self.num = num\n",
      "    \n",
      "    def __call__(self, f):\n",
      "        def wrapped():\n",
      "            while True:\n",
      "                try:\n",
      "                    f()\n",
      "                except Exception, e:\n",
      "                    if self.num > 0:\n",
      "                        print 'Retry', self.num\n",
      "                        self.num -= 1\n",
      "                    else:\n",
      "                        raise e\n",
      "        return wrapped\n",
      "\n",
      "@retry(10)\n",
      "def i_always_fail():\n",
      "    print 'try'\n",
      "    raise Exception('I always fail')\n",
      "    \n",
      "i_always_fail()"
     ],
     "language": "python",
     "metadata": {},
     "outputs": []
    }
   ],
   "metadata": {}
  }
 ]
}